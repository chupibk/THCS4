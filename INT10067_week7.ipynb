{
 "cells": [
  {
   "cell_type": "markdown",
   "metadata": {},
   "source": [
    "# TIN HỌC CƠ SỞ 4 (IT1006 7)\n",
    "\n",
    "#### Diep Nguyen, Ph.D. (ngocdiep@vnu.edu.vn)\n",
    "\n",
    "# https://github.com/chupibk/THCS4"
   ]
  },
  {
   "cell_type": "markdown",
   "metadata": {},
   "source": [
    "## Ôn lại\n",
    "\n",
    "#### Tuần 5: Mảng\n",
    "\n",
    "`data_type array_name[#_of_element]` hay `vector`\n",
    "\n",
    "--> Mảng kí tự\n",
    "\n",
    "`char arr_name[]` hay `string` ? \n",
    "\n",
    "#### Tuần 6: Nhập xuất với tệp\n",
    "\n",
    "Thư viện **fstream**:\n",
    "- `ofstream, ifstream, fstream`\n",
    "- chế độ mở: `ios::in, ios::out, ios::binary, ios::app`, ... \n",
    "- Kiểm tra lỗi:\n",
    "    + lỗi khi mở: `file_stream.is_open()`\n",
    "    + lỗi khi đọc: `file_stream.fail()`\n"
   ]
  },
  {
   "cell_type": "markdown",
   "metadata": {},
   "source": [
    "## Tuần 7: Hàm\n",
    "\n",
    "- Mục đích\n",
    "- Khai báo, định nghĩa hàm\n",
    "- Cơ chế truyền tham số và trả lại giá trị\n",
    "- Các vấn đề khác với hàm\n"
   ]
  },
  {
   "cell_type": "markdown",
   "metadata": {},
   "source": [
    "# Unfinished business\n",
    "\n",
    "- Đọc từ file gặp giá trị không mong muốn\n",
    "- Chuỗi/Xâu kí tự\n"
   ]
  },
  {
   "cell_type": "code",
   "execution_count": 2,
   "metadata": {},
   "outputs": [
    {
     "name": "stdout",
     "output_type": "stream",
     "text": [
      "Overwriting read_sort_write.cpp\n"
     ]
    }
   ],
   "source": [
    "%%file read_sort_write.cpp\n",
    "\n",
    "//Đọc số, sắp xếp và ghi ra tệp -- Fix bug week6\n",
    "#include<iostream>\n",
    "#include<fstream>\n",
    "#include<algorithm>\n",
    "\n",
    "using namespace std;\n",
    "\n",
    "int main()\n",
    "{\n",
    "    //read data\n",
    "    ifstream filein(\"number1.txt\");\n",
    "    \n",
    "    double a[10];\n",
    "    int n = 0;\n",
    "    //&& n < 10 --> read only ten numbers\n",
    "    while(!filein.eof() && n < 10){\n",
    "        double value;\n",
    "        //Điều gì xảy ra nếu có chuỗi kí tự, thay vì số?\n",
    "        filein >> value;\n",
    "        //Bỏ qua chuỗi kí tự - bug fixed\n",
    "        if (filein.fail()){\n",
    "            filein.clear();\n",
    "            filein.ignore(1, ' ');\n",
    "        } else {\n",
    "            cout << \"Read \" << n + 1 << \": \" << value << \"\\n\";\n",
    "            a[n] = value;\n",
    "            n++;\n",
    "        }\n",
    "        \n",
    "    }\n",
    "    filein.close();\n",
    "    \n",
    "    //Sort and write\n",
    "    ofstream fileout(\"number1_sorted.txt\");\n",
    "    sort(a, a+n);\n",
    "    for(int i = 0; i < n; i++)\n",
    "        fileout << a[i] << \" \";\n",
    "    fileout << endl;\n",
    "    fileout.close();\n",
    "    \n",
    "    return 0;\n",
    "}"
   ]
  },
  {
   "cell_type": "markdown",
   "metadata": {},
   "source": [
    "## Chuỗi/Xâu kí tự\n",
    "\n",
    "Hai loại xâu kí tự:\n",
    "\n",
    "- `std::string` (từ thư viện chuẩn)\n",
    "- C-style strings (natively, as inherited from the C language)\n",
    "    + Là một mảng các kí tự kết thúc bởi một **null terminator**\n",
    "    + Một null terminator là một kí tự đặc biệt (`'\\0'`, mã ascii là 0) dùng để đánh dấu kết thúc chuỗi kí tự\n",
    "    + Một C-style string còn được gọi là một `null-terminated string`"
   ]
  },
  {
   "cell_type": "code",
   "execution_count": 3,
   "metadata": {},
   "outputs": [],
   "source": [
    "#include<iostream>\n",
    "\n",
    "using namespace std;"
   ]
  },
  {
   "cell_type": "code",
   "execution_count": 4,
   "metadata": {},
   "outputs": [],
   "source": [
    "string name = \"chupi\";"
   ]
  },
  {
   "cell_type": "code",
   "execution_count": 18,
   "metadata": {},
   "outputs": [],
   "source": [
    "// gán lại đơn giản\n",
    "name = \"teddy\";"
   ]
  },
  {
   "cell_type": "code",
   "execution_count": 19,
   "metadata": {},
   "outputs": [
    {
     "name": "stdout",
     "output_type": "stream",
     "text": [
      "5"
     ]
    }
   ],
   "source": [
    "// độ dài xâu kí tự\n",
    "cout << name.length();"
   ]
  },
  {
   "cell_type": "code",
   "execution_count": 20,
   "metadata": {},
   "outputs": [
    {
     "name": "stdout",
     "output_type": "stream",
     "text": [
      "5"
     ]
    }
   ],
   "source": [
    "// length() và size() như nhau\n",
    "cout << name.size();"
   ]
  },
  {
   "cell_type": "code",
   "execution_count": 25,
   "metadata": {},
   "outputs": [
    {
     "name": "stdout",
     "output_type": "stream",
     "text": [
      "t e d d y #"
     ]
    },
    {
     "data": {
      "text/plain": [
       "@0x111e4e010"
      ]
     },
     "execution_count": 25,
     "metadata": {},
     "output_type": "execute_result"
    }
   ],
   "source": [
    "// truy xuất, duyệt như bình thường\n",
    "for (int i = 0; i < name.length(); i++){\n",
    "    cout << name[i] << \" \";\n",
    "}\n",
    "cout << \"#\"; //To see when it ends"
   ]
  },
  {
   "cell_type": "code",
   "execution_count": 12,
   "metadata": {},
   "outputs": [],
   "source": [
    "char myname[] = \"teddy\"; // C-style"
   ]
  },
  {
   "cell_type": "code",
   "execution_count": 46,
   "metadata": {},
   "outputs": [
    {
     "name": "stdout",
     "output_type": "stream",
     "text": [
      "6"
     ]
    }
   ],
   "source": [
    "// độ dài xâu có tính thêm null terminator\n",
    "cout << sizeof(myname) / sizeof(myname[0]);"
   ]
  },
  {
   "cell_type": "code",
   "execution_count": 47,
   "metadata": {},
   "outputs": [
    {
     "name": "stdout",
     "output_type": "stream",
     "text": [
      "5"
     ]
    }
   ],
   "source": [
    "// Nếu k muốn tính thêm null terminator\n",
    "cout << strlen(myname);"
   ]
  },
  {
   "cell_type": "code",
   "execution_count": 27,
   "metadata": {},
   "outputs": [
    {
     "name": "stdout",
     "output_type": "stream",
     "text": [
      "t e d d y \u0000 #"
     ]
    },
    {
     "data": {
      "text/plain": [
       "@0x111e4e010"
      ]
     },
     "execution_count": 27,
     "metadata": {},
     "output_type": "execute_result"
    }
   ],
   "source": [
    "// Truy xuất và duyệt\n",
    "for (int i = 0; i < 6; i++){\n",
    "    cout << myname[i] << \" \";\n",
    "}\n",
    "cout << \"#\"; //to see when it ends"
   ]
  },
  {
   "cell_type": "code",
   "execution_count": 28,
   "metadata": {},
   "outputs": [
    {
     "name": "stdout",
     "output_type": "stream",
     "text": [
      "116 101 100 100 121 0 "
     ]
    }
   ],
   "source": [
    "// Hoặc ép kiểu\n",
    "for (int i = 0; i < 6; i++){\n",
    "    cout << (int) myname[i] << \" \";\n",
    "}\n"
   ]
  },
  {
   "cell_type": "code",
   "execution_count": 29,
   "metadata": {},
   "outputs": [],
   "source": [
    "// What is that 0?"
   ]
  },
  {
   "cell_type": "code",
   "execution_count": null,
   "metadata": {},
   "outputs": [],
   "source": [
    "// Output là gì, tại sao?\n",
    "// name kiểu std::string\n",
    "cout << sizeof(name) / sizeof(name[0]);"
   ]
  },
  {
   "cell_type": "code",
   "execution_count": null,
   "metadata": {},
   "outputs": [],
   "source": [
    "// Gán lại xâu C-style?\n",
    "myname = \"chupi\";"
   ]
  },
  {
   "cell_type": "code",
   "execution_count": 37,
   "metadata": {},
   "outputs": [],
   "source": [
    "// Sửa null terminator?\n",
    "myname[5]= 'x';"
   ]
  },
  {
   "cell_type": "code",
   "execution_count": 39,
   "metadata": {},
   "outputs": [
    {
     "name": "stdout",
     "output_type": "stream",
     "text": [
      "t e d d y x "
     ]
    }
   ],
   "source": [
    "for (int i = 0; i < 6; i++){\n",
    "    cout << myname[i] << \" \";\n",
    "}"
   ]
  },
  {
   "cell_type": "code",
   "execution_count": 40,
   "metadata": {},
   "outputs": [
    {
     "name": "stdout",
     "output_type": "stream",
     "text": [
      "6"
     ]
    }
   ],
   "source": [
    "cout << sizeof(myname)/sizeof(myname[0]);"
   ]
  },
  {
   "cell_type": "code",
   "execution_count": 41,
   "metadata": {},
   "outputs": [
    {
     "name": "stdout",
     "output_type": "stream",
     "text": [
      "6"
     ]
    }
   ],
   "source": [
    "cout << strlen(myname);"
   ]
  },
  {
   "cell_type": "code",
   "execution_count": 45,
   "metadata": {},
   "outputs": [
    {
     "name": "stdout",
     "output_type": "stream",
     "text": [
      "5"
     ]
    }
   ],
   "source": [
    "cout << strlen(newname);"
   ]
  },
  {
   "cell_type": "code",
   "execution_count": 44,
   "metadata": {},
   "outputs": [],
   "source": [
    "// Cách sửa xâu C-style\n",
    "char newname[] = \"teddy\";\n",
    "\n",
    "for (int i = 0; i < 6; i ++){\n",
    "    myname[i] = newname[i];\n",
    "}"
   ]
  },
  {
   "cell_type": "code",
   "execution_count": 56,
   "metadata": {},
   "outputs": [
    {
     "name": "stdout",
     "output_type": "stream",
     "text": [
      "0"
     ]
    },
    {
     "data": {
      "text/plain": [
       "@0x111e4e010"
      ]
     },
     "execution_count": 56,
     "metadata": {},
     "output_type": "execute_result"
    }
   ],
   "source": [
    "// So sánh xâu, trả lại 0 nếu equal\n",
    "cout << strcmp(myname, newname)"
   ]
  },
  {
   "cell_type": "code",
   "execution_count": 59,
   "metadata": {},
   "outputs": [
    {
     "name": "stderr",
     "output_type": "stream",
     "text": [
      "\u001b[1minput_line_77:2:2: \u001b[0m\u001b[0;1;31merror: \u001b[0m\u001b[1mno matching function for call to 'strcmp'\u001b[0m\n",
      " strcmp(name, myname)\n",
      "\u001b[0;1;32m ^~~~~~\n",
      "\u001b[0m\u001b[1m/usr/include/string.h:77:6: \u001b[0m\u001b[0;1;30mnote: \u001b[0mcandidate function not viable: no known conversion from 'std::__1::string' (aka 'basic_string<char, char_traits<char>, allocator<char> >')\n",
      "      to 'const char *' for 1st argument\u001b[0m\n",
      "int      strcmp(const char *, const char *);\n",
      "\u001b[0;1;32m         ^\n",
      "\u001b[0m"
     ]
    },
    {
     "ename": "Interpreter Error",
     "evalue": "",
     "output_type": "error",
     "traceback": [
      "Interpreter Error: "
     ]
    }
   ],
   "source": [
    "//compare std::string với c-style string?\n",
    "strcmp(name, myname)"
   ]
  },
  {
   "cell_type": "code",
   "execution_count": 61,
   "metadata": {},
   "outputs": [
    {
     "name": "stdout",
     "output_type": "stream",
     "text": [
      "2"
     ]
    }
   ],
   "source": [
    "// C-style can lead to security problems\n",
    "// A null terminator inserted into the middle\n",
    "// of a string will truncate it unexpectedly\n",
    "myname[2] = '\\0';\n",
    "cout << strlen(myname);"
   ]
  },
  {
   "cell_type": "code",
   "execution_count": 64,
   "metadata": {},
   "outputs": [
    {
     "name": "stdout",
     "output_type": "stream",
     "text": [
      "teddy\n",
      "teddy"
     ]
    }
   ],
   "source": [
    "// In xâu ra màn hình, đơn giản hơn in mảng\n",
    "cout << name;\n",
    "cout << endl;\n",
    "cout << newname;"
   ]
  },
  {
   "cell_type": "code",
   "execution_count": 68,
   "metadata": {},
   "outputs": [],
   "source": [
    "// C-style string, không in ra null-terminator\n",
    "char lname[25] = \"Zelda\";"
   ]
  },
  {
   "cell_type": "code",
   "execution_count": 70,
   "metadata": {},
   "outputs": [
    {
     "name": "stdout",
     "output_type": "stream",
     "text": [
      "Zelda\n",
      "5\n",
      "25\n"
     ]
    }
   ],
   "source": [
    "cout << lname << endl;\n",
    "cout << strlen(lname) << endl;\n",
    "cout << sizeof(lname) / sizeof(lname[0]) << endl;"
   ]
  },
  {
   "cell_type": "markdown",
   "metadata": {},
   "source": [
    "#### Suggestion: Don't use C-style string! :D"
   ]
  },
  {
   "cell_type": "markdown",
   "metadata": {},
   "source": [
    "# Functions"
   ]
  },
  {
   "cell_type": "markdown",
   "metadata": {},
   "source": [
    "## Hàm để làm gì?\n",
    "\n",
    "- Chia bài toán lớn thành các bài toán nhỏ\n",
    "- Tách khái niệm ra khỏi cài đặt\n",
    "    + chương trình dễ hiểu hơn\n",
    "    + giấu phần cài đặt (tạo các *black box*)\n",
    "- Tránh code lặp lại\n",
    "- Lập trình có cấu trúc (**structured programming**)\n",
    "\n",
    "## Hàm Input/Ouput\n",
    "   \n",
    "```\n",
    "                |------------------|\n",
    "Parameters ---->|     Function     | ----> Result\n",
    "                |------------------|\n",
    "```\n",
    "\n",
    "- Định nghĩa hàm như thế nào?\n",
    "- Truyền tham số cho hàm như thế nào?\n",
    "- Trả lại giá trị như thế nào?"
   ]
  },
  {
   "cell_type": "markdown",
   "metadata": {},
   "source": [
    "### 1. Định nghĩa hàm\n",
    "\n",
    "###### (1) Khai báo nguyên mẫu hàm\n",
    "\n",
    "Khai báo và định nghĩa hàm riêng lẻ.\n",
    "\n",
    "\n",
    "Khai báo:\n",
    "\n",
    "`return_type function_name(<parameter list>)`;\n",
    "\n",
    "Định nghĩa:\n",
    "\n",
    "`return_type function_name(<parameter list>)`\n",
    "\n",
    "`{`\n",
    "\n",
    " `<local declarations>`\n",
    " \n",
    " `<sequence of statements>`\n",
    " \n",
    "`}\n",
    "`\n",
    "\n",
    "###### (2) Định nghĩa hàm không cần nguyên mẫu\n",
    "\n"
   ]
  },
  {
   "cell_type": "code",
   "execution_count": null,
   "metadata": {},
   "outputs": [],
   "source": [
    "//Ví dụ dùng nguyên mẫu\n",
    "int absolute(int x); //function prototype\n",
    "\n",
    "int main(){ ...\n",
    "    a = absolute(b); //function use\n",
    "}\n",
    "\n",
    "int absolute(int x){ //function definition\n",
    "    return (x >=0 ? x : -x);\n",
    "}"
   ]
  },
  {
   "cell_type": "code",
   "execution_count": null,
   "metadata": {},
   "outputs": [],
   "source": [
    "// Ví dụ định nghĩa không cần nguyên mẫu\n",
    "// Chú ý vị trí\n",
    "\n",
    "int absolute(int x){ //function definition\n",
    "    return (x >=0 ? x : -x);\n",
    "}\n",
    "\n",
    "int main(){ ...\n",
    "    a = absolute(b); //function use\n",
    "}"
   ]
  },
  {
   "cell_type": "markdown",
   "metadata": {},
   "source": [
    "### Truyền tham số cho hàm\n",
    "\n",
    "3 cách:\n",
    "\n",
    "- pass-by-value\n",
    "- pass-by-reference\n",
    "- pass-by-address\n",
    "    + Tuần 8 :)"
   ]
  },
  {
   "cell_type": "markdown",
   "metadata": {},
   "source": [
    "#### (1) Pass-by-value\n",
    "\n",
    "```\n",
    "int argument1;\n",
    "double argument2;\n",
    "\n",
    "//function call (in another function, e.g., main)\n",
    "result = thefunctionname(argument1, argument2)\n",
    "                            | copy       |\n",
    "                            | giá trị     \\\n",
    "//function definition       |              \\\n",
    "int thefunctionname(int parameter1, double parameter2){\n",
    "    //Now the function can use two parameters\n",
    "    //with parameter1 = argument1, parameter2 = argument2\n",
    "}\n",
    "\n",
    "```\n",
    "\n",
    "**Notes**\n",
    "\n",
    "- function call: truyền *arguments* (tham trị)\n",
    "- function definition: định nghĩa *parameters* (tham số)\n",
    "- pass-by-value: **giá trị** của tham trị được copy vào tham số\n",
    "  --> Thay đổi các giá trị này trong hàm\n",
    "  không ảnh hưởng đến giá trị ban đầu "
   ]
  },
  {
   "cell_type": "code",
   "execution_count": null,
   "metadata": {},
   "outputs": [],
   "source": [
    "// Ví dụ tráo đổi hai số\n",
    "// Kết quả in ra màn hình là gì và tại sao?\n",
    "\n",
    "void swap(int x, int y){\n",
    "    int t = x; x = y; y = t;\n",
    "}\n",
    "\n",
    "int main(){\n",
    "    int a = 2;\n",
    "    int b = 3;\n",
    "    swap(a, b);\n",
    "    cout << a << \", \" << b;\n",
    "}"
   ]
  },
  {
   "cell_type": "code",
   "execution_count": 76,
   "metadata": {},
   "outputs": [
    {
     "name": "stdout",
     "output_type": "stream",
     "text": [
      "Overwriting return_two_values.cpp\n"
     ]
    }
   ],
   "source": [
    "%%file return_two_values.cpp\n",
    "\n",
    "// Vẫn muốn dùng pass-by-value?\n",
    "// Cách duy nhất để trả lại giá trị thay đổi là qua return value\n",
    "\n",
    "\n",
    "#include<iostream>\n",
    "#include<tuple>\n",
    "\n",
    "std::tuple<int,int> swap(int a, int b){\n",
    "    return std::make_tuple(b, a);\n",
    "}\n",
    "\n",
    "int main()\n",
    "{\n",
    "    int a = 2;\n",
    "    int b = 3;\n",
    "    std::tie(a, b) = swap(a, b);\n",
    "    std::cout << a << \", \" << b << std::endl;\n",
    "    \n",
    "    return 0;\n",
    "}"
   ]
  },
  {
   "cell_type": "markdown",
   "metadata": {},
   "source": [
    "#### (2) Pass-by-reference\n",
    "\n",
    "Thay thế cho (1) pass-by-value và giải quyết:\n",
    "- sao chép dữ liệu của tham trị\n",
    "- sửa giá trị của tham trị\n",
    "\n",
    "Và có thể dùng để:\n",
    "- trả lại nhiều giá trị cùng lúc (return multiple values via out parameters)"
   ]
  },
  {
   "cell_type": "code",
   "execution_count": null,
   "metadata": {},
   "outputs": [],
   "source": [
    "// Ví dụ tráo đổi hai số\n",
    "// kết quả in ra màn hình là gì?\n",
    "\n",
    "void swap(int& x, int& y){\n",
    "    int t = x; x = y; y = t;\n",
    "}\n",
    "\n",
    "int main(){\n",
    "    int a = 2;\n",
    "    int b = 3;\n",
    "    swap(a, b);\n",
    "    cout << a << \", \" << b;\n",
    "}"
   ]
  },
  {
   "cell_type": "code",
   "execution_count": null,
   "metadata": {},
   "outputs": [],
   "source": [
    "void addOne(int &y){// y là biến tham chiếu\n",
    "    y = y + 1;\n",
    "    // không cần return!\n",
    "} //y is destroyed here\n",
    "\n",
    "int main()\n",
    "{\n",
    "    int value = 5;\n",
    "    cout << \"value = \" << value << \"\\n\";\n",
    "    addOne(value);\n",
    "    cout << \"value = \" << value << \"\\n\";\n",
    "    return 0;\n",
    "}"
   ]
  },
  {
   "cell_type": "code",
   "execution_count": 78,
   "metadata": {},
   "outputs": [
    {
     "name": "stdout",
     "output_type": "stream",
     "text": [
      "Overwriting return_mul_ref.cpp\n"
     ]
    }
   ],
   "source": [
    "%%file return_mul_ref.cpp\n",
    "\n",
    "// ví dụ trả lại nhiều giá trị\n",
    "#include<iostream>\n",
    "#include<cmath>\n",
    "\n",
    "void getSinCos(double degrees, double &sinOut, double &cosOut){\n",
    "    //std::sin() và std::cos() take radians\n",
    "    // convert degree to radian\n",
    "    const double pi = 3.14159265358979323846; // the value of pi\n",
    "    double radians = degrees * pi / 180.0;\n",
    "    sinOut = std::sin(radians);\n",
    "    cosOut = std::cos(radians);\n",
    "}\n",
    "\n",
    "int main()\n",
    "{\n",
    "    double degree = 30.0;\n",
    "    double sin(0.0);\n",
    "    double cos(0.0);\n",
    "    //getSinCos will return the sin and cos in variables sin and cos\n",
    "    getSinCos(degree, sin, cos);\n",
    "    std::cout << \"The sin of \" << degree << \" degree is \" <<\n",
    "        sin << \"\\n\";\n",
    "    std::cout << \"The cos of \" << degree << \" degree is \" <<\n",
    "        cos << \"\\n\";\n",
    "    \n",
    "    return 0;\n",
    "}"
   ]
  },
  {
   "cell_type": "markdown",
   "metadata": {},
   "source": [
    "**Notes**\n",
    "\n",
    "- Tham trị truyền vào giống như pass-by-value\n",
    "- Khi trả lại nhiều giá trị:\n",
    "    + Phải định nghĩa hàm cho cả *in parameters* và *out parameters*\n",
    "    + Lúc gọi cũng phải định nghĩa biến dùng để giữ giá trị thay đổi\n",
    "    + Lúc gọi hàm `getSinCos(degree, sin, cos);` không biết `sin, cos` có thay đổi hay không -> cần documentation rõ ràng.\n",
    "    \n",
    "- Để tránh sửa \n",
    "    + Dùng hằng tham số \n",
    "    + ví dụ: `void f(const string x)`, `void g(const string& y)`"
   ]
  },
  {
   "cell_type": "markdown",
   "metadata": {},
   "source": [
    "### 3. Trả lại giá trị của hàm\n",
    "\n",
    "3 cách:\n",
    "\n",
    "- return by value\n",
    "- return by reference\n",
    "- return by address\n",
    "    + Tuần 8\n",
    "\n",
    "**Notes**\n",
    "\n",
    "Biến cục bộ của hàm sẽ bị ra khỏi phạm vi (out of scope) và bị huỷ khi hàm trả lại (kết thúc)."
   ]
  },
  {
   "cell_type": "markdown",
   "metadata": {},
   "source": [
    "#### Return by value\n",
    "\n",
    "Đơn giản và an toàn nhất\n",
    "\n",
    "*Value*:\n",
    "- literals (e.g., 5)\n",
    "- variables (e.g., `x`)\n",
    "- expressions (e.g., `x+1`)"
   ]
  },
  {
   "cell_type": "code",
   "execution_count": 79,
   "metadata": {},
   "outputs": [],
   "source": [
    "// Ví dụ\n",
    "\n",
    "int doubleValue(int x)\n",
    "{\n",
    "    int value = x * 2;\n",
    "    return value; // a copy of value will be returned here\n",
    "} // value goes out of scope & is destroyed here\n"
   ]
  },
  {
   "cell_type": "markdown",
   "metadata": {},
   "source": [
    "### Return by reference\n",
    "\n",
    "Dùng khi:\n",
    "\n",
    "- Trả lại tham số tham chiếu (a reference parameter)\n",
    "- Trả lại một phần tử của mảng được truyền vào trong hàm\n",
    "- Trả lại một cấu trúc (struct) lớn hay lớp (class) không bị huỷ khi kết thúc hàm (e.g., đối tượng được truyền vào)\n"
   ]
  },
  {
   "cell_type": "code",
   "execution_count": null,
   "metadata": {},
   "outputs": [],
   "source": [
    "// Nên hay không nên\n",
    "\n",
    "int& doubleValue(int x)\n",
    "{\n",
    "    int value = x * 2;\n",
    "    return value; //return a reference to value here\n",
    "}"
   ]
  },
  {
   "cell_type": "code",
   "execution_count": 81,
   "metadata": {},
   "outputs": [
    {
     "name": "stdout",
     "output_type": "stream",
     "text": [
      "Writing return_by_ref.cpp\n"
     ]
    }
   ],
   "source": [
    "%%file return_by_ref.cpp\n",
    "\n",
    "// Typical use of return by reference\n",
    "\n",
    "#include<array>\n",
    "#include<iostream>\n",
    "\n",
    "//return a reference to the index element of array\n",
    "int& getElement(std::array<int, 25> &array, int index)\n",
    "{\n",
    "    return array[index];\n",
    "}\n",
    "\n",
    "int main()\n",
    "{\n",
    "    std::array<int, 25> array;\n",
    "    \n",
    "    //Set the element of array with index 10 to value 5\n",
    "    getElement(array, 10) = 5;\n",
    "    \n",
    "    std::cout << array[10] << \"\\n\";\n",
    "    return 0;\n",
    "}"
   ]
  },
  {
   "cell_type": "markdown",
   "metadata": {},
   "source": [
    "### 4. Các vấn đề khác với hàm\n",
    "\n",
    "##### (1) Giá trị mặc định của tham số\n",
    "\n",
    "- Các tham số mặc định đặt ở cuối\n",
    "- Chỉ có thể khai báo một lần"
   ]
  },
  {
   "cell_type": "code",
   "execution_count": null,
   "metadata": {},
   "outputs": [],
   "source": [
    "int divide(int a, int b = 2)\n",
    "{\n",
    "    int r;\n",
    "    r = a / b;\n",
    "    return r;\n",
    "}\n",
    "\n",
    "int main()\n",
    "{\n",
    "    cout << divide(12) << \"\\n\";\n",
    "    cout << divide(20, 4) << \"\\n\";\n",
    "    return 0;\n",
    "}"
   ]
  },
  {
   "cell_type": "code",
   "execution_count": null,
   "metadata": {},
   "outputs": [],
   "source": [
    "void printValues(int x, int y=10);\n",
    " \n",
    "void printValues(int x, int y=10) \n",
    "// error: redefinition of default parameter\n",
    "{\n",
    "    std::cout << \"x: \" << x << '\\n';\n",
    "    std::cout << \"y: \" << y << '\\n';\n",
    "}"
   ]
  },
  {
   "cell_type": "markdown",
   "metadata": {},
   "source": [
    "##### (2) Function overloading\n",
    "\n",
    "Cho phép tạo nhiều hàm cùng tên, miễn là tham số khác nhau.\n"
   ]
  },
  {
   "cell_type": "code",
   "execution_count": 83,
   "metadata": {},
   "outputs": [
    {
     "name": "stdout",
     "output_type": "stream",
     "text": [
      "Writing func_overload.cpp\n"
     ]
    }
   ],
   "source": [
    "%%file func_overload.cpp\n",
    "\n",
    "#include<iostream>\n",
    "\n",
    "using namespace std;\n",
    "\n",
    "int add(int x, int y){\n",
    "    return x + y;\n",
    "}\n",
    "\n",
    "double add(double x, double y){\n",
    "    return x + y;\n",
    "}\n",
    "\n",
    "int main()\n",
    "{\n",
    "    cout << add(1, 3) << endl;\n",
    "    cout << add(3.5, 2.4) << endl;\n",
    "    return 0;\n",
    "}"
   ]
  },
  {
   "cell_type": "markdown",
   "metadata": {},
   "source": [
    "**Notes**\n",
    "\n",
    "Tham số mặc định và hàm overload\n",
    "\n",
    "```\n",
    "void print(std::string string);\n",
    "void print(char ch=' ');\n",
    "```\n",
    "\n",
    "gọi `print()` sẽ in một khoảng trống.\n",
    "\n",
    "Nhưng, \n",
    "```\n",
    "void printValues(int x);\n",
    "void printValues(int x, int y=20);\n",
    "```\n",
    "thì không được phép.\n"
   ]
  },
  {
   "cell_type": "markdown",
   "metadata": {},
   "source": [
    "##### (3) Hàm đệ quy\n",
    "\n",
    "Hàm gọi chính nó"
   ]
  },
  {
   "cell_type": "code",
   "execution_count": null,
   "metadata": {},
   "outputs": [],
   "source": [
    "// ví dụ tính giai thừa\n",
    "\n",
    "long factorial(long x){\n",
    "    if(x > 1)\n",
    "        return (x * factorial(x - 1));\n",
    "    else\n",
    "        return 1;\n",
    "}"
   ]
  },
  {
   "cell_type": "code",
   "execution_count": 87,
   "metadata": {},
   "outputs": [],
   "source": [
    "// Ví dụ tìm kiếm nhị phân đệ quy\n",
    "\n",
    "// as homework! :)"
   ]
  },
  {
   "cell_type": "markdown",
   "metadata": {},
   "source": [
    "##### (4) Command line arguments\n"
   ]
  },
  {
   "cell_type": "code",
   "execution_count": 84,
   "metadata": {},
   "outputs": [
    {
     "name": "stdout",
     "output_type": "stream",
     "text": [
      "Writing cmd_args.cpp\n"
     ]
    }
   ],
   "source": [
    "%%file cmd_args.cpp\n",
    "\n",
    "#include<iostream>\n",
    "\n",
    "int main(int argc, char *argv[])\n",
    "{\n",
    "    // argc: argument count, >= 1\n",
    "    // argv: argument values (argument vectors)\n",
    "    std::cout << \"There are \" << argc << \" arguments: \\n\";\n",
    "    //loop\n",
    "    for(int cnt = 0; cnt < argc; cnt++)\n",
    "        std::cout << cnt << \" \" << argv[cnt] << \"\\n\";\n",
    "    \n",
    "    return 0;\n",
    "}"
   ]
  },
  {
   "cell_type": "code",
   "execution_count": 85,
   "metadata": {},
   "outputs": [
    {
     "name": "stdout",
     "output_type": "stream",
     "text": [
      "Writing cmd_args_num.cpp\n"
     ]
    }
   ],
   "source": [
    "%%file cmd_args_num.cpp\n",
    "\n",
    "//Dealing with numeric arguments\n",
    "\n",
    "//Note: Command line arguments are always passed as strings,\n",
    "// even if the value provided is numeric in nature.\n",
    "\n",
    "#include <iostream>\n",
    "#include <string>\n",
    "#include <sstream> // for std::stringstream\n",
    "#include <cstdlib> // for exit()\n",
    " \n",
    "int main(int argc, char *argv[])\n",
    "{\n",
    "    if (argc <= 1)\n",
    "    {\n",
    "        //On some OS, argv[0] can end up as an empty string\n",
    "        if(argv[0])\n",
    "            std::cout << \"Usage: \" << argv[0] << \" <number>\" << \"\\n\";\n",
    "        else\n",
    "            std::cout << \"Usage: <program name> <number>\" << \"\\n\";\n",
    "        \n",
    "        exit(1);\n",
    "    }\n",
    "    //set up a stringstream variable named convert,\n",
    "    //initialized with the input from argv[1]\n",
    "    std::stringstream convert(argv[1]);\n",
    "    int myint;\n",
    "    if(!(convert >> myint)) //do the conversion\n",
    "        myint = 0; //if conversion fails\n",
    "    \n",
    "    std::cout << \"Got integer: \" << myint << \"\\n\";\n",
    "    \n",
    "    return 0;\n",
    "}"
   ]
  },
  {
   "cell_type": "markdown",
   "metadata": {},
   "source": [
    "##### (5) Ellipsis\n",
    "\n",
    "Khi không biết số lượng tham số của hàm?\n",
    "-> C++: có thể dùng \"...\" (ellipsis).\n",
    "\n",
    "**Note**: Hiếm khi dùng và có thể nguy hiểm (no typechecking!)"
   ]
  },
  {
   "cell_type": "code",
   "execution_count": 86,
   "metadata": {},
   "outputs": [
    {
     "name": "stdout",
     "output_type": "stream",
     "text": [
      "Writing ellipsis.cpp\n"
     ]
    }
   ],
   "source": [
    "%%file ellipsis.cpp\n",
    "\n",
    "#include <iostream>\n",
    "#include <cstdarg> // needed to use ellipsis\n",
    " \n",
    "// The ellipsis must be the last parameter\n",
    "// count is how many additional arguments we're passing\n",
    "double findAverage(int count, ...)\n",
    "{\n",
    "    double sum = 0;\n",
    " \n",
    "    // We access the ellipsis through a va_list, so let's declare one\n",
    "    va_list list;\n",
    " \n",
    "    // We initialize the va_list using va_start.  The first parameter is\n",
    "    // the list to initialize.  The second parameter is the last non-ellipsis\n",
    "    // parameter.\n",
    "    va_start(list, count);\n",
    " \n",
    "    // Loop through all the ellipsis arguments\n",
    "    for (int arg=0; arg < count; ++arg)\n",
    "         // We use va_arg to get parameters out of our ellipsis\n",
    "         // The first parameter is the va_list we're using\n",
    "         // The second parameter is the type of the parameter\n",
    "         sum += va_arg(list, int);\n",
    " \n",
    "    // Cleanup the va_list when we're done.\n",
    "    va_end(list);\n",
    " \n",
    "    return sum / count;\n",
    "}\n",
    " \n",
    "int main()\n",
    "{\n",
    "    std::cout << findAverage(5, 1, 2, 3, 4, 5) << '\\n';\n",
    "    std::cout << findAverage(6, 1, 2, 3, 4, 5, 6) << '\\n';\n",
    "}"
   ]
  },
  {
   "cell_type": "code",
   "execution_count": null,
   "metadata": {},
   "outputs": [],
   "source": []
  }
 ],
 "metadata": {
  "kernelspec": {
   "display_name": "C++11",
   "language": "C++11",
   "name": "xeus-cling-cpp11"
  },
  "language_info": {
   "codemirror_mode": "text/x-c++src",
   "file_extension": ".cpp",
   "mimetype": "text/x-c++src",
   "name": "c++",
   "version": "-std=c++11"
  }
 },
 "nbformat": 4,
 "nbformat_minor": 2
}
