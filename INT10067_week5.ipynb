{
 "cells": [
  {
   "cell_type": "markdown",
   "metadata": {},
   "source": [
    "# TIN HỌC CƠ SỞ 4 (IT1006 7)\n",
    "\n",
    "#### Diep Nguyen, Ph.D. (ngocdiep@vnu.edu.vn)\n",
    "\n",
    "## https://github.com/chupibk/THCS4"
   ]
  },
  {
   "cell_type": "markdown",
   "metadata": {},
   "source": [
    "## Ôn lại\n",
    "\n",
    "### Tuần 1 (30/8/2018)\n",
    "\n",
    "Chương trình, soạn và biên dịch chương trình\n",
    "\n",
    "### Tuần 2 (13/9/2018)\n",
    "\n",
    "Biến, kiểu dữ liệu, khởi tạo và gán giá trị cho biến, nhập xuất chuẩn `cout` & `cin`\n",
    "\n",
    "### Tuần 3 (20/9/2018)\n",
    "\n",
    "Luồng điều khiển rẽ nhánh: `if, if ... else, switch`\n",
    "\n",
    "### Tuần 4 (27/9/2018)\n",
    "\n",
    "Luồng điều khiển lặp: `while, do ... while, for`\n",
    "\n",
    "Các lưu ý:\n",
    "- điều kiện lặp\n",
    "- điều kiện để chương trình kết thúc\n",
    "- thay đổi trong mỗi vòng lặp\n",
    "- dùng `break` hay `continue` trong điều khiển vòng lặp"
   ]
  },
  {
   "cell_type": "markdown",
   "metadata": {},
   "source": [
    "### Từ tuần 5\n",
    "\n",
    "Đến tuần 4: tất cả kiến thức, khái niệm cơ bản.\n",
    "\n",
    "Từ tuần 5:\n",
    "- các cấu trúc dữ liệu phức tạp hơn;\n",
    "- liên kết với các chương trình khác;\n",
    "- làm việc với bộ nhớ, thư viện mẫu.\n",
    "\n",
    "Kiến thức phức tạp và nhiều hơn --> cần nhiều thực hành và tự học!"
   ]
  },
  {
   "cell_type": "markdown",
   "metadata": {},
   "source": [
    "## Tuần 5 (4/10/2018): Mảng\n",
    "\n",
    "3 chức năng cơ bản cần có để làm việc với bất kì cấu trúc dữ liệu phức tạp nào:\n",
    "1. Khai báo, khởi tạo như thế nào? (**declaration, initialization**)\n",
    "2. Lấy ra một thông tin như thế nào? (**extraction** - truy xuất)\n",
    "3. Lấy ra toàn bộ thông tin một cách có hệ thống như thế nào? (**iteration** - duyệt)"
   ]
  },
  {
   "cell_type": "markdown",
   "metadata": {},
   "source": [
    "## Mảng là gì?\n",
    "\n",
    "- Một biến lưu một dữ liệu\n",
    "    + `int age = 4;`\n",
    "    + `string name = \"chupi\";` \n",
    "    + `float gpa = 3.5;`\n",
    "    \n",
    "- Lưu nhiều dữ liệu một lúc -> tổ chức tập hợp của nhiều biến?\n",
    "- Tuỳ vào mối quan hệ giữa các biến trong tập hợp -> cấu trúc dữ liệu khác nhau\n",
    "\n",
    "<img src=\"data_struct.jpeg\"\n",
    "     alt=\"\"\n",
    "     width=\"90%\"/>\n",
    "     \n",
    "#### Mảng\n",
    " \n",
    "là một dãy các giá trị **cùng kiểu** (element) được đánh **chỉ mục** (index).\n",
    "\n",
    "Ví dụ: Dãy các màu của cầu vồng:\n",
    "\n",
    "```\n",
    "- Giá trị:         Đỏ | Cam | Vàng | Lục | Lam | Chàm | Tím\n",
    "- Chỉ mục:          1 |  2  |   3  |  4  |  5  |   6  | 7\n",
    "- Chỉ mục (C++ ):   0 |  1  |   2  |  3  |  4  |  5   |  6 \n",
    "\n",
    "```\n",
    "\n",
    "#### 1. Khai báo mảng\n",
    "\n",
    "(1) Khai báo mảng tĩnh (i.e., mảng có số phần tử cố định)\n",
    "\n",
    "```\n",
    "data_type array_name [number_of_elems];\n",
    "```\n",
    "\n",
    "(2) Khai báo mảng động\n",
    "\n",
    "Dùng thư viện `<vector>`\n",
    "\n",
    "    ```\n",
    "    vector<data_type> array_name(number_of_elems, init_value);\n",
    "    ```"
   ]
  },
  {
   "cell_type": "code",
   "execution_count": null,
   "metadata": {},
   "outputs": [],
   "source": [
    "//Ví dụ khai báo mảng tĩnh:\n",
    "\n",
    "int numbers[10]; // Mảng 10 số nguyên\n",
    "string rainbow[7]; // Mảng 7 chuỗi kí tự "
   ]
  },
  {
   "cell_type": "code",
   "execution_count": null,
   "metadata": {},
   "outputs": [],
   "source": [
    "// Ví dụ khai báo mảng động:\n",
    "\n",
    "vector<int> numbers(100, 0); // mảng 100 số nguyên, khởi tạo bằng số 0\n",
    "vector<string> rainbow(7); // mảng 100 chuỗi kí tự (xâu rỗng)"
   ]
  },
  {
   "cell_type": "markdown",
   "metadata": {},
   "source": [
    "## Mảng tĩnh"
   ]
  },
  {
   "cell_type": "markdown",
   "metadata": {},
   "source": [
    "#### 2. Truy xuất mảng\n",
    "\n",
    "Lấy ra phần tử thứ `index` trong mảng:\n",
    "\n",
    "```\n",
    "array_name[index]\n",
    "```\n",
    "\n",
    "- Lưu ý: Các phần tử được đánh số từ 0."
   ]
  },
  {
   "cell_type": "markdown",
   "metadata": {},
   "source": [
    "#### 3. Duyệt mảng\n",
    "\n",
    "Duyệt từ đầu đến cuối mảng?\n",
    "\n",
    "Dùng một vòng lặp với biến đếm tương ứng với số chỉ mục,\n",
    "\n",
    "mỗi lần truy xuất ra một phần tử của mảng:\n",
    "\n",
    "```\n",
    "for (int i = 0; i < number_of_elems; i++)\n",
    "{\n",
    "    cout << array_name[i]; // in ra\n",
    "}\n",
    "```\n",
    "\n",
    "- Lưu ý: có thể dùng vòng lặp lồng nhau, để duyệt cặp phần tử"
   ]
  },
  {
   "cell_type": "code",
   "execution_count": 9,
   "metadata": {},
   "outputs": [
    {
     "name": "stdout",
     "output_type": "stream",
     "text": [
      "Overwriting array_example.cpp\n"
     ]
    }
   ],
   "source": [
    "%%file array_example.cpp\n",
    "\n",
    "// Yêu cầu: Tạo mảng chứa 10 số lẻ đầu tiên;\n",
    "//         in ra các giá trị của mảng,\n",
    "//         và in ra tổng của các số trong mảng\n",
    "\n",
    "#include <iostream>\n",
    "\n",
    "int main()\n",
    "{\n",
    "    const int N = 10; // lưu số lượng phần tử\n",
    "    int num[N]; // khai báo mảng số nguyên num\n",
    "    \n",
    "    // khởi tạo các giá trị của mảng, là 10 số lẻ đầu tiên\n",
    "    for(int i = 0; i < N; i++){\n",
    "        num[i] = i * 2 + 1;\n",
    "    }\n",
    "    \n",
    "    // Duyệt mảng và in ra các giá trị\n",
    "    for(int i = 0; i < N; i++){\n",
    "        std::cout << num[i] << std::endl;\n",
    "    }\n",
    "    \n",
    "    // Tính tổng\n",
    "    int sum = 0;\n",
    "    for(int i = 0; i < N; i++){\n",
    "        sum += num[i];\n",
    "    }\n",
    "    std::cout << \"Tong cac so trong mang la: \" << sum << std::endl;\n",
    "    \n",
    "    return 0;\n",
    "}"
   ]
  },
  {
   "cell_type": "code",
   "execution_count": 13,
   "metadata": {},
   "outputs": [
    {
     "name": "stdout",
     "output_type": "stream",
     "text": [
      "Overwriting array_random.cpp\n"
     ]
    }
   ],
   "source": [
    "%%file array_random.cpp\n",
    "\n",
    "// Tung xúc xắc 10.000 lần. Đếm số lần xúc xắc có giá trị 6.\n",
    "\n",
    "#include <iostream>\n",
    "#include <cstdlib>\n",
    "\n",
    "\n",
    "int main()\n",
    "{\n",
    "     // Khai báo mảng 10.000 phần tử\n",
    "    const int N = 10000;\n",
    "    int dices[N];\n",
    "    \n",
    "    // Khởi tạo giá trị ngẫu nhiên\n",
    "    for(int i = 0; i < N; i++){\n",
    "        dices[i] = rand() % 6 + 1; //số ngẫu nhiên từ 1-6\n",
    "    }\n",
    "    \n",
    "    // Đếm\n",
    "    int count = 0;\n",
    "    for(int i= 0; i < N; i++){\n",
    "        if (dices[i] == 6)\n",
    "            count++;\n",
    "    }\n",
    "    \n",
    "    //In kết quả\n",
    "    std::cout << \"So lan tung duoc 6 la: \" << count << \"(/\" << N << \")\\n\";\n",
    "    \n",
    "    return 0;\n",
    "    \n",
    "}"
   ]
  },
  {
   "cell_type": "code",
   "execution_count": 14,
   "metadata": {},
   "outputs": [
    {
     "name": "stdout",
     "output_type": "stream",
     "text": [
      "Writing array_cin.cpp\n"
     ]
    }
   ],
   "source": [
    "%%file array_cin.cpp\n",
    "\n",
    "// Nhập chuỗi 10 tên từ bàn phím vào 1 mảng\n",
    "\n",
    "const int N_str = 10;\n",
    "string str[N_str];\n",
    "\n",
    "for(int i = 0; i < N_str; i++){\n",
    "    cin >> str[i];\n",
    "}"
   ]
  },
  {
   "cell_type": "code",
   "execution_count": 20,
   "metadata": {},
   "outputs": [
    {
     "name": "stdout",
     "output_type": "stream",
     "text": [
      "Overwriting array_copy.cpp\n"
     ]
    }
   ],
   "source": [
    "%%file array_copy.cpp\n",
    "\n",
    "// Sao chép mảng\n",
    "\n",
    "#include<iostream>\n",
    "\n",
    "int main()\n",
    "{\n",
    "    const int N = 6;\n",
    "    int array1[N] = {1, 2, 3, 4, 5, 6};\n",
    "    // or: C++11, uniform initialization\n",
    "    // const int num[6] {1, 2, 3, 4, 5, 6}; \n",
    "    \n",
    "    // work or not?\n",
    "    //int array2[N] = array1;\n",
    "    \n",
    "    for(int i = 0; i < N; i++){\n",
    "        std::cout << array2[i] << std::endl;\n",
    "    }\n",
    "    \n",
    "    return 0;\n",
    "}"
   ]
  },
  {
   "cell_type": "markdown",
   "metadata": {},
   "source": [
    "#### 4. Sao chép mảng"
   ]
  },
  {
   "cell_type": "code",
   "execution_count": 19,
   "metadata": {},
   "outputs": [],
   "source": [
    "#include<iostream>"
   ]
  },
  {
   "cell_type": "code",
   "execution_count": 21,
   "metadata": {},
   "outputs": [],
   "source": [
    "const int N = 6;\n",
    "int array1[N] = {1, 2, 3, 4, 5, 6};"
   ]
  },
  {
   "cell_type": "code",
   "execution_count": 23,
   "metadata": {},
   "outputs": [
    {
     "name": "stderr",
     "output_type": "stream",
     "text": [
      "\u001b[1minput_line_12:3:5: \u001b[0m\u001b[0;1;31merror: \u001b[0m\u001b[1marray initializer must be an initializer list\u001b[0m\n",
      "int array2[N] = array1;\n",
      "\u001b[0;1;32m    ^\n",
      "\u001b[0m"
     ]
    },
    {
     "ename": "Interpreter Error",
     "evalue": "",
     "output_type": "error",
     "traceback": [
      "Interpreter Error: "
     ]
    }
   ],
   "source": [
    "//khai báo mảng mới và copy từ array1 sang?\n",
    "int array2[N] = array1;"
   ]
  },
  {
   "cell_type": "code",
   "execution_count": 24,
   "metadata": {},
   "outputs": [
    {
     "name": "stderr",
     "output_type": "stream",
     "text": [
      "\u001b[1minput_line_13:4:8: \u001b[0m\u001b[0;1;31merror: \u001b[0m\u001b[1marray type 'int [6]' is not assignable\u001b[0m\n",
      "array2 = array1;\n",
      "\u001b[0;1;32m~~~~~~ ^\n",
      "\u001b[0m"
     ]
    },
    {
     "ename": "Interpreter Error",
     "evalue": "",
     "output_type": "error",
     "traceback": [
      "Interpreter Error: "
     ]
    }
   ],
   "source": [
    "// khai báo và copy riêng lẻ?\n",
    "int array2[N];\n",
    "array2 = array1;"
   ]
  },
  {
   "cell_type": "code",
   "execution_count": 25,
   "metadata": {},
   "outputs": [
    {
     "name": "stdout",
     "output_type": "stream",
     "text": [
      "A6_i"
     ]
    }
   ],
   "source": [
    "std::cout << typeid(array1).name(); //kiểu của array1"
   ]
  },
  {
   "cell_type": "code",
   "execution_count": 26,
   "metadata": {},
   "outputs": [
    {
     "name": "stdout",
     "output_type": "stream",
     "text": [
      "0x10bb14690"
     ]
    }
   ],
   "source": [
    "std::cout << array1; // array1 chứa gì?"
   ]
  },
  {
   "cell_type": "code",
   "execution_count": 28,
   "metadata": {},
   "outputs": [
    {
     "name": "stdout",
     "output_type": "stream",
     "text": [
      "1"
     ]
    }
   ],
   "source": [
    "std::cout << *array1; //giá trị của array1?"
   ]
  },
  {
   "cell_type": "code",
   "execution_count": 62,
   "metadata": {},
   "outputs": [
    {
     "name": "stdout",
     "output_type": "stream",
     "text": [
      "0x10bb14690"
     ]
    },
    {
     "data": {
      "text/plain": [
       "@0x10bac2010"
      ]
     },
     "execution_count": 62,
     "metadata": {},
     "output_type": "execute_result"
    }
   ],
   "source": [
    "std::cout << &(array1[0]); //địa chỉ bộ nhớ của phần tử đầu tiên?"
   ]
  },
  {
   "cell_type": "code",
   "execution_count": 63,
   "metadata": {},
   "outputs": [
    {
     "name": "stdout",
     "output_type": "stream",
     "text": [
      "1"
     ]
    },
    {
     "data": {
      "text/plain": [
       "@0x10bac2010"
      ]
     },
     "execution_count": 63,
     "metadata": {},
     "output_type": "execute_result"
    }
   ],
   "source": [
    "std::cout << array1[0]; //giá trị của phần tử đầu tiên?"
   ]
  },
  {
   "cell_type": "code",
   "execution_count": 33,
   "metadata": {},
   "outputs": [
    {
     "name": "stdout",
     "output_type": "stream",
     "text": [
      "3"
     ]
    },
    {
     "data": {
      "text/plain": [
       "@0x10bac2010"
      ]
     },
     "execution_count": 33,
     "metadata": {},
     "output_type": "execute_result"
    }
   ],
   "source": [
    "std::cout << *(array1+2); //giá trị của array1 + 2?"
   ]
  },
  {
   "cell_type": "code",
   "execution_count": null,
   "metadata": {},
   "outputs": [],
   "source": [
    "//copy từng phần tử\n",
    "int array2[N];"
   ]
  },
  {
   "cell_type": "code",
   "execution_count": 37,
   "metadata": {},
   "outputs": [],
   "source": [
    "for(int i = 0; i < N; i++){\n",
    "    array2[i] = array1[i];\n",
    "}"
   ]
  },
  {
   "cell_type": "code",
   "execution_count": 38,
   "metadata": {},
   "outputs": [
    {
     "name": "stdout",
     "output_type": "stream",
     "text": [
      "123456"
     ]
    }
   ],
   "source": [
    "for(int a : array2){\n",
    "    std::cout << a;\n",
    "}"
   ]
  },
  {
   "cell_type": "code",
   "execution_count": 64,
   "metadata": {},
   "outputs": [
    {
     "name": "stdout",
     "output_type": "stream",
     "text": [
      "123456"
     ]
    }
   ],
   "source": [
    "// better than before! (using const reference)\n",
    "for(const int &a : array2){\n",
    "    std::cout << a;\n",
    "}"
   ]
  },
  {
   "cell_type": "markdown",
   "metadata": {},
   "source": [
    "### Các nhận xét về mảng của C++\n",
    "\n",
    "- (1) Lưu ý khi sao chép mảng: sao chép từng phần tử.\n",
    "\n",
    "- (2) Số lượng phần tử của mảng cần được lưu trữ riêng, và không đổi\n"
   ]
  },
  {
   "cell_type": "code",
   "execution_count": 41,
   "metadata": {},
   "outputs": [
    {
     "name": "stdout",
     "output_type": "stream",
     "text": [
      "Number of elements: 6"
     ]
    }
   ],
   "source": [
    "//Cách tính số lượng phần tử của mảng\n",
    "std::cout << \"Number of elements: \" << sizeof(array1) / sizeof(array1[0]);"
   ]
  },
  {
   "cell_type": "markdown",
   "metadata": {},
   "source": [
    "- (3) Số lượng phần tử của mảng cần phải có giá trị `const` ở *compile-time*\n",
    "    + `non-const`: not OK\n",
    "    + `run-time`: not OK"
   ]
  },
  {
   "cell_type": "code",
   "execution_count": 43,
   "metadata": {},
   "outputs": [
    {
     "name": "stderr",
     "output_type": "stream",
     "text": [
      "\u001b[1minput_line_37:5:5: \u001b[0m\u001b[0;1;31merror: \u001b[0m\u001b[1mvariable length array declaration not allowed at file scope\u001b[0m\n",
      "int a1[len1];\n",
      "\u001b[0;1;32m    ^  ~~~~\n",
      "\u001b[0m"
     ]
    },
    {
     "ename": "Interpreter Error",
     "evalue": "",
     "output_type": "error",
     "traceback": [
      "Interpreter Error: "
     ]
    }
   ],
   "source": [
    "//ví dụ non-const variable\n",
    "int len1;\n",
    "std::cin >> len1;\n",
    "int a1[len1];"
   ]
  },
  {
   "cell_type": "code",
   "execution_count": 44,
   "metadata": {},
   "outputs": [
    {
     "name": "stderr",
     "output_type": "stream",
     "text": [
      "\u001b[1minput_line_38:3:5: \u001b[0m\u001b[0;1;31merror: \u001b[0m\u001b[1mvariable length array declaration not allowed at file scope\u001b[0m\n",
      "int a2[len2];\n",
      "\u001b[0;1;32m    ^  ~~~~\n",
      "\u001b[0m"
     ]
    },
    {
     "ename": "Interpreter Error",
     "evalue": "",
     "output_type": "error",
     "traceback": [
      "Interpreter Error: "
     ]
    }
   ],
   "source": [
    "int len2 = 5;\n",
    "int a2[len2];"
   ]
  },
  {
   "cell_type": "code",
   "execution_count": 46,
   "metadata": {},
   "outputs": [
    {
     "name": "stderr",
     "output_type": "stream",
     "text": [
      "\u001b[1minput_line_40:6:5: \u001b[0m\u001b[0;1;31merror: \u001b[0m\u001b[1mvariable length array declaration not allowed at file scope\u001b[0m\n",
      "int a3[len3];\n",
      "\u001b[0;1;32m    ^  ~~~~\n",
      "\u001b[0m"
     ]
    },
    {
     "ename": "Interpreter Error",
     "evalue": "",
     "output_type": "error",
     "traceback": [
      "Interpreter Error: "
     ]
    }
   ],
   "source": [
    "//ví dụ run-time constant variable\n",
    "int len3_ = 5;\n",
    "const int len3 = len3_; // the value of len3 isn't known until runtime,\n",
    "    //so this is a runtime constant, not a compile-time constant!\n",
    "int a3[len3];"
   ]
  },
  {
   "cell_type": "markdown",
   "metadata": {},
   "source": [
    "\n",
    "\n",
    "##### NOTE\n",
    "Nhưng nếu chương trình biên dịch tương thích với phiên bản C99, `non-const` biến vẫn có thể dùng để khởi tạo mảng.\n",
    "\n",
    "Không khuyến khích dùng cách này!\n",
    "\n",
    "Thay vào đó, nên khởi tạo mảng dùng bộ nhớ động!\n"
   ]
  },
  {
   "cell_type": "code",
   "execution_count": 11,
   "metadata": {},
   "outputs": [
    {
     "name": "stdout",
     "output_type": "stream",
     "text": [
      "Overwriting c99_array.cpp\n"
     ]
    }
   ],
   "source": [
    "%%file c99_array.cpp\n",
    "\n",
    "// only if compiler is C99 compatible!\n",
    "#include<iostream>\n",
    "\n",
    "int main()\n",
    "{\n",
    "    int n;\n",
    "    std::cout << \"Enter number of elements: \" ;\n",
    "    std::cin >> n;\n",
    "    int array[n];\n",
    "    \n",
    "    for(int i= 0; i < n; i++){\n",
    "        array[i] = i+1;\n",
    "    }\n",
    "    \n",
    "    for(auto const &e : array){\n",
    "        std::cout << e << std::endl;\n",
    "    }\n",
    "    return 0;\n",
    "}"
   ]
  },
  {
   "cell_type": "code",
   "execution_count": 10,
   "metadata": {},
   "outputs": [
    {
     "name": "stdout",
     "output_type": "stream",
     "text": [
      "Overwriting dynamic_array.cpp\n"
     ]
    }
   ],
   "source": [
    "%%file dynamic_array.cpp\n",
    "\n",
    "\n",
    "// Dùng bộ nhớ động\n",
    "\n",
    "#include<iostream>\n",
    "\n",
    "int main()\n",
    "{\n",
    "    std::cout << \"Enter number of elements: \" ;\n",
    "    int len;\n",
    "    std::cin >> len;\n",
    "    \n",
    "    // Cấp bộ nhớ động len phần tử để tạo mảng mới\n",
    "    // Chú ý rằng len không cần phải là const!\n",
    "    int *array = new int[len];\n",
    "    \n",
    "    // Khởi tạo các giá trị của mảng\n",
    "    for(int i = 0; i < len; i++){\n",
    "        array[i] = i+1;\n",
    "    }\n",
    "    \n",
    "    //in ra màn hình\n",
    "    for(int i = 0; i < len; i++){\n",
    "        std::cout << array[i] << std::endl;\n",
    "    }\n",
    "    \n",
    "    // Giải phóng bộ nhớ\n",
    "    delete[] array; \n",
    "    return 0;\n",
    "}\n"
   ]
  },
  {
   "cell_type": "markdown",
   "metadata": {},
   "source": [
    "- (4) Truy xuất phần tử không có trong mảng (out-of-range index)\n",
    "\n",
    "Không có tự check lỗi! (**no bounds checking**)"
   ]
  },
  {
   "cell_type": "code",
   "execution_count": 50,
   "metadata": {},
   "outputs": [],
   "source": [
    "int ar[4] = {5, 10, 2, 13};"
   ]
  },
  {
   "cell_type": "code",
   "execution_count": 51,
   "metadata": {},
   "outputs": [
    {
     "name": "stderr",
     "output_type": "stream",
     "text": [
      "\u001b[1minput_line_46:2:15: \u001b[0m\u001b[0;1;35mwarning: \u001b[0m\u001b[1marray index 4 is past the end of the array (which contains 4 elements)\n",
      "      [-Warray-bounds]\u001b[0m\n",
      " std::cout << ar[4];\n",
      "\u001b[0;1;32m              ^  ~\n",
      "\u001b[0m\u001b[1minput_line_45:2:2: \u001b[0m\u001b[0;1;30mnote: \u001b[0marray 'ar' declared here\u001b[0m\n",
      " int ar[4] = {5, 10, 2, 13};\n",
      "\u001b[0;1;32m ^\n",
      "\u001b[0m"
     ]
    },
    {
     "name": "stdout",
     "output_type": "stream",
     "text": [
      "0"
     ]
    }
   ],
   "source": [
    "std::cout << ar[4];"
   ]
  },
  {
   "cell_type": "code",
   "execution_count": 53,
   "metadata": {},
   "outputs": [
    {
     "name": "stderr",
     "output_type": "stream",
     "text": [
      "\u001b[1minput_line_48:2:15: \u001b[0m\u001b[0;1;35mwarning: \u001b[0m\u001b[1marray index 5 is past the end of the array (which contains 4 elements)\n",
      "      [-Warray-bounds]\u001b[0m\n",
      " std::cout << ar[5];\n",
      "\u001b[0;1;32m              ^  ~\n",
      "\u001b[0m\u001b[1minput_line_45:2:2: \u001b[0m\u001b[0;1;30mnote: \u001b[0marray 'ar' declared here\u001b[0m\n",
      " int ar[4] = {5, 10, 2, 13};\n",
      "\u001b[0;1;32m ^\n",
      "\u001b[0m"
     ]
    },
    {
     "name": "stdout",
     "output_type": "stream",
     "text": [
      "0"
     ]
    }
   ],
   "source": [
    "std::cout << ar[5];"
   ]
  },
  {
   "cell_type": "code",
   "execution_count": 54,
   "metadata": {},
   "outputs": [
    {
     "name": "stderr",
     "output_type": "stream",
     "text": [
      "\u001b[1minput_line_49:2:15: \u001b[0m\u001b[0;1;35mwarning: \u001b[0m\u001b[1marray index -1 is before the beginning of the array [-Warray-bounds]\u001b[0m\n",
      " std::cout << ar[-1];\n",
      "\u001b[0;1;32m              ^  ~~\n",
      "\u001b[0m\u001b[1minput_line_45:2:2: \u001b[0m\u001b[0;1;30mnote: \u001b[0marray 'ar' declared here\u001b[0m\n",
      " int ar[4] = {5, 10, 2, 13};\n",
      "\u001b[0;1;32m ^\n",
      "\u001b[0m"
     ]
    },
    {
     "name": "stdout",
     "output_type": "stream",
     "text": [
      "0"
     ]
    }
   ],
   "source": [
    "std::cout << ar[-1];"
   ]
  },
  {
   "cell_type": "markdown",
   "metadata": {},
   "source": [
    "- (5) Không thể gán lại giá trị của mảng dùng phép gán `=`"
   ]
  },
  {
   "cell_type": "code",
   "execution_count": 60,
   "metadata": {},
   "outputs": [
    {
     "name": "stderr",
     "output_type": "stream",
     "text": [
      "\u001b[1minput_line_55:2:5: \u001b[0m\u001b[0;1;31merror: \u001b[0m\u001b[1marray type 'int [4]' is not assignable\u001b[0m\n",
      " ar = {13, 2, 4, 5};\n",
      "\u001b[0;1;32m ~~ ^\n",
      "\u001b[0m"
     ]
    },
    {
     "ename": "Interpreter Error",
     "evalue": "",
     "output_type": "error",
     "traceback": [
      "Interpreter Error: "
     ]
    }
   ],
   "source": [
    "ar = {13, 2, 4, 5};"
   ]
  },
  {
   "cell_type": "markdown",
   "metadata": {},
   "source": [
    "## Mảng động dùng std::vector"
   ]
  },
  {
   "cell_type": "code",
   "execution_count": null,
   "metadata": {},
   "outputs": [],
   "source": [
    "//Khai báo:\n",
    "std::vector<int> v1;\n",
    "std::vector<int> v2 = {1, 2, 3,4, 5}; //không cần kích thước"
   ]
  },
  {
   "cell_type": "code",
   "execution_count": 86,
   "metadata": {},
   "outputs": [
    {
     "name": "stdout",
     "output_type": "stream",
     "text": [
      "2"
     ]
    }
   ],
   "source": [
    "// Truy xuất\n",
    "std::cout << v2[1];"
   ]
  },
  {
   "cell_type": "code",
   "execution_count": 87,
   "metadata": {},
   "outputs": [
    {
     "name": "stdout",
     "output_type": "stream",
     "text": [
      "32731"
     ]
    },
    {
     "data": {
      "text/plain": [
       "@0x10bac2010"
      ]
     },
     "execution_count": 87,
     "metadata": {},
     "output_type": "execute_result"
    }
   ],
   "source": [
    "std::cout << v2[11]; //no bounds checking"
   ]
  },
  {
   "cell_type": "code",
   "execution_count": 88,
   "metadata": {},
   "outputs": [
    {
     "ename": "Error",
     "evalue": "",
     "output_type": "error",
     "traceback": [
      "Error: "
     ]
    }
   ],
   "source": [
    "std::cout << v2.at(11); //does bounds checking"
   ]
  },
  {
   "cell_type": "code",
   "execution_count": 73,
   "metadata": {},
   "outputs": [
    {
     "name": "stdout",
     "output_type": "stream",
     "text": [
      "5"
     ]
    }
   ],
   "source": [
    "// Duyệt\n",
    "int size_v = v2.size(); //vector remembers its length!\n",
    "std::cout << size_v;"
   ]
  },
  {
   "cell_type": "code",
   "execution_count": 89,
   "metadata": {},
   "outputs": [
    {
     "name": "stdout",
     "output_type": "stream",
     "text": [
      "1 2 3 4 5 "
     ]
    }
   ],
   "source": [
    "for(int i = 0; i < v2.size(); i++){\n",
    "    std::cout << v2[i] << ' ';\n",
    "}"
   ]
  },
  {
   "cell_type": "code",
   "execution_count": 90,
   "metadata": {},
   "outputs": [
    {
     "name": "stdout",
     "output_type": "stream",
     "text": [
      "1 2 3 4 5 "
     ]
    }
   ],
   "source": [
    "//or - using const reference (advanced)\n",
    "for(const auto &vi : v2){\n",
    "    std::cout << vi << ' ';\n",
    "}"
   ]
  },
  {
   "cell_type": "code",
   "execution_count": 91,
   "metadata": {},
   "outputs": [],
   "source": [
    "// gán lại giá trị: ok\n",
    "v2 = {4, 3, 5};"
   ]
  },
  {
   "cell_type": "code",
   "execution_count": 92,
   "metadata": {},
   "outputs": [
    {
     "name": "stdout",
     "output_type": "stream",
     "text": [
      "3"
     ]
    }
   ],
   "source": [
    "std::cout << v2.size();"
   ]
  },
  {
   "cell_type": "code",
   "execution_count": 83,
   "metadata": {},
   "outputs": [
    {
     "name": "stderr",
     "output_type": "stream",
     "text": [
      "\u001b[1minput_line_80:3:7: \u001b[0m\u001b[0;1;31merror: \u001b[0m\u001b[1mtype 'double' cannot be narrowed to 'int' in initializer list\n",
      "      [-Wc++11-narrowing]\u001b[0m\n",
      "v2 = {1.0, 2, 3.0, 4.0};\n",
      "\u001b[0;1;32m      ^~~\n",
      "\u001b[0m\u001b[1minput_line_80:3:7: \u001b[0m\u001b[0;1;30mnote: \u001b[0minsert an explicit cast to silence this issue\u001b[0m\n",
      "v2 = {1.0, 2, 3.0, 4.0};\n",
      "\u001b[0;1;32m      ^~~\n",
      "\u001b[0m\u001b[0;32m      static_cast<int>( )\n",
      "\u001b[0m\u001b[1minput_line_80:3:15: \u001b[0m\u001b[0;1;31merror: \u001b[0m\u001b[1mtype 'double' cannot be narrowed to 'int' in initializer list\n",
      "      [-Wc++11-narrowing]\u001b[0m\n",
      "v2 = {1.0, 2, 3.0, 4.0};\n",
      "\u001b[0;1;32m              ^~~\n",
      "\u001b[0m\u001b[1minput_line_80:3:15: \u001b[0m\u001b[0;1;30mnote: \u001b[0minsert an explicit cast to silence this issue\u001b[0m\n",
      "v2 = {1.0, 2, 3.0, 4.0};\n",
      "\u001b[0;1;32m              ^~~\n",
      "\u001b[0m\u001b[0;32m              static_cast<int>( )\n",
      "\u001b[0m\u001b[1minput_line_80:3:20: \u001b[0m\u001b[0;1;31merror: \u001b[0m\u001b[1mtype 'double' cannot be narrowed to 'int' in initializer list\n",
      "      [-Wc++11-narrowing]\u001b[0m\n",
      "v2 = {1.0, 2, 3.0, 4.0};\n",
      "\u001b[0;1;32m                   ^~~\n",
      "\u001b[0m\u001b[1minput_line_80:3:20: \u001b[0m\u001b[0;1;30mnote: \u001b[0minsert an explicit cast to silence this issue\u001b[0m\n",
      "v2 = {1.0, 2, 3.0, 4.0};\n",
      "\u001b[0;1;32m                   ^~~\n",
      "\u001b[0m\u001b[0;32m                   static_cast<int>( )\n",
      "\u001b[0m"
     ]
    },
    {
     "ename": "Interpreter Error",
     "evalue": "",
     "output_type": "error",
     "traceback": [
      "Interpreter Error: "
     ]
    }
   ],
   "source": [
    "// gán lại giá trị khác kiểu?\n",
    "v2 = {1.0, 2, 3.0, 4.0};"
   ]
  },
  {
   "cell_type": "code",
   "execution_count": 94,
   "metadata": {},
   "outputs": [
    {
     "name": "stdout",
     "output_type": "stream",
     "text": [
      "4 3 5 0 0 "
     ]
    }
   ],
   "source": [
    "// thay đổi kích thước: dùng resize()\n",
    "v2.resize(5);\n",
    "\n",
    "for(auto const &e : v2){\n",
    "    std::cout << e << ' ';\n",
    "}"
   ]
  },
  {
   "cell_type": "code",
   "execution_count": 95,
   "metadata": {},
   "outputs": [],
   "source": [
    "// sao chép, dùng = \n",
    "std::vector<int> v3;"
   ]
  },
  {
   "cell_type": "code",
   "execution_count": 96,
   "metadata": {},
   "outputs": [
    {
     "name": "stdout",
     "output_type": "stream",
     "text": [
      "4 3 5 0 0 "
     ]
    }
   ],
   "source": [
    "v3 = v2;\n",
    "\n",
    "for(auto const &e : v3){\n",
    "    std::cout << e << ' ';\n",
    "}"
   ]
  },
  {
   "cell_type": "markdown",
   "metadata": {},
   "source": [
    "## Các thao tác với mảng\n",
    "\n",
    "- Tìm kiếm, sửa các phần tử (**search & update**)\n",
    "- Chèn, xoá một hay nhiều phần tử (**insert & delete**)\n",
    "- Sắp xếp (**sort**)\n",
    "- Mảng 2 hay nhiều chiều (**multidimensional array**)\n"
   ]
  },
  {
   "cell_type": "markdown",
   "metadata": {},
   "source": [
    "## Truyền mảng cho hàm\n",
    "\n",
    "\n",
    "<img src=\"func.png\"\n",
    "     alt=\"\"\n",
    "     width=\"60%\"/>\n",
    "     \n",
    "\n",
    "<img src=\"func2.png\"\n",
    "     alt=\"\"\n",
    "     width=\"60%\"/>\n",
    "     \n",
    "Image source: [https://www.codesdope.com/cpp-array/](https://www.codesdope.com/cpp-array/)"
   ]
  },
  {
   "cell_type": "code",
   "execution_count": 31,
   "metadata": {},
   "outputs": [
    {
     "name": "stdout",
     "output_type": "stream",
     "text": [
      "Overwriting arr_fun.cpp\n"
     ]
    }
   ],
   "source": [
    "%%file arr_fun.cpp\n",
    "\n",
    "//pass array as function agrument\n",
    "#include<iostream>\n",
    "\n",
    "void print_array(int arr[], int len){\n",
    "    //int arr[] tương đương với int *arr\n",
    "    for(int i = 0; i < len; i++){\n",
    "        std::cout << arr[i] << ' ';\n",
    "    }\n",
    "    std::cout << std::endl;\n",
    "}\n",
    "\n",
    "\n",
    "int main()\n",
    "{\n",
    "    const int len = 5;\n",
    "    int arr[len] = {1, 2, 3, 4, 5};\n",
    "    print_array(arr, len);\n",
    "    \n",
    "    return 0;\n",
    "}"
   ]
  },
  {
   "cell_type": "markdown",
   "metadata": {},
   "source": [
    "## Search an array"
   ]
  },
  {
   "cell_type": "code",
   "execution_count": 32,
   "metadata": {},
   "outputs": [],
   "source": [
    "// Tìm kiếm phần tử là số chẵn\n",
    "\n",
    "void search(int arr[], int len){\n",
    "    for(int i = 0; i < len; i++){\n",
    "        if(arr[i]%2 == 0)\n",
    "            std::cout << \"a[\" << i << \"] = \" <<\n",
    "                        arr[i] << std::endl;\n",
    "    }\n",
    "}\n"
   ]
  },
  {
   "cell_type": "markdown",
   "metadata": {},
   "source": [
    "## Update an array\n"
   ]
  },
  {
   "cell_type": "code",
   "execution_count": null,
   "metadata": {},
   "outputs": [],
   "source": [
    "//Nếu có phần tử nào < 4 thì gán thành 1\n",
    "// Chú ý là C++ sửa trực tiếp các phần tử của mảng được truyền vào!\n",
    "void modify_array(int arr[], int len){\n",
    "    for(int i = 0; i < len; i++){\n",
    "        if(arr[i] < 4)\n",
    "            arr[i] = 1;\n",
    "    }\n",
    "}"
   ]
  },
  {
   "cell_type": "code",
   "execution_count": null,
   "metadata": {},
   "outputs": [],
   "source": [
    "// Sửa các số thành tổng của nó và phần tử phía trước\n",
    "\n",
    "// Cách nào đúng?\n",
    "// Thay đổi từ đầu đến cuối mảng\n",
    "for(int i = 0; i < len; i++){\n",
    "    arr[i] += (i > 0 ? arr[i-1] : 0);\n",
    "}\n",
    "\n",
    "// hay thay đổi từ cuối mảng\n",
    "for(int i = len - 1; i >= 0; i--){\n",
    "    arr[i] += (i > 0 ? arr[i-1] : 0);\n",
    "}"
   ]
  },
  {
   "cell_type": "code",
   "execution_count": 33,
   "metadata": {},
   "outputs": [],
   "source": [
    "int y[5] = {1, 2, 3, 4, 5};\n"
   ]
  },
  {
   "cell_type": "code",
   "execution_count": 37,
   "metadata": {},
   "outputs": [],
   "source": [
    "for(int i = 5 - 1; i >= 0; i--){\n",
    "    y[i] += (i > 0 ? y[i-1] : 0);\n",
    "}"
   ]
  },
  {
   "cell_type": "code",
   "execution_count": 38,
   "metadata": {},
   "outputs": [
    {
     "name": "stdout",
     "output_type": "stream",
     "text": [
      "13579"
     ]
    }
   ],
   "source": [
    "for( int e : y){\n",
    "    std::cout << e;\n",
    "}"
   ]
  },
  {
   "cell_type": "code",
   "execution_count": null,
   "metadata": {},
   "outputs": [],
   "source": [
    "// Sửa các số thành tổng hai phần tử bên cạnh\n",
    "int prev = 0;\n",
    "for(int i = 0; i < len; i++){\n",
    "    int real_prev = prev;\n",
    "    prev = a[i];\n",
    "    arr[i] = (i > 0 ? real_prev : 0) +\n",
    "             (i < n-1 ? a[i + 1] : 0)\n",
    "}"
   ]
  },
  {
   "cell_type": "markdown",
   "metadata": {},
   "source": [
    "## Insert into an array\n",
    "\n",
    "Chèn 1 phần tử vào vị trí `pos=3`\n",
    "\n",
    "```\n",
    "Before: a[0] a[1] a[2] a[3] a[4] a[5]\n",
    "After:  a[0] a[1] a[2] a[pos] a[3'] a[4'] a[5']\n",
    "```\n",
    "\n",
    "- Đẩy các phần tử sang phải\n",
    "- Đưa phần tử cần chèn vào chỗ trống"
   ]
  },
  {
   "cell_type": "code",
   "execution_count": null,
   "metadata": {},
   "outputs": [],
   "source": [
    "int insert(int arr[], int len, int pos, int value){\n",
    "    for(int i = len; i > pos; i--){\n",
    "        arr[i] = arr[i - 1];\n",
    "    }\n",
    "    arr[pos] = value;\n",
    "    return len + 1; //trả về số phần tử mới\n",
    "}"
   ]
  },
  {
   "cell_type": "markdown",
   "metadata": {},
   "source": [
    "Chèn mảng vào mảng\n",
    "\n",
    "- Đẩy các phần tử sang phải cho đủ chỗ\n",
    "- Đưa phần tử cần chèn vào chỗ trống"
   ]
  },
  {
   "cell_type": "code",
   "execution_count": null,
   "metadata": {},
   "outputs": [],
   "source": [
    "int insert_a2a(int a[], int b[], int na, int nb, int pos){\n",
    "    for(int i = na + nb - 1; i >= nb + pos; i--){\n",
    "        a[i] = a[i-nb];\n",
    "    }\n",
    "    for(int i = 0; i < nb; i++){\n",
    "        a[i + pos] = b[i];\n",
    "    }\n",
    "    return na + nb;\n",
    "}"
   ]
  },
  {
   "cell_type": "markdown",
   "metadata": {},
   "source": [
    "## Delete an element\n",
    "\n",
    "- Đẩy các phần tử sang trái\n",
    "- Sửa lại số phần tử"
   ]
  },
  {
   "cell_type": "code",
   "execution_count": null,
   "metadata": {},
   "outputs": [],
   "source": [
    "int remove(int arr[], int n, int pos){\n",
    "    if(n == 0)\n",
    "        return 0;\n",
    "    for (int i = pos; i < n; i++){\n",
    "        arr[i] = arr[i+1];\n",
    "    }\n",
    "    return n-1;\n",
    "}"
   ]
  },
  {
   "cell_type": "markdown",
   "metadata": {},
   "source": [
    "## Sort an array\n",
    "\n",
    "Tăng dần, giảm dần, hay theo thứ tự từ điển\n",
    "\n",
    "**Selection sort algorithm** (Thuật toán sắp xếp chọn)\n",
    "1. Cho `i` đi từ 0 đến `n - 1` (trái qua phải)\n",
    "2. Tìm vị trí phần tử nhỏ nhất trong `a[i], a[i+1], ..., a[n-1]`\n",
    "3. Tráo đổi phần tử đó với `a[i]`\n",
    "\n",
    "Ví dụ:\n",
    "\n",
    "{ 30, 50, 20, 10, 40 }\n",
    "\n",
    "{ 30, 50, 20, **10**, 40 } // tìm min từ index 0\n",
    "\n",
    "{ **10**, 50, 20, **30**, 40 } // tráo đổi\n",
    "\n",
    "{ *10*, 50, **20**, 30, 40 } // tìm min từ index 1\n",
    "\n",
    "{ *10*, **20**, **50**, 30, 40 } //swap\n",
    "\n",
    "{ *10*, *20*, 50, **30**, 40 } //tìm min từ index 2\n",
    "\n",
    "{ *10*, *20*, **30**, **50**, 40 } //swap\n",
    "\n",
    "{ *10*, *20*, *30*, 50, **40** } // tìm min từ index 3\n",
    "\n",
    "{ *10*, *20*, *30*, **40**, **50**} //swap\n",
    "\n",
    "{ *10*, *20*, *30*, *40*, **50**} // tìm min từ index 4\n",
    "\n",
    "{ *10*, *20*, *30*, *40*, **50**} //swap (do nothing)\n",
    "\n",
    "Done!\n",
    "\n",
    "{ *10*, *20*, *30*, *40*, *50*} "
   ]
  },
  {
   "cell_type": "code",
   "execution_count": 58,
   "metadata": {},
   "outputs": [
    {
     "name": "stdout",
     "output_type": "stream",
     "text": [
      "Overwriting selection_sort.cpp\n"
     ]
    }
   ],
   "source": [
    "%%file selection_sort.cpp\n",
    "\n",
    "//Sắp xếp chọn\n",
    "#include<iostream>\n",
    "\n",
    "void print_array(int arr[], int n)\n",
    "{\n",
    "    for(int i = 0; i < n; i++){\n",
    "        std::cout << arr[i] << \" \";\n",
    "    }\n",
    "    std::cout << std::endl;\n",
    "}\n",
    "\n",
    "void sort(int arr[], int n)\n",
    "{\n",
    "    for(int i = 0; i < n; i++){\n",
    "        int minIndex = i;\n",
    "        // tìm min\n",
    "        for(int j = i+1; j < n; j++){\n",
    "            if(arr[j] < arr[minIndex])\n",
    "                minIndex = j;\n",
    "        }\n",
    "        //swap\n",
    "//         int tmp = arr[i];\n",
    "//         arr[i] = arr[minIndex];\n",
    "//         arr[minIndex] = tmp;\n",
    "        \n",
    "        // or using std::swap\n",
    "        std::swap(arr[i], arr[minIndex]);\n",
    "        \n",
    "        //print array\n",
    "        print_array(arr, n);\n",
    "    }\n",
    "}\n",
    "\n",
    "\n",
    "int main()\n",
    "{\n",
    "    const int len = 5;\n",
    "    int arr[len] = {30, 50, 20, 10, 40};\n",
    "    sort(arr, len);\n",
    "    \n",
    "    // Dùng thư viện\n",
    "//     std::sort(arr, arr+len);\n",
    "//     print_array(arr, len);\n",
    "    return 0;\n",
    "}"
   ]
  },
  {
   "cell_type": "markdown",
   "metadata": {},
   "source": [
    "## Multidimensional array\n",
    "\n",
    "- Ví dụ mảng 2 chiều: 100 dòng, 1000 cột:\n",
    "\n",
    "`int num[100][1000];`\n",
    "\n",
    "Truy xuất: `num[i][j]`: dòng i, cột j\n",
    "\n",
    "- Ví dụ mảng 3 chiều:\n",
    "\n",
    "`int num3[10][10][10];`\n",
    "\n",
    "Truy xuất: `num3[i][j][k]`\n",
    "\n",
    "- Khởi tạo giá trị cho mảng 2 chiều?\n",
    "\n",
    "```\n",
    "int array[3][5] =\n",
    "{\n",
    "{ 1, 2, 3, 4, 5 }, // row 0\n",
    "{ 6, 7, 8, 9, 10 }, // row 1\n",
    "{ 11, 12, 13, 14, 15 } // row 2\n",
    "};\n",
    "\n",
    "```\n",
    "\n",
    "hay\n",
    "\n",
    "```\n",
    "int array[3][5] =\n",
    "{\n",
    "{ 1, 2 }, // row 0 = 1, 2, 0, 0, 0\n",
    "{ 6, 7, 8 }, // row 1 = 6, 7, 8, 0, 0\n",
    "{ 11, 12, 13, 14 } // row 2 = 11, 12, 13, 14, 0\n",
    "};\n",
    "```\n",
    "\n",
    "Có thể bỏ qua khai báo số phần tử của dòng (**leftmost length**)\n",
    "\n",
    "```\n",
    "int array[][5] =\n",
    "{\n",
    "{ 1, 2, 3, 4, 5 },\n",
    "{ 6, 7, 8, 9, 10 },\n",
    "{ 11, 12, 13, 14, 15 }\n",
    "};\n",
    "```\n",
    "\n",
    "Nhưng không được bỏ qua hết:\n",
    "\n",
    "```\n",
    "int array[][] = \n",
    "{\n",
    "{ 1, 2, 3, 4 },\n",
    "{ 5, 6, 7, 8 }\n",
    "}; // not ok\n",
    "```"
   ]
  },
  {
   "cell_type": "markdown",
   "metadata": {},
   "source": [
    "## Các vấn đề khác (advanced)\n",
    "\n",
    "- Truyền vector cho hàm?\n",
    "- Truyền mảng cho hàm nhưng ngăn không cho sửa mảng?\n",
    "- Trả lại giá trị của hàm là mảng?\n",
    "- Truyền mảng nhiều chiều cho hàm?"
   ]
  },
  {
   "cell_type": "code",
   "execution_count": 69,
   "metadata": {},
   "outputs": [
    {
     "name": "stdout",
     "output_type": "stream",
     "text": [
      "Overwriting vec_func.cpp\n"
     ]
    }
   ],
   "source": [
    "%%file vec_func.cpp\n",
    "\n",
    "// passing vector to function\n",
    "\n",
    "#include<iostream>\n",
    "#include<vector>\n",
    "\n",
    "using namespace std;\n",
    "\n",
    "void print_vector(vector<int> v)\n",
    "{\n",
    "    for(int i = 0; i < v.size(); i++){\n",
    "        cout << v[i] << \" \";\n",
    "    }\n",
    "    cout << endl;\n",
    "}\n",
    "\n",
    "int main()\n",
    "{\n",
    "    vector<int> v {1, 2, 3, 4, 5};\n",
    "    print_vector(v);\n",
    "    \n",
    "    return 0;\n",
    "}"
   ]
  }
 ],
 "metadata": {
  "kernelspec": {
   "display_name": "C++11",
   "language": "C++11",
   "name": "xeus-cling-cpp11"
  },
  "language_info": {
   "codemirror_mode": "text/x-c++src",
   "file_extension": ".cpp",
   "mimetype": "text/x-c++src",
   "name": "c++",
   "version": "-std=c++11"
  }
 },
 "nbformat": 4,
 "nbformat_minor": 2
}
