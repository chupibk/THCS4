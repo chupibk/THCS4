{
 "cells": [
  {
   "cell_type": "markdown",
   "metadata": {},
   "source": [
    "# TIN HỌC CƠ SỞ 4 (IT1006 7)\n",
    "\n",
    "#### Diep Nguyen, Ph.D. (ngocdiep@vnu.edu.vn)\n",
    "\n",
    "# https://github.com/chupibk/THCS4"
   ]
  },
  {
   "cell_type": "markdown",
   "metadata": {},
   "source": [
    "## Ôn lại\n",
    "\n",
    "- Tuần 5: Mảng + xâu kí tự (tuần 7)\n",
    "- Tuần 6: Nhập xuất với tệp\n",
    "- Tuần 7: Hàm\n",
    "    + Cơ chế truyền tham số: `pass-by-value`, `pass-by-reference`, `pass-by-address`\n",
    "    + Cơ chế trả lại: `return-by-value`, `return-by-reference`, `return-by-address`\n",
    "   \n",
    "Khác nhau cơ bản giữa `pass/return by value` và `by reference` là gì?\n",
    "\n",
    "# Tuần 8 (25/10/2018): Con trỏ\n"
   ]
  },
  {
   "cell_type": "markdown",
   "metadata": {},
   "source": [
    "## Con trỏ là gì?\n",
    "\n",
    "- Khi khai báo biến\n",
    "    + tên biến được *gắn với một vùng nhớ* chứa giá trị\n",
    "- Khi sử dụng biến\n",
    "    + máy tìm địa chỉ của biến trong bộ nhớ\n",
    "    + đi tới địa chỉ đó và lấy giá trị của biến\n",
    "\n",
    "\n",
    "#### (1) Lấy địa chỉ của biến `&`\n",
    "\n",
    "**The address-of operator**\n",
    "\n",
    "```\n",
    "&variable_name\n",
    "```\n",
    "\n",
    "#### (2) Lấy giá trị ở một địa chỉ nhất định (*)\n",
    "\n",
    "**The dereference operator)\n",
    "\n",
    "```\n",
    "*address_variable_name\n",
    "```\n"
   ]
  },
  {
   "cell_type": "code",
   "execution_count": 1,
   "metadata": {},
   "outputs": [],
   "source": [
    "#include<iostream>\n",
    "using namespace std;"
   ]
  },
  {
   "cell_type": "code",
   "execution_count": 2,
   "metadata": {},
   "outputs": [],
   "source": [
    "int x = 5;"
   ]
  },
  {
   "cell_type": "code",
   "execution_count": 3,
   "metadata": {},
   "outputs": [
    {
     "name": "stdout",
     "output_type": "stream",
     "text": [
      "0x10a0612d0"
     ]
    },
    {
     "data": {
      "text/plain": [
       "@0x109d8e010"
      ]
     },
     "execution_count": 3,
     "metadata": {},
     "output_type": "execute_result"
    }
   ],
   "source": [
    "cout << &x; //địa chỉ của x"
   ]
  },
  {
   "cell_type": "code",
   "execution_count": 4,
   "metadata": {},
   "outputs": [
    {
     "name": "stdout",
     "output_type": "stream",
     "text": [
      "5"
     ]
    },
    {
     "data": {
      "text/plain": [
       "@0x109d8e010"
      ]
     },
     "execution_count": 4,
     "metadata": {},
     "output_type": "execute_result"
    }
   ],
   "source": [
    "cout << *(&x); //giá trị tại địa chỉ của x; == x"
   ]
  },
  {
   "cell_type": "code",
   "execution_count": 8,
   "metadata": {},
   "outputs": [
    {
     "name": "stdout",
     "output_type": "stream",
     "text": [
      "0x10a0612d0"
     ]
    },
    {
     "data": {
      "text/plain": [
       "@0x109d8e010"
      ]
     },
     "execution_count": 8,
     "metadata": {},
     "output_type": "execute_result"
    }
   ],
   "source": [
    "cout << &(*(&x)); //địa chỉ mà giá trị của địa chỉ của x giữ; == & x"
   ]
  },
  {
   "cell_type": "markdown",
   "metadata": {},
   "source": [
    "#### Con trỏ (pointers)\n",
    "\n",
    "- Định nghĩa:\n",
    "\n",
    "Con trỏ là một biến lưu giá trị là địa chỉ bộ nhớ.\n",
    "\n",
    "(A *pointer* is a variable that holds a *memory address* as its value.)\n",
    "\n",
    "- Khai báo một biến con trỏ:\n",
    "\n",
    "```\n",
    "type *pointer_variable_name\n",
    "```\n",
    "\n",
    "- Chú ý: \n",
    "    * Toán tử **(*)** có hai ý nghĩa:\n",
    "        + (1) Lấy giá trị tại một địa chỉ\n",
    "        + (2) Khai báo biến con trỏ\n",
    "    * Toán tử **(&)** có hai ý nghĩa:\n",
    "        + (1) Lấy địa chỉ của một biến --> return không phải *một literal* mà *một pointer* (rvalued)\n",
    "        + (2) Khai báo biến tham chiếu (reference)\n",
    "    "
   ]
  },
  {
   "cell_type": "code",
   "execution_count": 10,
   "metadata": {},
   "outputs": [],
   "source": [
    "int *iPtr; // a pointer to an integer value\n",
    "double *dPtr; // a pointer to a double value"
   ]
  },
  {
   "cell_type": "code",
   "execution_count": 12,
   "metadata": {},
   "outputs": [
    {
     "name": "stderr",
     "output_type": "stream",
     "text": [
      "\u001b[1minput_line_25:3:10: \u001b[0m\u001b[0;1;35mwarning: \u001b[0m\u001b[1mnull passed to a callee that requires a non-null argument [-Wnonnull]\u001b[0m\n",
      "cout << *iPtr;\n",
      "\u001b[0;1;32m         ^~~~\n",
      "\u001b[0m"
     ]
    },
    {
     "ename": "Interpreter Exception",
     "evalue": "",
     "output_type": "error",
     "traceback": [
      "Interpreter Exception: "
     ]
    }
   ],
   "source": [
    "//In ra giá trị mà con trỏ chỉ tới\n",
    "cout << *iPtr;"
   ]
  },
  {
   "cell_type": "code",
   "execution_count": 13,
   "metadata": {},
   "outputs": [],
   "source": [
    "// Khai báo con trỏ mà không khởi tạo có thể gây nguy hiểm tới các chương trình khác\n",
    "// Thông thường nhất là để biến con trỏ lưu địa chỉ của một biến khác\n",
    "int value = 6;\n",
    "int *ptr = &value; // initialize ptr with address of variable value"
   ]
  },
  {
   "cell_type": "code",
   "execution_count": 17,
   "metadata": {},
   "outputs": [
    {
     "name": "stdout",
     "output_type": "stream",
     "text": [
      "6"
     ]
    },
    {
     "data": {
      "text/plain": [
       "@0x109d8e010"
      ]
     },
     "execution_count": 17,
     "metadata": {},
     "output_type": "execute_result"
    }
   ],
   "source": [
    "cout << *ptr; //== value"
   ]
  },
  {
   "cell_type": "code",
   "execution_count": 18,
   "metadata": {},
   "outputs": [
    {
     "name": "stdout",
     "output_type": "stream",
     "text": [
      "0x10a061c80"
     ]
    },
    {
     "data": {
      "text/plain": [
       "@0x109d8e010"
      ]
     },
     "execution_count": 18,
     "metadata": {},
     "output_type": "execute_result"
    }
   ],
   "source": [
    "cout << &value; //== ptr"
   ]
  },
  {
   "cell_type": "code",
   "execution_count": 19,
   "metadata": {},
   "outputs": [
    {
     "name": "stdout",
     "output_type": "stream",
     "text": [
      "0x10a061c80"
     ]
    },
    {
     "data": {
      "text/plain": [
       "@0x109d8e010"
      ]
     },
     "execution_count": 19,
     "metadata": {},
     "output_type": "execute_result"
    }
   ],
   "source": [
    "cout << &(*ptr); // == ptr"
   ]
  },
  {
   "cell_type": "code",
   "execution_count": 21,
   "metadata": {},
   "outputs": [
    {
     "name": "stdout",
     "output_type": "stream",
     "text": [
      "6"
     ]
    },
    {
     "data": {
      "text/plain": [
       "@0x109d8e010"
      ]
     },
     "execution_count": 21,
     "metadata": {},
     "output_type": "execute_result"
    }
   ],
   "source": [
    "cout << *(&value); // == value == *ptr"
   ]
  },
  {
   "cell_type": "code",
   "execution_count": 22,
   "metadata": {},
   "outputs": [],
   "source": [
    "string line = \"chupi\";\n",
    "string *pline = &line;"
   ]
  },
  {
   "cell_type": "code",
   "execution_count": 23,
   "metadata": {},
   "outputs": [
    {
     "name": "stdout",
     "output_type": "stream",
     "text": [
      "0x10a5345c8"
     ]
    }
   ],
   "source": [
    "cout << pline;"
   ]
  },
  {
   "cell_type": "code",
   "execution_count": 25,
   "metadata": {},
   "outputs": [
    {
     "name": "stdout",
     "output_type": "stream",
     "text": [
      "0x10a5345c8"
     ]
    }
   ],
   "source": [
    "cout << &line;"
   ]
  },
  {
   "cell_type": "code",
   "execution_count": 26,
   "metadata": {},
   "outputs": [
    {
     "name": "stdout",
     "output_type": "stream",
     "text": [
      "chupi"
     ]
    }
   ],
   "source": [
    "cout << *pline;"
   ]
  },
  {
   "cell_type": "code",
   "execution_count": 27,
   "metadata": {},
   "outputs": [
    {
     "name": "stdout",
     "output_type": "stream",
     "text": [
      "0x10a5345e0"
     ]
    }
   ],
   "source": [
    "cout << &pline;"
   ]
  },
  {
   "cell_type": "markdown",
   "metadata": {},
   "source": [
    "## Sử dụng con trỏ\n",
    "\n",
    "#### (1) Biến con trỏ cần có kiểu\n",
    "\n",
    "Không thể khai báo một biến con trỏ lưu địa chỉ của một biến khác kiểu"
   ]
  },
  {
   "cell_type": "code",
   "execution_count": 28,
   "metadata": {},
   "outputs": [
    {
     "name": "stderr",
     "output_type": "stream",
     "text": [
      "\u001b[1minput_line_49:3:6: \u001b[0m\u001b[0;1;31merror: \u001b[0m\u001b[1mcannot initialize a variable of type 'int *' with an rvalue of type 'double *'\u001b[0m\n",
      "int *bPtr = &b;\n",
      "\u001b[0;1;32m     ^      ~~\n",
      "\u001b[0m"
     ]
    },
    {
     "ename": "Interpreter Error",
     "evalue": "",
     "output_type": "error",
     "traceback": [
      "Interpreter Error: "
     ]
    }
   ],
   "source": [
    "double b = 6.7;\n",
    "int *bPtr = &b;"
   ]
  },
  {
   "cell_type": "markdown",
   "metadata": {},
   "source": [
    "#### (2) Gán lại giá trị\n",
    "\n",
    "Khi địa chỉ của biến `value` được gán cho biến con trỏ `ptr`, ta có:\n",
    "- `ptr` giống như `&value`\n",
    "- `*ptr` giống như `value`\n",
    "\n",
    "=> có thể gán giá trị cho `*ptr` như thể nó là biến `value`"
   ]
  },
  {
   "cell_type": "code",
   "execution_count": 31,
   "metadata": {},
   "outputs": [
    {
     "name": "stdout",
     "output_type": "stream",
     "text": [
      "6"
     ]
    }
   ],
   "source": [
    "cout << value;"
   ]
  },
  {
   "cell_type": "code",
   "execution_count": 32,
   "metadata": {},
   "outputs": [
    {
     "name": "stdout",
     "output_type": "stream",
     "text": [
      "7"
     ]
    }
   ],
   "source": [
    "*ptr = 7;\n",
    "cout << value;"
   ]
  },
  {
   "cell_type": "markdown",
   "metadata": {},
   "source": [
    "#### (3) Truyền tham số và trả lại giá trị cho hàm"
   ]
  },
  {
   "cell_type": "code",
   "execution_count": 34,
   "metadata": {},
   "outputs": [
    {
     "name": "stdout",
     "output_type": "stream",
     "text": [
      "Overwriting swap_pointer.cpp\n"
     ]
    }
   ],
   "source": [
    "%%file swap_pointer.cpp\n",
    "\n",
    "#include<iostream>\n",
    "\n",
    "void swap(int *a, int *b){\n",
    "    int tmp = *a;\n",
    "    *a = *b;\n",
    "    *b = tmp;\n",
    "}\n",
    "\n",
    "int main()\n",
    "{\n",
    "    int x = 5, y = 6;\n",
    "    std::cout << \"Before: x = \" << x << \", y = \" << y << std::endl;\n",
    "    swap(&x, &y);\n",
    "    std::cout << \"After: x = \" << x <<\", y = \" << y << std::endl;\n",
    "    return 0;\n",
    "}"
   ]
  },
  {
   "cell_type": "code",
   "execution_count": null,
   "metadata": {},
   "outputs": [],
   "source": [
    "//Ví dụ return by address\n",
    "// Return dynamically allocated memory to the caller\n",
    "int* allocateArray(int size)\n",
    "{\n",
    "    return new int[size];\n",
    "}\n",
    "\n",
    "int main()\n",
    "{\n",
    "    int *array = allocatedArray(25);\n",
    "    //do stuff with array here\n",
    "    \n",
    "    delete[] array;\n",
    "    return 0;\n",
    "}"
   ]
  },
  {
   "cell_type": "markdown",
   "metadata": {},
   "source": [
    "#### (4) Từ khoá const với con trỏ\n",
    "\n",
    "\n",
    "```\n",
    "const int *ptr = &x;\n",
    "```\n",
    "--> Không được sửa giá trị `ptr` trỏ đến (`*ptr`)\n",
    "\n",
    "\n",
    "```\n",
    "int * const ptr = &x;\n",
    "```\n",
    "--> Được sửa `*ptr` nhưng không được sửa `ptr`\n",
    "\n",
    "```\n",
    "const int* const ptr = &x;\n",
    "```\n",
    "--> Không được sửa cả `*ptr` và `ptr`\n",
    "\n",
    "Tham khảo thêm: [https://www.learncpp.com/cpp-tutorial/610-pointers-and-const/](https://www.learncpp.com/cpp-tutorial/610-pointers-and-const/)"
   ]
  },
  {
   "cell_type": "markdown",
   "metadata": {},
   "source": [
    "#### (5) Con trỏ và mảng\n",
    "\n",
    "Tên mảng tĩnh là con trỏ đến phần tử đầu tiên của mảng.\n",
    "\n",
    "-> truyền mảng bản chất là truyền con trỏ.\n"
   ]
  },
  {
   "cell_type": "code",
   "execution_count": 39,
   "metadata": {},
   "outputs": [],
   "source": [
    "int arr[] = {1, 2, 3, 4, 5};"
   ]
  },
  {
   "cell_type": "code",
   "execution_count": 40,
   "metadata": {},
   "outputs": [],
   "source": [
    "int *p = arr;"
   ]
  },
  {
   "cell_type": "code",
   "execution_count": 47,
   "metadata": {},
   "outputs": [
    {
     "name": "stdout",
     "output_type": "stream",
     "text": [
      "0x10a534dc0 0x10a534dc4 0x10a534dc8 0x10a534dcc 0x10a534dd0 "
     ]
    }
   ],
   "source": [
    "for (int i = 0; i < 5; i++){\n",
    "    cout << &arr[i] << \" \";\n",
    "}"
   ]
  },
  {
   "cell_type": "code",
   "execution_count": 60,
   "metadata": {},
   "outputs": [],
   "source": [
    "p = arr;\n",
    "cout << ++p; "
   ]
  },
  {
   "cell_type": "code",
   "execution_count": null,
   "metadata": {},
   "outputs": [],
   "source": [
    "//khác gì lệnh sau:\n",
    "p = arr;\n",
    "cout << p++; //??"
   ]
  },
  {
   "cell_type": "code",
   "execution_count": 66,
   "metadata": {},
   "outputs": [
    {
     "name": "stdout",
     "output_type": "stream",
     "text": [
      "4"
     ]
    }
   ],
   "source": [
    "p = &arr[3];\n",
    "cout << *p;"
   ]
  },
  {
   "cell_type": "code",
   "execution_count": null,
   "metadata": {},
   "outputs": [],
   "source": [
    "//In ra gì?\n",
    "cout << p[0] << endl;\n",
    "cout << p[2] << endl;"
   ]
  },
  {
   "cell_type": "code",
   "execution_count": 70,
   "metadata": {},
   "outputs": [
    {
     "name": "stdout",
     "output_type": "stream",
     "text": [
      "1 2 3 4 5 "
     ]
    }
   ],
   "source": [
    "// Dùng con trỏ để duyệt mảng\n",
    "int arrLen = 5;\n",
    "for(int *p = arr; p < arr + arrLen; ++p){\n",
    "    cout << *p << \" \";\n",
    "}"
   ]
  },
  {
   "cell_type": "markdown",
   "metadata": {},
   "source": [
    "#### 6. Con trỏ tới con trỏ\n",
    "\n",
    "`int *ptr;` // pointer to an int, one asterisk\n",
    "\n",
    "`int **ptrptr;` //pointer to a pointer to an int, two asterisks\n",
    "\n",
    "Một con trỏ tới con trỏ hoạt động như một con trỏ bình thường. Ta có thể *dereference* nó để lấy giá trị mà nó trỏ tới. Và vì giá trị đó là một con trỏ, ta có thể *dereference* thêm lần nữa để lấy giá trị ban đầu."
   ]
  },
  {
   "cell_type": "code",
   "execution_count": 71,
   "metadata": {},
   "outputs": [],
   "source": [
    "int v = 5;\n",
    "int *vptr = &v;"
   ]
  },
  {
   "cell_type": "code",
   "execution_count": 72,
   "metadata": {},
   "outputs": [
    {
     "name": "stdout",
     "output_type": "stream",
     "text": [
      "5"
     ]
    },
    {
     "data": {
      "text/plain": [
       "@0x109d8e010"
      ]
     },
     "execution_count": 72,
     "metadata": {},
     "output_type": "execute_result"
    }
   ],
   "source": [
    "cout << *vptr; // == v"
   ]
  },
  {
   "cell_type": "code",
   "execution_count": 75,
   "metadata": {},
   "outputs": [],
   "source": [
    "int **ptrVptr = &vptr;"
   ]
  },
  {
   "cell_type": "code",
   "execution_count": 76,
   "metadata": {},
   "outputs": [
    {
     "name": "stdout",
     "output_type": "stream",
     "text": [
      "5"
     ]
    },
    {
     "data": {
      "text/plain": [
       "@0x109d8e010"
      ]
     },
     "execution_count": 76,
     "metadata": {},
     "output_type": "execute_result"
    }
   ],
   "source": [
    "cout << **ptrVptr; // first dereference to get vptr, then to get an int value"
   ]
  },
  {
   "cell_type": "code",
   "execution_count": null,
   "metadata": {},
   "outputs": [],
   "source": [
    "//Can't do this\n",
    "int **ptrptr = &&v; //why?"
   ]
  },
  {
   "cell_type": "markdown",
   "metadata": {},
   "source": [
    "#### 7. Mảng của con trỏ và mảng nhiều chiều\n",
    "\n",
    "Con trỏ của con trỏ có thể dùng để:\n",
    "- Cấp phát bộ nhớ động cho mảng của con trỏ\n",
    "- Cấp phát bộ nhớ động cho mảng nhiều chiều"
   ]
  },
  {
   "cell_type": "code",
   "execution_count": 78,
   "metadata": {},
   "outputs": [],
   "source": [
    "int **array = new int*[10]; //allocate an array of 10 int pointers"
   ]
  },
  {
   "cell_type": "code",
   "execution_count": null,
   "metadata": {},
   "outputs": [],
   "source": [
    "//a bit trickier for multidimensional array\n",
    "//invalid: int **marray = new int[10][5];\n",
    "//valid: \n",
    "\n",
    "int (*marray)[5] = new int[10][5];\n",
    "\n",
    "\n",
    "//C++: use automatic type deduction\n",
    "auto marray = new int[10][5];"
   ]
  },
  {
   "cell_type": "code",
   "execution_count": null,
   "metadata": {},
   "outputs": [],
   "source": [
    "//Note: the right-most dimension must be a compile-time constant. Otherwise:\n",
    "int **array = new int*[10]; // allocate an array of 10 int pointers — these are our rows\n",
    "for (int count = 0; count < 10; ++count)\n",
    "    array[count] = new int[5]; // these are our columns\n"
   ]
  },
  {
   "cell_type": "code",
   "execution_count": null,
   "metadata": {},
   "outputs": [],
   "source": []
  },
  {
   "cell_type": "markdown",
   "metadata": {},
   "source": [
    "### Tìm hiểu thêm (advanced):\n",
    "- Null pointers:[https://www.learncpp.com/cpp-tutorial/6-7a-null-pointers/](https://www.learncpp.com/cpp-tutorial/6-7a-null-pointers/)\n",
    "- Void pointers: [https://www.learncpp.com/cpp-tutorial/613-void-pointers/](https://www.learncpp.com/cpp-tutorial/613-void-pointers/)\n",
    "- Function pointers: [https://www.learncpp.com/cpp-tutorial/6-7a-null-pointers/](https://www.learncpp.com/cpp-tutorial/6-7a-null-pointers/)"
   ]
  },
  {
   "cell_type": "markdown",
   "metadata": {},
   "source": [
    "### Function pointers\n",
    "\n",
    "Dùng để truyền một hàm như một tham trị (argument) cho một hàm khác. \n",
    "\n",
    "--> hay còn được gọi là **callback functions**.\n"
   ]
  },
  {
   "cell_type": "code",
   "execution_count": 86,
   "metadata": {},
   "outputs": [
    {
     "name": "stdout",
     "output_type": "stream",
     "text": [
      "Overwriting selection_sort.cpp\n"
     ]
    }
   ],
   "source": [
    "%%file selection_sort.cpp\n",
    "\n",
    "#include <iostream>\n",
    "#include <algorithm> // for std::swap, use <utility> instead if C++11\n",
    " \n",
    "void selectionSort(int *array, int size)\n",
    "{\n",
    "    // Step through each element of the array\n",
    "    for (int startIndex = 0; startIndex < size; ++startIndex)\n",
    "    {\n",
    "        int smallestIndex = startIndex;\n",
    " \n",
    "        // Look for smallest element remaining in the array (starting at startIndex+1)\n",
    "        for (int currentIndex = startIndex + 1; currentIndex < size; ++currentIndex)\n",
    "        {\n",
    "            if (array[smallestIndex] > array[currentIndex]) // COMPARISON DONE HERE\n",
    "                // This is the new smallest number for this iteration\n",
    "                smallestIndex = currentIndex;\n",
    "        }\n",
    " \n",
    "        // Swap our start element with our smallest element\n",
    "        std::swap(array[startIndex], array[smallestIndex]);\n",
    "    }\n",
    "}\n",
    "\n",
    "\n",
    "void printArray(int *array, int size)\n",
    "{\n",
    "    for (int index=0; index < size; ++index)\n",
    "        std::cout << array[index] << \" \";\n",
    "    std::cout << '\\n';\n",
    "}\n",
    "\n",
    "\n",
    "int main()\n",
    "{\n",
    "    int array[9] = { 3, 7, 9, 5, 6, 1, 8, 2, 4 };\n",
    " \n",
    "    selectionSort(array, 9);\n",
    "    printArray(array, 9);\n",
    "    \n",
    "    return 0;\n",
    "}"
   ]
  },
  {
   "cell_type": "code",
   "execution_count": null,
   "metadata": {},
   "outputs": [],
   "source": [
    "//to sort by an ascending order\n",
    "bool ascending(int x, int y)\n",
    "{\n",
    "    return x > y; // swap if the first element is greater than the second\n",
    "}\n"
   ]
  },
  {
   "cell_type": "code",
   "execution_count": null,
   "metadata": {},
   "outputs": [],
   "source": [
    "//use for comparison\n",
    "if (ascending(array[smallestIndex], array[currentIndex]))"
   ]
  },
  {
   "cell_type": "code",
   "execution_count": null,
   "metadata": {},
   "outputs": [],
   "source": [
    "//to sort by a descending order\n",
    "bool descending(int x, int y)\n",
    "{\n",
    "    return x < y;\n",
    "}"
   ]
  },
  {
   "cell_type": "code",
   "execution_count": null,
   "metadata": {},
   "outputs": [],
   "source": [
    "//sort even numbers first by ascending orders\n",
    "bool evensFirst(int x, int y)\n",
    "{\n",
    "    // if x is even and y is odd, x goes first (no swap needed)\n",
    "    if ((x % 2 == 0) && !(y % 2 == 0))\n",
    "        return false;\n",
    " \n",
    "    // if x is odd and y is even, y goes first (swap needed)\n",
    "    if (!(x % 2 == 0) && (y % 2 == 0))\n",
    "        return true;\n",
    " \n",
    "        // otherwise sort in ascending order\n",
    "    return ascending(x, y);\n",
    "}"
   ]
  },
  {
   "cell_type": "code",
   "execution_count": null,
   "metadata": {},
   "outputs": [],
   "source": [
    "// Note our user-defined comparison is the third parameter\n",
    "void selectionSort(int *array, int size, bool (*comparisonFcn)(int, int))\n",
    "....\n",
    "\n",
    "if (comparisonFcn(array[bestIndex], array[currentIndex])) // COMPARISON DONE HERE\n",
    "\n",
    "//Call the function:\n",
    "selectionSort(array, 9, ascending);\n"
   ]
  },
  {
   "cell_type": "code",
   "execution_count": 88,
   "metadata": {},
   "outputs": [
    {
     "name": "stdout",
     "output_type": "stream",
     "text": [
      "Overwriting selection_sort_callback.cpp\n"
     ]
    }
   ],
   "source": [
    "%%file selection_sort_callback.cpp\n",
    "\n",
    "#include <iostream>\n",
    "#include <algorithm> // for std::swap, use <utility> instead if C++11\n",
    " \n",
    "\n",
    "bool ascending(int x, int y)\n",
    "{\n",
    "    return x > y;\n",
    "}\n",
    "\n",
    "bool descending(int x, int y)\n",
    "{\n",
    "    return x < y;\n",
    "}\n",
    "\n",
    "//sort even numbers first by ascending orders\n",
    "bool evensFirst(int x, int y)\n",
    "{\n",
    "    // if x is even and y is odd, x goes first (no swap needed)\n",
    "    if ((x % 2 == 0) && !(y % 2 == 0))\n",
    "        return false;\n",
    " \n",
    "    // if x is odd and y is even, y goes first (swap needed)\n",
    "    if (!(x % 2 == 0) && (y % 2 == 0))\n",
    "        return true;\n",
    " \n",
    "        // otherwise sort in ascending order\n",
    "    return ascending(x, y);\n",
    "}\n",
    "\n",
    "void selectionSort(int *array, int size, bool (*comparisonFunc)(int, int))\n",
    "{\n",
    "    // Step through each element of the array\n",
    "    for (int startIndex = 0; startIndex < size; ++startIndex)\n",
    "    {\n",
    "        int smallestIndex = startIndex;\n",
    " \n",
    "        // Look for smallest element remaining in the array (starting at startIndex+1)\n",
    "        for (int currentIndex = startIndex + 1; currentIndex < size; ++currentIndex)\n",
    "        {\n",
    "            if (comparisonFunc(array[smallestIndex], array[currentIndex])) // COMPARISON DONE HERE\n",
    "                // This is the new smallest number for this iteration\n",
    "                smallestIndex = currentIndex;\n",
    "        }\n",
    " \n",
    "        // Swap our start element with our smallest element\n",
    "        std::swap(array[startIndex], array[smallestIndex]);\n",
    "    }\n",
    "}\n",
    "\n",
    "\n",
    "void printArray(int *array, int size)\n",
    "{\n",
    "    for (int index=0; index < size; ++index)\n",
    "        std::cout << array[index] << \" \";\n",
    "    std::cout << '\\n';\n",
    "}\n",
    "\n",
    "\n",
    "int main()\n",
    "{\n",
    "    int array[9] = { 3, 7, 9, 5, 6, 1, 8, 2, 4 };\n",
    " \n",
    "    selectionSort(array, 9, descending);\n",
    "    printArray(array, 9);\n",
    "    \n",
    " \n",
    "    selectionSort(array, 9, evensFirst);\n",
    "    printArray(array, 9);\n",
    "    \n",
    "    return 0;\n",
    "}\n"
   ]
  },
  {
   "cell_type": "code",
   "execution_count": null,
   "metadata": {},
   "outputs": [],
   "source": [
    "//In C++11\n",
    "\n",
    "void selectionSort(int *array, int size, std::function<bool(int, int)>comparisonFunc)"
   ]
  },
  {
   "cell_type": "markdown",
   "metadata": {},
   "source": [
    "### Summarization\n",
    "\n",
    "What good are pointers?\n",
    "\n",
    "At this point, pointers may seem a little silly, academic, or obtuse. Why use a pointer if we can just use the original variable?\n",
    "\n",
    "It turns out that pointers are useful in many different cases:\n",
    "\n",
    "1. Arrays are implemented using pointers. Pointers can be used to iterate through an array (as an alternative to array indices).\n",
    "2. They are the only way you can dynamically allocate memory in C++. This is by far the most common use case for pointers.\n",
    "3. They can be used to pass a large amount of data to a function in a way that doesn’t involve copying the data, which is inefficient.\n",
    "4. They can be used to pass a function as a parameter to another function.\n",
    "5. They can be used to achieve polymorphism when dealing with inheritance (next lesson).\n",
    "6. They can be used to have one struct/class point at another struct/class, to form a chain. This is useful in some more advanced data structures, such as linked lists and trees.\n"
   ]
  },
  {
   "cell_type": "markdown",
   "metadata": {},
   "source": [
    "# Mid-term essay\n",
    "\n",
    "Hãy so sánh ngôn ngữ lập trình C++ và ngôn ngữ tự nhiên (ví dụ tiếng Việt)\n",
    "\n",
    "**Yêu cầu**:\n",
    "- Hạn nộp: 1/11/2018 (Tuần 9)\n",
    "- In và nộp cho lớp trưởng trước giờ học\n",
    "- Giới hạn từ: khoảng 500-600 từ (tiếng Việt hoặc tiếng Anh), hoặc 1000-1200 chữ tiếng Nhật\n"
   ]
  },
  {
   "cell_type": "code",
   "execution_count": null,
   "metadata": {},
   "outputs": [],
   "source": []
  }
 ],
 "metadata": {
  "kernelspec": {
   "display_name": "C++11",
   "language": "C++11",
   "name": "xeus-cling-cpp11"
  },
  "language_info": {
   "codemirror_mode": "text/x-c++src",
   "file_extension": ".cpp",
   "mimetype": "text/x-c++src",
   "name": "c++",
   "version": "-std=c++11"
  }
 },
 "nbformat": 4,
 "nbformat_minor": 2
}
