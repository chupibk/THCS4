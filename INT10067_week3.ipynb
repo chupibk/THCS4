{
 "cells": [
  {
   "cell_type": "markdown",
   "metadata": {},
   "source": [
    "# TIN HỌC CƠ SỞ 4 (IT1006 7)\n",
    "\n",
    "#### Diep Nguyen, Ph.D. (ngocdiep@vnu.edu.vn)\n"
   ]
  },
  {
   "cell_type": "markdown",
   "metadata": {},
   "source": [
    "## Ôn lại\n",
    "\n",
    "### Tuần 1 (30/8/2018)\n",
    "\n",
    "Chương trình, soạn và biên dịch chương trình\n",
    "\n",
    "\n",
    "\n",
    "### Tuần 2 (13/9/2018)\n",
    "\n",
    "Biến, kiểu dữ liệu, khởi tạo và gán giá trị cho biến, nhập xuất chuẩn `cout` & `cin`\n",
    "\n",
    "- Kiểu cơ bản hay dùng: `int`, `char`, `float`, `double`, `bool`\n",
    "- Kích thước bộ nhớ: `sizeof()`; kiểu: `typeid().name();`\n",
    "- Khởi tạo dùng uniform (C++11): `var_type var_name {var_value};`\n",
    "- `cout <<` và `cin >>`\n",
    "    + Nhớ xoá bộ nhớ đệm khi `cin >>` (dùng, `std::cin.ignore(32767, `\\n`);`\n",
    "    "
   ]
  },
  {
   "cell_type": "markdown",
   "metadata": {},
   "source": [
    "## Ép kiểu"
   ]
  },
  {
   "cell_type": "markdown",
   "metadata": {},
   "source": [
    "## Tuần 3 (20/9/2018)\n",
    "\n",
    "- Luồng điều khiển: Tuần tự vs rẽ nhánh\n",
    "- Lệnh `if`, `if ... else`, `switch`\n",
    "- Biểu thức điều khiển (kiểu `bool`)"
   ]
  },
  {
   "cell_type": "markdown",
   "metadata": {},
   "source": [
    "## Từ tuần tự đến rẽ nhánh\n",
    "\n",
    "Chương trình gồm các câu lệnh.\n",
    "\n",
    "Các câu lệnh được thực hiện thứ tự, tuần tự:\n",
    "\n",
    "```\n",
    "(1) Khai báo biến int age {};\n",
    "\n",
    "(2) In câu \"Nhập tuổi của bạn vào: \"\n",
    "\n",
    "(3) Nhập tuổi vào biến cin >> age;\n",
    "\n",
    "(4) In câu \"Tuổi của bạn là \" và số tuổi nhập vào\n",
    "\n",
    "```\n",
    "\n",
    "***Hoặc*** các lệnh lần lượt được **chuyển quyền điều khiển** để thực hiện:\n",
    "\n",
    "```\n",
    "Nếu tuổi lớn hơn 18, in ra \"Bạn có thể tiếp tục.\"\n",
    "Nếu không, in ra \"Bạn chưa đủ tuổi.\"              \n",
    "```\n",
    "\n",
    "            age >= 18;   ----------No------------\n",
    "                |                               |      \n",
    "                | yes                           |\n",
    "                |                               |\n",
    "      cout << \"Bạn có thể tiếp tục\";   cout << \"Bạn chưa đủ tuổi\"\n",
    "\n",
    "\n",
    "===> **Điều khiển rẽ nhánh**\n",
    "                     \n",
    "\n"
   ]
  },
  {
   "cell_type": "markdown",
   "metadata": {},
   "source": [
    "## 4 loại luồng điều khiển\n",
    "\n",
    "- Dừng (**halt**), báo chương trình dừng ngay lập tức\n",
    "    + cú pháp: `exit(mã thoát);`\n",
    "- Nhảy (**jumps**), báo chương trình nhảy sang một câu lệnh khác\n",
    "    + từ khoá: `goto`, `break`, `continue`\n",
    "- Rẽ nhánh có điều kiện (**conditional branching**), chương trình thực hiện dãy các lệnh phù hợp với điều kiện\n",
    "- Lặp (**loop**): chương trình lặp lại một dãy các lệnh cho đến khi điều kiện trả lại sai\n",
    "    + Tuần 4\n",
    "\n",
    "- Ngoại lệ (**exceptions**): cơ chế xử lý khi một hàm gọi bị lỗi\n",
    "    + Tuần 7\n"
   ]
  },
  {
   "cell_type": "code",
   "execution_count": 5,
   "metadata": {},
   "outputs": [
    {
     "name": "stdout",
     "output_type": "stream",
     "text": [
      "Writing halt_example.cpp\n"
     ]
    }
   ],
   "source": [
    "%%file halt_example.cpp\n",
    "\n",
    "#include <iostream>\n",
    "\n",
    "using namespace std;\n",
    "int main()\n",
    "{\n",
    "    int age;\n",
    "    cout << \"Nhap vao so tuoi cua ban: \" ;\n",
    "    cin >> age;\n",
    "    \n",
    "    //exit here, no matter what!\n",
    "    //note: even if exit() called from function not \"main\"\n",
    "    exit(0);\n",
    "    \n",
    "    cout << \"Tuoi ban nhap vao la: \" << age << endl;\n",
    "    \n",
    "    return 0;\n",
    "}"
   ]
  },
  {
   "cell_type": "markdown",
   "metadata": {},
   "source": [
    "## Conditional statements\n",
    "\n",
    "+ **if statement**\n",
    "    ```\n",
    "        if (biểu thức điều kiện)\n",
    "        {\n",
    "           các lệnh trong nhánh YES (khi điều kiện đúng);\n",
    "        } else\n",
    "        {\n",
    "           các lệnh trong nhánh NO (khi điều kiện sai);\n",
    "        }\n",
    "     ```\n",
    "+ **switch statement**\n",
    "    ```\n",
    "        switch (biểu thức)\n",
    "        {\n",
    "            case <giá trị 1>:\n",
    "                các lệnh khi biểu thức có giá trị 1;\n",
    "                break; // nếu không có, sẽ thực hiện tuần tự\n",
    "            case <giá trị 2>:\n",
    "                các lệnh khi biểu thức có giá trị 2;\n",
    "                break;\n",
    "            ...\n",
    "            default:\n",
    "                các lệnh khi biểu thức có các giá trị khác;\n",
    "        }\n",
    "    ```\n",
    "    "
   ]
  },
  {
   "cell_type": "markdown",
   "metadata": {},
   "source": [
    "## If statement"
   ]
  },
  {
   "cell_type": "code",
   "execution_count": 4,
   "metadata": {},
   "outputs": [
    {
     "name": "stdout",
     "output_type": "stream",
     "text": [
      "Overwriting if_example.cpp\n"
     ]
    }
   ],
   "source": [
    "%%file if_example.cpp\n",
    "\n",
    "// In câu phù hợp với số tuổi nhập vào\n",
    "\n",
    "#include <iostream>\n",
    "\n",
    "using namespace std;\n",
    "int main()\n",
    "{\n",
    "    int age;\n",
    "    cout << \"Nhap vao so tuoi cua ban: \" ;\n",
    "    cin >> age;\n",
    "    \n",
    "    if (age >= 18)\n",
    "    {\n",
    "        cout << \"Xin chao! \\n\";\n",
    "        cout << \"Ban co the tiep tuc.\\n\";\n",
    "    } else\n",
    "    {\n",
    "        cout << \"Xin loi.\\n\";\n",
    "        cout << \"Ban chua du tuoi.\\n\";\n",
    "    }\n",
    "    \n",
    "    return 0;\n",
    "}"
   ]
  },
  {
   "cell_type": "markdown",
   "metadata": {},
   "source": [
    "## Chaining or nesting if statements\n",
    "\n",
    "Chaining:\n",
    "\n",
    "```\n",
    "if (c1)\n",
    "{} \n",
    "else if (c2)\n",
    "{}\n",
    "else if (c3)\n",
    "{}\n",
    "else\n",
    "{}\n",
    "```\n",
    "\n",
    "Nesting:\n",
    "\n",
    "```\n",
    "if (c1)\n",
    "{}\n",
    "else\n",
    "{\n",
    "    if (c2)\n",
    "    {}\n",
    "    else\n",
    "    {\n",
    "        if (c3)\n",
    "        {}\n",
    "        else\n",
    "        {}\n",
    "    }\n",
    "}\n",
    "```"
   ]
  },
  {
   "cell_type": "code",
   "execution_count": 6,
   "metadata": {},
   "outputs": [
    {
     "name": "stdout",
     "output_type": "stream",
     "text": [
      "Writing chaining_example.cpp\n"
     ]
    }
   ],
   "source": [
    "%%file chaining_example.cpp\n",
    "\n",
    "\n",
    "#include <iostream>\n",
    " \n",
    "int main()\n",
    "{\n",
    "    std::cout << \"Enter a positive number between 0 and 9999: \";\n",
    "    int x;\n",
    "    std::cin >> x;\n",
    " \n",
    "    if (x < 0)\n",
    "        std::cout << x << \" is negative\\n\";\n",
    "    else if (x < 10)\n",
    "        std::cout << x << \" has 1 digit\\n\";\n",
    "    else if (x < 100) \n",
    "        std::cout << x << \" has 2 digits\\n\";\n",
    "    else if (x < 1000) \n",
    "        std::cout << x << \" has 3 digits\\n\";\n",
    "    else if (x < 10000) \n",
    "        std::cout << x << \" has 4 digits\\n\";\n",
    "    else\n",
    "        std::cout << x << \" was larger than 9999\\n\";\n",
    " \n",
    "    return 0;\n",
    "}"
   ]
  },
  {
   "cell_type": "code",
   "execution_count": 8,
   "metadata": {},
   "outputs": [
    {
     "name": "stdout",
     "output_type": "stream",
     "text": [
      "Overwriting nesting_example.cpp\n"
     ]
    }
   ],
   "source": [
    "%%file nesting_example.cpp\n",
    "\n",
    "#include <iostream>\n",
    " \n",
    "int main()\n",
    "{\n",
    "    std::cout << \"Enter a number: \";\n",
    "    int x;\n",
    "    std::cin >> x;\n",
    " \n",
    "    if (x >= 10) // outer if statement\n",
    "        // it is bad coding style to nest if statements this way\n",
    "        if (x <= 20) // inner if statement\n",
    "            std::cout << x << \"is between 10 and 20\\n\";\n",
    " \n",
    "        // which if statement does this else belong to?\n",
    "    else\n",
    "            std::cout << x << \"is greater than 20\\n\";\n",
    " \n",
    "    return 0;\n",
    "}"
   ]
  },
  {
   "cell_type": "markdown",
   "metadata": {},
   "source": [
    "## Các vấn đề thường gặp\n",
    "\n",
    "#### 1. Dangling else problem\n",
    "\n",
    "Trong chương trình trên, `else` là tương ứng với `if` nào?\n",
    "\n",
    "-> `else` cặp với `if` cuối cùng chưa có cặp!\n",
    "\n",
    "-> tránh dùng, nên cho `{}` block vào.\n",
    "\n",
    "```\n",
    "if (x >= 10) // outer if statement\n",
    "{\n",
    "    if (x <= 20) // inner if statement\n",
    "        std::cout << x << \"is between 10 and 20\\n\";\n",
    "    else\n",
    "        std::cout << x << \"is greater than 20\\n\";\n",
    "}\n",
    "```"
   ]
  },
  {
   "cell_type": "markdown",
   "metadata": {},
   "source": [
    "#### 2. Biến không được định nghĩa\n",
    "\n",
    "Lỗi gì xảy ra khi chạy chương trình sau?"
   ]
  },
  {
   "cell_type": "code",
   "execution_count": 10,
   "metadata": {},
   "outputs": [
    {
     "name": "stdout",
     "output_type": "stream",
     "text": [
      "Writing undefined_example.cpp\n"
     ]
    }
   ],
   "source": [
    "%%file undefined_example.cpp\n",
    "\n",
    "#include <iostream>\n",
    " \n",
    "int main()\n",
    "{\n",
    "    if (1)\n",
    "        int x = 5;\n",
    "    else\n",
    "        int x = 6;\n",
    " \n",
    "    std::cout << x;\n",
    " \n",
    "    return 0;\n",
    "}"
   ]
  },
  {
   "cell_type": "code",
   "execution_count": null,
   "metadata": {},
   "outputs": [],
   "source": [
    "//Answer:\n",
    "\n",
    "int main()\n",
    "{\n",
    "    if (1)\n",
    "    {\n",
    "        int x = 5;\n",
    "    } // x destroyed here\n",
    "    else\n",
    "    {\n",
    "        int x = 6;\n",
    "    } // x destroyed here\n",
    " \n",
    "    std::cout << x; // x isn't defined here\n",
    " \n",
    "    return 0;\n",
    "}\n"
   ]
  },
  {
   "cell_type": "markdown",
   "metadata": {},
   "source": [
    "#### 3. Semicolon after if statement\n",
    "\n",
    "Lệnh sau được hiểu như thế nào?\n",
    "\n",
    "```\n",
    "if (x == 0);\n",
    "    x = 1;\n",
    "```\n",
    "\n",
    "Trong C++, câu lệnh không có nội dung được gọi là **null statement**\n",
    "\n",
    "```\n",
    "if (x == 0)\n",
    "    ; // the semicolon acts as a null statement\n",
    "x = 1; // and this line always gets executed!\n",
    "```"
   ]
  },
  {
   "cell_type": "markdown",
   "metadata": {},
   "source": [
    "#### 4. Simple if-else\n",
    "\n",
    "Hữu ích cho các *code golf* problems! :)\n",
    "\n",
    "Code golf == các bài toán thách thức dùng cách viết ngắn nhất.\n",
    "\n",
    "Ví dụ hàm:\n",
    "\n",
    "```\n",
    "int min(int x, int y)\n",
    "{\n",
    "    if (x > y)\n",
    "        return y;\n",
    "    else\n",
    "        return x;\n",
    "}\n",
    "```\n",
    "\n",
    "có thể viết thành:\n",
    "\n",
    "```\n",
    "int min(int x, int y)\n",
    "{\n",
    "    return (x > y) ? y : x;\n",
    "}\n",
    "```\n",
    "\n",
    "#### 5. Thiếu ( ) ở if\n",
    "\n",
    "Điều gì xảy ra khi biên dịch chương trình sau:"
   ]
  },
  {
   "cell_type": "code",
   "execution_count": 27,
   "metadata": {},
   "outputs": [
    {
     "name": "stdout",
     "output_type": "stream",
     "text": [
      "Writing if_bracket.cpp\n"
     ]
    }
   ],
   "source": [
    "%%file if_bracket.cpp\n",
    "\n",
    "#include<iostream>\n",
    "\n",
    "bool equal18(int x)\n",
    "{\n",
    "    if (x == 18)\n",
    "        return true;\n",
    "    else\n",
    "        return false;\n",
    "}\n",
    "\n",
    "int main()\n",
    "{\n",
    "    int age;\n",
    "    std::cout << \"Nhap tuoi cua ban: \";\n",
    "    std::cin >> age;\n",
    "    if equal18(age)\n",
    "        std::cout << \"Ban 18 tuoi.\" << \"\\n\";\n",
    "    else\n",
    "        std::cout << \"Tuoi cua ban khong phai 18.\" << \"\\n\";\n",
    "    return 0;\n",
    "}"
   ]
  },
  {
   "cell_type": "markdown",
   "metadata": {},
   "source": [
    "## Biểu thức điều kiện\n",
    "\n",
    "`if (expression)`\n",
    "\n",
    "- `expression` kiểu `bool` (logic)\n",
    "- `expression` có thể đơn giản hoặc kết hợp nhiều biểu thức lại\n",
    "    + dùng các phép toán logic: `!` (NOT), `&&` (AND), `||` (OR)\n",
    "- Các phép so sánh\n",
    "    + `==`\n",
    "    + `!=`\n",
    "    + `>`\n",
    "    + `<`\n",
    "    + `>=`\n",
    "    + `<=`"
   ]
  },
  {
   "cell_type": "code",
   "execution_count": 21,
   "metadata": {},
   "outputs": [
    {
     "name": "stdout",
     "output_type": "stream",
     "text": [
      "Overwriting expression_example.cpp\n"
     ]
    }
   ],
   "source": [
    "%%file expression_example.cpp\n",
    "\n",
    "//using |c++filt for displaying\n",
    "#include <iostream>\n",
    "\n",
    "int main()\n",
    "{\n",
    "    bool exp = (1==0) && ('x'!='y') && true;\n",
    "    //in C++, true refers to 1, and false to 0\n",
    "    // in order to print false instead of 0\n",
    "    // have to set the boolalpha format flag for the std stream\n",
    "    std::cout << \"Gia tri cua bieu thuc: \" << std::boolalpha << bool(exp) << std::endl;\n",
    "    std::cout << \"Kieu cua bieu thuc: \" << typeid(exp).name() << std::endl;\n",
    "    return 0;\n",
    "}"
   ]
  },
  {
   "cell_type": "markdown",
   "metadata": {},
   "source": [
    "## Switch statement\n",
    "\n",
    "#### Cú pháp:\n",
    "\n",
    "```\n",
    "       switch (biểu thức)\n",
    "        {\n",
    "            case <giá trị 1>:\n",
    "                các lệnh khi biểu thức có giá trị 1;\n",
    "                break; // nếu không có, sẽ thực hiện tuần tự\n",
    "            case <giá trị 2>:\n",
    "                các lệnh khi biểu thức có giá trị 2;\n",
    "                break;\n",
    "            ...\n",
    "            default:\n",
    "                các lệnh khi biểu thức có các giá trị khác;\n",
    "        }\n",
    "```\n",
    "\n",
    "Yêu cầu cho **Biểu thức**:\n",
    "- Thường biểu thức chỉ là 1 biến, nhưng có thể dùng phức tạp hơn như `varX + 2`, `varX + varY`\n",
    "- phải thuộc kiểu *nguyên* (integral type), như là `char`, `short`, `int`, `long`, `long long`, hoặc `enum`\n",
    "    + Note: slide trên codehub có ghi biểu thức có giá trị `bool` -> không chính xác\n",
    "    + kiểu số thực (floating point) và các kiểu dữ liệu không nguyên (non-integral) không thể dùng\n"
   ]
  },
  {
   "cell_type": "code",
   "execution_count": 26,
   "metadata": {},
   "outputs": [
    {
     "name": "stdout",
     "output_type": "stream",
     "text": [
      "Overwriting switch_example.cpp\n"
     ]
    }
   ],
   "source": [
    "%%file switch_example.cpp\n",
    "\n",
    "#include <iostream>\n",
    "\n",
    "\n",
    "bool isDigit(char x)\n",
    "{\n",
    "     switch (x)\n",
    "    {\n",
    "        case '0': // if c is 0\n",
    "        case '1': // or if c is 1\n",
    "        case '2': // or if c is 2\n",
    "        case '3': // or if c is 3\n",
    "        case '4': // or if c is 4\n",
    "        case '5': // or if c is 5\n",
    "        case '6': // or if c is 6\n",
    "        case '7': // or if c is 7\n",
    "        case '8': // or if c is 8\n",
    "        case '9': // or if c is 9\n",
    "            return true; // then return true\n",
    "        default:\n",
    "            return false;\n",
    "    }\n",
    "}\n",
    "\n",
    "\n",
    "int main()\n",
    "{\n",
    "    char c;\n",
    "    std::cout << \"Nhap vao mot chu so tu 0 - 9: \";\n",
    "    std::cin >> c;\n",
    "    \n",
    "    if (isDigit(c))\n",
    "        std::cout << \"Ban nhap vao chu so: \" << c << \"\\n\";\n",
    "    else\n",
    "        std::cout << \"Ban nhap vao khong phai chu so!\\n\";\n",
    "    \n",
    "    return 0;\n",
    "}"
   ]
  },
  {
   "cell_type": "code",
   "execution_count": 28,
   "metadata": {},
   "outputs": [
    {
     "name": "stdout",
     "output_type": "stream",
     "text": [
      "Writing switch_nonintegral_example.cpp\n"
     ]
    }
   ],
   "source": [
    "%%file switch_nonintegral_example.cpp\n",
    "\n",
    "#include<iostream>\n",
    "\n",
    "using namespace std;\n",
    "\n",
    "int main()\n",
    "{\n",
    "    string name;\n",
    "    cout << \"Nhap ten cua ban: \";\n",
    "    cin >> name;\n",
    "    \n",
    "    switch(name):\n",
    "    {\n",
    "        case \"chupi\":\n",
    "            cout << \"Hello chupi!\\n\";\n",
    "            break;\n",
    "        case \"teddy\":\n",
    "            cout << \"Oh, you are a bear!\\n\";\n",
    "            break;\n",
    "        default:\n",
    "            cout << \"Hello, \" << name << \"\\n\";\n",
    "            break;\n",
    "    }\n",
    "    return 0;\n",
    "}"
   ]
  },
  {
   "cell_type": "code",
   "execution_count": 31,
   "metadata": {},
   "outputs": [
    {
     "name": "stdout",
     "output_type": "stream",
     "text": [
      "Overwriting switch_bool_example.cpp\n"
     ]
    }
   ],
   "source": [
    "%%file switch_bool_example.cpp\n",
    "\n",
    "#include<iostream>\n",
    "\n",
    "using namespace std;\n",
    "\n",
    "int main()\n",
    "{\n",
    "    switch(true)\n",
    "    {\n",
    "        case true:\n",
    "            cout << \"Ban doan dung.\\n\";\n",
    "            break;\n",
    "        case false:\n",
    "            cout << \"Ban doan sai.\\n\";\n",
    "            break;\n",
    "        default:\n",
    "            cout << \"Ban nhap vao khong dung format.\\n\";\n",
    "            break;\n",
    "    }\n",
    "    return 0;\n",
    "}"
   ]
  },
  {
   "cell_type": "code",
   "execution_count": 34,
   "metadata": {},
   "outputs": [
    {
     "name": "stdout",
     "output_type": "stream",
     "text": [
      "Overwriting switch_enum_example.cpp\n"
     ]
    }
   ],
   "source": [
    "%%file switch_enum_example.cpp\n",
    "\n",
    "#include <iostream>\n",
    " \n",
    "enum Colors\n",
    "{\n",
    "    COLOR_BLACK,\n",
    "    COLOR_WHITE,\n",
    "    COLOR_RED,\n",
    "    COLOR_GREEN,\n",
    "    COLOR_BLUE\n",
    "};\n",
    " \n",
    "void printColor(Colors color)\n",
    "{\n",
    "    switch (color)\n",
    "    {\n",
    "        case COLOR_BLACK:\n",
    "            std::cout << \"Black\";\n",
    "            break;\n",
    "        case COLOR_WHITE:\n",
    "            std::cout << \"White\";\n",
    "            break;\n",
    "        case COLOR_RED:\n",
    "            std::cout << \"Red\";\n",
    "            break;\n",
    "        case COLOR_GREEN:\n",
    "            std::cout << \"Green\";\n",
    "            break;\n",
    "        case COLOR_BLUE:\n",
    "            std::cout << \"Blue\";\n",
    "            break;\n",
    "        default:\n",
    "            std::cout << \"Unknown\";\n",
    "            break;\n",
    "    }\n",
    "}\n",
    " \n",
    "int main()\n",
    "{\n",
    "    printColor(COLOR_GREEN);\n",
    "     \n",
    "    std::cout << \"\\n\";\n",
    "    return 0;\n",
    "}"
   ]
  },
  {
   "cell_type": "markdown",
   "metadata": {},
   "source": [
    "## Các vấn đề thường gặp với switch statement\n",
    "\n",
    "#### 1. Quên break; sau mỗi case statement.\n",
    "\n",
    "Ví dụ:\n",
    "\n",
    "```\n",
    "switch (2)\n",
    "{\n",
    "   case 1: // Does not match\n",
    "       std::cout << 1 << '\\n'; // skipped\n",
    "   case 2: // Match!\n",
    "       std::cout << 2 << '\\n'; // Execution begins here\n",
    "   case 3:\n",
    "       std::cout << 3 << '\\n'; // This is also executed\n",
    "   case 4:\n",
    "       std::cout << 4 << '\\n'; // This is also executed\n",
    "   default:\n",
    "       std::cout << 5 << '\\n'; // This is also executed\n",
    "}\n",
    "```\n",
    "#### 2. Nhiều câu lệnh ở một case statement\n",
    "\n",
    "Với `if statements`, câu lệnh có thể được hiểu thuộc về một khối lệnh:\n",
    "\n",
    "```\n",
    "if (x > 10)\n",
    "    // this line implicitly considered to be inside a block\n",
    "    std::cout << x << \" is greater than 10\\n\"; \n",
    "```\n",
    "\n",
    "Với `switch`, không phải như vậy\n",
    "\n",
    "```\n",
    "switch (1)\n",
    "{\n",
    "    case 1:\n",
    "        std::cout << 1;\n",
    "        foo();\n",
    "        std::cout << 2;\n",
    "        break;\n",
    "    default:\n",
    "        std::cout << \"default case\\n\";\n",
    "        break;\n",
    "}\n",
    "```\n",
    "#### 3. Định nghĩa biến và khởi tạo biến ở một case statement\n",
    "\n",
    "Có thể định nghĩa biến, nhưng không được khởi tạo biến trong `switch`, trước hoặc sau từng `case`:\n",
    "\n",
    "```\n",
    "switch (1)\n",
    "{\n",
    "    int a; // okay, declaration is allowed before the case labels\n",
    "    int b = 5; // illegal, initialization is not allowed before the case labels\n",
    " \n",
    "    case 1:\n",
    "        int y; // okay, declaration is allowed within a case\n",
    "        y = 4; // okay, this is an assignment\n",
    "        break;\n",
    " \n",
    "    case 2:\n",
    "        y = 5; // okay, y was declared above, so we can use it here too\n",
    "        break;\n",
    " \n",
    "    case 3:\n",
    "        int z = 4; // illegal, initialization is not allowed within a case\n",
    "        break;\n",
    " \n",
    "    default:\n",
    "        std::cout << \"default case\" << std::endl;\n",
    "        break;\n",
    "}\n",
    "```\n",
    "\n",
    "\n",
    "Nếu cần phải khởi tạo biến trong một `case statement`, phải khởi tạo trong khối lệnh:\n",
    "\n",
    "```\n",
    "switch (1)\n",
    "{\n",
    "    case 1:\n",
    "    { // note addition of block here\n",
    "        int x = 4; // okay, variables can be initialized inside a block inside a case\n",
    "        std::cout << x;\n",
    "        break;\n",
    "    }\n",
    "    default:\n",
    "        std::cout << \"default case\" << std::endl;\n",
    "        break;\n",
    "}\n",
    "```\n",
    "\n"
   ]
  },
  {
   "cell_type": "markdown",
   "metadata": {},
   "source": [
    "## Một số chương trình ví dụ\n",
    "\n",
    "### Giải phương trình bậc một\n",
    "\n",
    "$ax + b = 0$"
   ]
  },
  {
   "cell_type": "code",
   "execution_count": 35,
   "metadata": {},
   "outputs": [
    {
     "name": "stdout",
     "output_type": "stream",
     "text": [
      "Writing poly1.cpp\n"
     ]
    }
   ],
   "source": [
    "%%file poly1.cpp\n",
    "\n",
    "#include <iostream>\n",
    "\n",
    "using namespace std;\n",
    "\n",
    "int main()\n",
    "{\n",
    "    double a, b; //ax + b = 0\n",
    "    cin >> a >> b;\n",
    "    \n",
    "    if (a == 0)\n",
    "    {\n",
    "        if (b == 0)\n",
    "        {\n",
    "            cout << \"Phuong trinh vo so nghiem. \\n\";\n",
    "        } else\n",
    "        {\n",
    "            cout << \"Phuong trinh vo nghiem. \\n\";\n",
    "        }\n",
    "    } else\n",
    "    {\n",
    "        double x = -b / a;\n",
    "        cout << \"Nghiem cua phuong trinh la x = \" << x << endl;\n",
    "    }\n",
    "}\n"
   ]
  },
  {
   "cell_type": "markdown",
   "metadata": {},
   "source": [
    "### Giải phương trình bậc 2\n",
    "\n",
    "$ax^2 + bx + c = 0$"
   ]
  },
  {
   "cell_type": "code",
   "execution_count": 39,
   "metadata": {},
   "outputs": [
    {
     "name": "stdout",
     "output_type": "stream",
     "text": [
      "Overwriting poly2.cpp\n"
     ]
    }
   ],
   "source": [
    "%%file poly2.cpp\n",
    "\n",
    "#include <iostream>\n",
    "#include <cmath>\n",
    "using namespace std;\n",
    "\n",
    "void solveLinear(double a, double b)\n",
    "{\n",
    "    //Write this?\n",
    "    \n",
    "}\n",
    "int main()\n",
    "{\n",
    "    double a, b, c; //ax^2 + bx + c = 0\n",
    "    cout << \"Nhap a, b, c tuong ung cua phuong trinh ax^2 + bx + c = 0: \";\n",
    "    cin >> a >> b >> c;\n",
    "    \n",
    "    if (a == 0)\n",
    "        solveLinear(b, c);\n",
    "    else\n",
    "    {\n",
    "        double delta = b * b - 4 * a * c;\n",
    "        if (delta < 0)\n",
    "        {\n",
    "            cout << \"Phuong trinh vo nghiem. \\n\";\n",
    "        } else if (delta == 0)\n",
    "        {\n",
    "            cout << \"Phuong trinh co nghiem duy nhat x = \" << -b / (2 * a) << endl;\n",
    "        } else\n",
    "        {\n",
    "            cout << \"Phuong trinh co hai nghiem x1 = \" << -b + sqrt(delta) / (2 * a) <<\n",
    "                \"; x2 = \" << -b - sqrt(delta) / (2 * a) << endl;\n",
    "        }\n",
    "    }\n",
    "}"
   ]
  },
  {
   "cell_type": "markdown",
   "metadata": {},
   "source": [
    "### Tìm số lớn nhất\n",
    "\n",
    "Viết một chương trình C++ để nhắc người dùng nhập 3 số nguyên và tìm giá trị lớn nhất.\n",
    "\n",
    "Code golf! :)"
   ]
  },
  {
   "cell_type": "code",
   "execution_count": 40,
   "metadata": {},
   "outputs": [
    {
     "name": "stdout",
     "output_type": "stream",
     "text": [
      "Writing maxof3.cpp\n"
     ]
    }
   ],
   "source": [
    "%%file maxof3.cpp\n",
    "\n",
    "#include <iostream>\n",
    "\n",
    "using namespace std;\n",
    "\n",
    "int main()\n",
    "{\n",
    "    int a, b, c;\n",
    "    cout << \"Enter three integers: \";\n",
    "    cin >> a >> b >> c;\n",
    "    int max = (a>b) ? a : b;\n",
    "    max = (max > c) ? max : c;\n",
    "    cout << \"Maximum is: \" << max << endl;\n",
    "    \n",
    "    return 0;\n",
    "}"
   ]
  },
  {
   "cell_type": "markdown",
   "metadata": {},
   "source": [
    "### Extra cho tuần 2: Tiếp tục nếu `>>` thất bại\n",
    "\n",
    "```\n",
    "if (std::cin.fail()) // has a previous extraction failed?\n",
    "{\n",
    "    // yep, so let's handle the failure\n",
    "    std::cin.clear(); // put us back in 'normal' operation mode\n",
    "    std::cin.ignore(32767,'\\n'); // and remove the bad input\n",
    "}\n",
    "```"
   ]
  }
 ],
 "metadata": {
  "kernelspec": {
   "display_name": "C++11",
   "language": "C++11",
   "name": "xeus-cling-cpp11"
  },
  "language_info": {
   "codemirror_mode": "text/x-c++src",
   "file_extension": ".cpp",
   "mimetype": "text/x-c++src",
   "name": "c++",
   "version": "-std=c++11"
  }
 },
 "nbformat": 4,
 "nbformat_minor": 2
}
