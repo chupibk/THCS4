{
 "cells": [
  {
   "cell_type": "markdown",
   "metadata": {},
   "source": [
    "# TIN HỌC CƠ SỞ 4 (IT1006 7)\n",
    "\n",
    "#### Diep Nguyen, Ph.D. (ngocdiep@vnu.edu.vn)\n",
    "\n",
    "# https://github.com/chupibk/THCS4"
   ]
  },
  {
   "cell_type": "markdown",
   "metadata": {},
   "source": [
    "## Ôn lại\n",
    "- Tuần 1: Chương trình, soạn và biên dịch chương trình\n",
    "- Tuần 2: Biến, kiểu dữ liệu, nhập xuất chuẩn\n",
    "- Tuần 3: Luồng điều khiển rẽ nhánh `if, if ... else, switch`\n",
    "- Tuần 4: Luồng điều khiển lặp `while, do ... while, for`\n",
    "- Tuần 5: Mảng + xâu kí tự (tuần 7)\n",
    "- Tuần 6: Nhập xuất với tệp\n",
    "- Tuần 7: Hàm\n",
    "- Tuần 8: Con trỏ\n",
    "- Tuần 9: Cấu trúc và lớp `struct`, `class`\n",
    "    + Khai báo, khởi tạo (*constructors*)\n",
    "    + Truy nhập dữ liệu, hàm\n",
    "    + Huỷ đối tượng (*destructor*)\n",
    "    + Các vấn đề khác:\n",
    "        * Operator overload\n",
    "        * Con trỏ *this*\n",
    "        * Tách cài đặt hàm ra khỏi định nghĩa (header/definition/program files)\n"
   ]
  },
  {
   "cell_type": "markdown",
   "metadata": {},
   "source": [
    "## Tuần 10 (8/11/2018)\n",
    "\n",
    "- Template classes\n",
    "- Virtual classes\n",
    "- Function templates\n",
    "- Virtual functions\n",
    "- Exceptions\n",
    "\n",
    "And, what's next?\n",
    "\n",
    "Sau Tin học cơ sở 4, nên học gì?"
   ]
  },
  {
   "cell_type": "markdown",
   "metadata": {},
   "source": [
    "## Mẫu hàm\n",
    "\n",
    "Remember **function overload**? (week 7)\n",
    "\n",
    "Cùng tên, khác tham số?\n",
    "\n",
    "```\n",
    "int add(int x, int y); //integer version\n",
    "\n",
    "double add(double x, double y); // floating point version\n",
    "```\n",
    "\n",
    "Nhưng khi dùng function overload, kiểu trả về không được tính đến!\n",
    "\n",
    "```\n",
    "//This causes a compile error:\n",
    "\n",
    "int getRandomValue();\n",
    "float getRandomValue();\n",
    "```\n",
    "\n",
    "--> **mẫu hàm (hay function templates)**\n",
    "\n",
    "Giải quyết 2 vấn đề:\n",
    "1. Không cần định nghĩa nhiều lần cho các kiểu dữ liệu khác nhau\n",
    "2. Định nghĩa hàm với tên và tham số giống nhau, kiểu trả về khác nhau\n",
    "\n",
    "Mẫu hàm cho phép viết một thuật toán cho nhiều kiểu dữ liệu -> hàm tổng quát (generic types)\n",
    "\n",
    "**Syntax**\n",
    "\n",
    "```\n",
    "template <class identifier> function_declaration;\n",
    "template <typename identifier> function_declaration;\n",
    "```\n",
    "\n",
    "*Note:* Dùng từ khoá `class` hay `typename` là tương đương nhau."
   ]
  },
  {
   "cell_type": "code",
   "execution_count": 11,
   "metadata": {},
   "outputs": [
    {
     "name": "stdout",
     "output_type": "stream",
     "text": [
      "Overwriting ftemp_random.cpp\n"
     ]
    }
   ],
   "source": [
    "%%file ftemp_random.cpp\n",
    "\n",
    "#include<iostream>\n",
    "#include<cstdlib>\n",
    "\n",
    "using namespace std;\n",
    "\n",
    "template <typename T>\n",
    "T getRandomValue(){\n",
    "    return T(rand())/T(RAND_MAX);\n",
    "}\n",
    "\n",
    "int main()\n",
    "{\n",
    "    int i = getRandomValue <int> ();\n",
    "    cout << \"Random integer: \" << i << endl;\n",
    "    float f = getRandomValue <float> ();\n",
    "    cout << \"Random float: \" << f << endl;\n",
    "\n",
    "    return 0;\n",
    "}"
   ]
  },
  {
   "cell_type": "code",
   "execution_count": 9,
   "metadata": {},
   "outputs": [
    {
     "name": "stdout",
     "output_type": "stream",
     "text": [
      "Overwriting ftemp_add.cpp\n"
     ]
    }
   ],
   "source": [
    "%%file ftemp_add.cpp\n",
    "\n",
    "#include<iostream>\n",
    "#include<cstdlib>\n",
    "\n",
    "using namespace std;\n",
    "\n",
    "template <typename T>\n",
    "//or: template <class T>\n",
    "T add(T a, T b){\n",
    "    return a + b;\n",
    "}\n",
    "\n",
    "int main()\n",
    "{\n",
    "    int x = 2, y = 3;\n",
    "    cout << add(x, y) << endl;\n",
    "    \n",
    "    float a = 1.0, b = 3.5;\n",
    "    cout << add(a, b) << endl;\n",
    "    \n",
    "    return 0;\n",
    "}\n"
   ]
  },
  {
   "cell_type": "code",
   "execution_count": 6,
   "metadata": {},
   "outputs": [
    {
     "name": "stdout",
     "output_type": "stream",
     "text": [
      "Overwriting ftemp_max.cpp\n"
     ]
    }
   ],
   "source": [
    "%%file ftemp_max.cpp\n",
    "\n",
    "#include <iostream>\n",
    " \n",
    "template <class T>\n",
    "//template<typename T>\n",
    "const T& max(const T& x, const T& y)\n",
    "{\n",
    "    return (x > y) ? x : y;\n",
    "}\n",
    " \n",
    "int main()\n",
    "{\n",
    "    int i = max(3, 7); // returns 7\n",
    "    std::cout << i << '\\n';\n",
    " \n",
    "    double d = max(6.34, 18.523); // returns 18.523\n",
    "    std::cout << d << '\\n';\n",
    " \n",
    "    char ch = max('a', '6'); // returns 'a'\n",
    "    std::cout << ch << '\\n';\n",
    " \n",
    "    return 0;\n",
    "}"
   ]
  },
  {
   "cell_type": "code",
   "execution_count": 19,
   "metadata": {},
   "outputs": [
    {
     "name": "stdout",
     "output_type": "stream",
     "text": [
      "Overwriting ftemp_print.cpp\n"
     ]
    }
   ],
   "source": [
    "%%file ftemp_print.cpp\n",
    "\n",
    "//Mẫu hàm printArray()\n",
    "\n",
    "#include<iostream>\n",
    "using namespace std;\n",
    "\n",
    "template<class T>\n",
    "void printArray(const T *array, const int count){\n",
    "    for(int i = 0; i < count; i++)\n",
    "        cout << array[i] << \" \";\n",
    "    cout << endl;\n",
    "}\n",
    "\n",
    "int main()\n",
    "{\n",
    "    char cc[5] = {'c', 'h', 'u', 'p', 'i'};\n",
    "    printArray(cc, 5);\n",
    "    \n",
    "    int ii[3] = {2, 5, 10};\n",
    "    printArray(ii, 3);\n",
    "    \n",
    "    return 0;\n",
    "}"
   ]
  },
  {
   "cell_type": "markdown",
   "metadata": {},
   "source": [
    "Với kiểu người dùng tự định nghĩa thì sao?\n"
   ]
  },
  {
   "cell_type": "code",
   "execution_count": null,
   "metadata": {},
   "outputs": [],
   "source": [
    "class Vector{\n",
    "    double x;\n",
    "    double y;\n",
    "    public:\n",
    "        Vector (double _x = 0.0, double _y = 0.0): x(_x), y(_y){}\n",
    "};\n",
    "\n",
    "// Có thể gọi hàm printArray?\n",
    "\n",
    "Vector vv[2] = {Vector(1, 2), Vector(3, 4)};\n",
    "printArray(vv, 2);"
   ]
  },
  {
   "cell_type": "code",
   "execution_count": null,
   "metadata": {},
   "outputs": [],
   "source": [
    "//Lớp người dùng định nghĩa cần cài đặt tất cả các phép toán, hàm bên trong mẫu hàm printArray()\n",
    "// -> phải có định nghĩa toán tử <<\n",
    "\n",
    "class Vector{\n",
    "    double x;\n",
    "    double y;\n",
    "    public:\n",
    "        Vector (double _x = 0.0, double _y = 0.0): x(_x), y(_y){}\n",
    "    \n",
    "        friend std::ostream& operator<<(std::ostream &out, const Vector &v);\n",
    "};\n",
    "\n",
    "std::ostream& operator<< (std::ostream &out, const Vector &v){\n",
    "    out << \"Vector(\" << v.x << \", \" << v.y << \")\";\n",
    "    return out;\n",
    "}"
   ]
  },
  {
   "cell_type": "markdown",
   "metadata": {},
   "source": [
    "## Mẫu lớp\n",
    "\n",
    "Để chuyển một lớp thành mẫu lớp, thêm `template<class T>` vào trước định nghĩa lớp.\n",
    "\n",
    "`T` là một tham số kiểu (giữ chỗ) cho lớp. Khi sử dụng mẫu lớp, `T` sẽ được thay thế bằng một kiểu cụ thể."
   ]
  },
  {
   "cell_type": "code",
   "execution_count": 23,
   "metadata": {},
   "outputs": [
    {
     "name": "stdout",
     "output_type": "stream",
     "text": [
      "Overwriting ctemp_tuple.cpp\n"
     ]
    }
   ],
   "source": [
    "%%file ctemp_tuple.cpp\n",
    "\n",
    "#include<iostream>\n",
    "using namespace std;\n",
    "\n",
    "template<class T>\n",
    "class tuple{\n",
    "  T a, b;\n",
    "  public: \n",
    "    tuple(T first, T second){\n",
    "        a = first;\n",
    "        b = second;\n",
    "    }\n",
    "    \n",
    "    T getmax();\n",
    "};\n",
    "\n",
    "template<class T>\n",
    "T tuple<T>::getmax(){\n",
    "    T retval;\n",
    "    retval = a > b ? a : b;\n",
    "    return retval;\n",
    "}\n",
    "\n",
    "int main(){\n",
    "    tuple <int> itup (100, 75);\n",
    "    cout << itup.getmax() << endl;\n",
    "    \n",
    "    tuple <float> ftup (2.1, 7.7);\n",
    "    cout << ftup.getmax() << endl;\n",
    "    \n",
    "    return 0;\n",
    "}"
   ]
  },
  {
   "cell_type": "markdown",
   "metadata": {},
   "source": [
    "## Lớp/hàm trừu tượng\n",
    "\n",
    "Khởi tạo lớp thừa kế (Construction of derived classes): khi tạo một lớp thừa kế, lớp này sẽ có:\n",
    "- một phần thừa hưởng từ lớp cha\n",
    "- một phần của chính nó\n"
   ]
  },
  {
   "cell_type": "code",
   "execution_count": 29,
   "metadata": {},
   "outputs": [
    {
     "name": "stdout",
     "output_type": "stream",
     "text": [
      "Overwriting class_derived_example.cpp\n"
     ]
    }
   ],
   "source": [
    "%%file class_derived_example.cpp\n",
    "\n",
    "\n",
    "#include <iostream>\n",
    " \n",
    "class Base\n",
    "{\n",
    "public:\n",
    "    int m_id;\n",
    " \n",
    "    Base(int id=10)\n",
    "        : m_id(id)\n",
    "    {\n",
    "        std::cout << \"Base\\n\";\n",
    "    }\n",
    " \n",
    "    int getId() const { return m_id; }\n",
    "};\n",
    "\n",
    "//Create Derived class from Base class\n",
    "class Derived: public Base\n",
    "{\n",
    "public:\n",
    "    double m_cost;\n",
    " \n",
    "    Derived(double cost=100.0)\n",
    "        : m_cost(cost)\n",
    "    {\n",
    "        std::cout << \"Derived\\n\";\n",
    "    }\n",
    " \n",
    "    double getCost() const { return m_cost; }\n",
    "};\n",
    " \n",
    "int main()\n",
    "{\n",
    "    std::cout << \"Instantiating Base\\n\";\n",
    "    Base cBase;\n",
    " \n",
    "    std::cout << \"Instantiating Derived\\n\";\n",
    "    Derived cDerived;\n",
    "     \n",
    "    std::cout << \"Id (from Base): \" << cDerived.getId() << \"\\n\";\n",
    "    std::cout << \"Cost (of Derived): \" << cDerived.getCost() << \"\\n\";\n",
    "    return 0;\n",
    "}\n"
   ]
  },
  {
   "cell_type": "code",
   "execution_count": 31,
   "metadata": {},
   "outputs": [
    {
     "name": "stdout",
     "output_type": "stream",
     "text": [
      "Overwriting class_virtual_func.cpp\n"
     ]
    }
   ],
   "source": [
    "%%file class_virtual_func.cpp\n",
    "\n",
    "#include<iostream>\n",
    "\n",
    "\n",
    "class Base\n",
    "{\n",
    "    public:\n",
    "        const char* getName() { return \"Base\"; }\n",
    "};\n",
    " \n",
    "class Derived: public Base\n",
    "{\n",
    "    public:\n",
    "        const char* getName() { return \"Derived\"; }\n",
    "};\n",
    "\n",
    "int main()\n",
    "{\n",
    "    Derived derived;\n",
    "    Base &rBase = derived;\n",
    "    \n",
    "    //rBase is a Base reference, it calls Base::getName(),\n",
    "    //even though it's actually referencing the Base portion of a Derived object!\n",
    "    std::cout << \"rBase is a \" << rBase.getName() << \"\\n\";\n",
    "    \n",
    "    return 0;\n",
    "}"
   ]
  },
  {
   "cell_type": "markdown",
   "metadata": {},
   "source": [
    "--> Use a `virtual function`!\n",
    "\n",
    "A **virtual function** is a special type of function that, when called, resolves to the most-derived version of the function that exists between the base and derived class. This capability is known as **polymorphism**. A derived function is considered a match if it has the same signature (name, parameter types, and whether it is const) and return type as the base version of the function. Such functions are called **overrides**."
   ]
  },
  {
   "cell_type": "code",
   "execution_count": 32,
   "metadata": {},
   "outputs": [
    {
     "name": "stdout",
     "output_type": "stream",
     "text": [
      "Overwriting class_virtual_func.cpp\n"
     ]
    }
   ],
   "source": [
    "%%file class_virtual_func.cpp\n",
    "\n",
    "#include<iostream>\n",
    "\n",
    "\n",
    "class Base\n",
    "{\n",
    "    public:\n",
    "        virtual const char* getName() { return \"Base\"; }\n",
    "};\n",
    " \n",
    "class Derived: public Base\n",
    "{\n",
    "    public:\n",
    "        virtual const char* getName() { return \"Derived\"; }\n",
    "};\n",
    "\n",
    "int main()\n",
    "{\n",
    "    Derived derived;\n",
    "    Base &rBase = derived;\n",
    "    \n",
    "    //rBase is a Base reference, it calls Base::getName(),\n",
    "    //even though it's actually referencing the Base portion of a Derived object!\n",
    "    std::cout << \"rBase is a \" << rBase.getName() << \"\\n\";\n",
    "    \n",
    "    return 0;\n",
    "}"
   ]
  },
  {
   "cell_type": "markdown",
   "metadata": {},
   "source": [
    "## Ngoại lệ (exceptions)"
   ]
  },
  {
   "cell_type": "code",
   "execution_count": 34,
   "metadata": {},
   "outputs": [
    {
     "name": "stdout",
     "output_type": "stream",
     "text": [
      "Overwriting divide_by_zero.cpp\n"
     ]
    }
   ],
   "source": [
    "%%file divide_by_zero.cpp\n",
    "\n",
    "#include<iostream>\n",
    "\n",
    "double divide(int x, int y){\n",
    "    return static_cast<double>(x)/y;\n",
    "}\n",
    "\n",
    "int main()\n",
    "{\n",
    "    //Nếu chia cho 0 thì sao?\n",
    "    double result = divide(3, 0);\n",
    "    \n",
    "    std::cout << result << \"\\n\";\n",
    "    \n",
    "    return 0;\n",
    "}"
   ]
  },
  {
   "cell_type": "code",
   "execution_count": null,
   "metadata": {},
   "outputs": [],
   "source": [
    "double divide(int x, int y){\n",
    "    if (y == 0){\n",
    "        return ???\n",
    "    } else{\n",
    "        return static_cast<double>(x)/y;\n",
    "    }\n",
    "}"
   ]
  },
  {
   "cell_type": "code",
   "execution_count": 44,
   "metadata": {},
   "outputs": [
    {
     "name": "stdout",
     "output_type": "stream",
     "text": [
      "Overwriting divide_by_zero.cpp\n"
     ]
    }
   ],
   "source": [
    "%%file divide_by_zero.cpp\n",
    "\n",
    "#include<iostream>\n",
    "\n",
    "double divide(int x, int y){\n",
    "    if (y == 0)\n",
    "        throw \"Divide by zero\";\n",
    "    //another dummy catch\n",
    "    if (y == 1)\n",
    "        throw 1;\n",
    "        \n",
    "    return static_cast<double>(x)/y;\n",
    "}\n",
    "\n",
    "int main()\n",
    "{\n",
    "    std::cout << \"Enter a number: \";\n",
    "    int y;\n",
    "    std::cin >> y;\n",
    "    \n",
    "    int x = 10;\n",
    "    \n",
    "    try //look for exceptions that occur within try block and route to attached catch blocks\n",
    "    {\n",
    "        double result = divide(x, y);\n",
    "        std::cout << x << \"/\" << y << \" = \" << result << std::endl;\n",
    "    }\n",
    "    catch(const char* exception) //catch exception of type const char*\n",
    "    {\n",
    "        std::cerr << \"Error: \" << exception << std::endl;\n",
    "    }\n",
    "    catch(int x)\n",
    "    {\n",
    "        std::cerr << \"Error (not really but): Divide by 1?\\n\"; \n",
    "    }\n",
    "    catch(...) //catch-all handler\n",
    "    {\n",
    "        std::cout << \"I caught something!\\n\";\n",
    "    }\n",
    "    \n",
    "    return 0;\n",
    "}"
   ]
  },
  {
   "cell_type": "code",
   "execution_count": 45,
   "metadata": {},
   "outputs": [
    {
     "name": "stdout",
     "output_type": "stream",
     "text": [
      "Writing standard_exception.cpp\n"
     ]
    }
   ],
   "source": [
    "%%file standard_exception.cpp\n",
    "\n",
    "//Example using standard exception directly\n",
    "#include <iostream>\n",
    "#include <stdexcept>\n",
    " \n",
    "int main()\n",
    "{\n",
    "    try\n",
    "    {\n",
    "        throw std::runtime_error(\"Bad things happened\");\n",
    "    }\n",
    "    // This handler will catch std::exception and all the derived exceptions too\n",
    "    catch (std::exception &exception)\n",
    "    {\n",
    "        std::cerr << \"Standard exception: \" << exception.what() << '\\n';\n",
    "    }\n",
    " \n",
    "    return 0;\n",
    "}\n"
   ]
  },
  {
   "cell_type": "markdown",
   "metadata": {},
   "source": [
    "**More on exceptions?** Refer to [https://www.learncpp.com/](https://www.learncpp.com/), Chapter 14"
   ]
  },
  {
   "cell_type": "markdown",
   "metadata": {},
   "source": [
    "# What's next?"
   ]
  }
 ],
 "metadata": {
  "kernelspec": {
   "display_name": "C++11",
   "language": "C++11",
   "name": "xeus-cling-cpp11"
  },
  "language_info": {
   "codemirror_mode": "text/x-c++src",
   "file_extension": ".cpp",
   "mimetype": "text/x-c++src",
   "name": "c++",
   "version": "-std=c++11"
  }
 },
 "nbformat": 4,
 "nbformat_minor": 2
}
