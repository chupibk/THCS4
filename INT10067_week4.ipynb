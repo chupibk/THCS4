{
 "cells": [
  {
   "cell_type": "markdown",
   "metadata": {},
   "source": [
    "# TIN HỌC CƠ SỞ 4 (IT1006 7)\n",
    "\n",
    "#### Diep Nguyen, Ph.D. (ngocdiep@vnu.edu.vn)\n",
    "\n",
    "## https://github.com/chupibk/THCS4"
   ]
  },
  {
   "cell_type": "markdown",
   "metadata": {},
   "source": [
    "## Ôn lại\n",
    "\n",
    "### Tuần 1 (30/8/2018)\n",
    "\n",
    "Chương trình, soạn và biên dịch chương trình\n",
    "\n",
    "### Tuần 2 (13/9/2018)\n",
    "\n",
    "Biến, kiểu dữ liệu, khởi tạo và gán giá trị cho biến, nhập xuất chuẩn `cout` & `cin`\n",
    "\n",
    "### Tuần 3 (20/9/2018)\n",
    "\n",
    "Luồng điều khiển rẽ nhánh: `if, if ... else, switch`\n",
    "\n",
    "- `if (expression)`: `expression` kiểu `bool`\n",
    "- kết hợp các biểu thức `bool` dùng phép toán logic: `!` (NOT), `&&` (AND), `||` (OR)\n",
    "- `switch (biểu thức)`: biểu thức kiểu nguyên\n",
    "    + `char`, `short`, `int`, `long`, `long long`, hoặc `enum`\n",
    "- Cần `break;` sau mỗi `case` ở `switch`\n",
    "- Chú ý định nghĩa và khởi tạo biến khi dùng `if` hay `switch`\n",
    "    "
   ]
  },
  {
   "cell_type": "markdown",
   "metadata": {},
   "source": [
    "## Tuần 4 (27/9/2018)\n",
    "\n",
    "Luồng điều khiển lặp: `while, do ... while, for`\n"
   ]
  },
  {
   "cell_type": "markdown",
   "metadata": {},
   "source": [
    "Tuần tự:\n",
    "\n",
    "                Lệnh 1\n",
    "                |\n",
    "                Lệnh 2\n",
    "                |\n",
    "                Lệnh 3\n",
    "                |\n",
    "                ...\n",
    "\n",
    "Rẽ nhánh:\n",
    "\n",
    "            điều kiện ----------NO------------\n",
    "                |                            |      \n",
    "                | YES                        |\n",
    "                |                            |\n",
    "      Lệnh nhánh YES;                  Lệnh nhánh NO\n",
    "                |                            |\n",
    "                ------------------------------\n",
    "                              |\n",
    "                        Lệnh tiếp theo\n",
    "   \n",
    "   \n",
    "Vòng lặp:\n",
    "\n",
    "       >-----> điều kiện ----------NO-------->\n",
    "       |        |                            |      \n",
    "       |        | YES                        |\n",
    "       |        v                            |\n",
    "       |   Nhánh lệnh cần lặp                |\n",
    "       |        |                            |\n",
    "       <--------v                      Thoát khỏi vòng lặp \n",
    "                                              \n"
   ]
  },
  {
   "cell_type": "markdown",
   "metadata": {},
   "source": [
    "## Các lệnh lặp trong C++\n",
    "\n",
    "### while\n",
    "\n",
    "Cú pháp:\n",
    "\n",
    "```\n",
    "while (điều kiện lặp) \n",
    "{\n",
    "    Dãy lệnh lặp khi điều kiện đúng;\n",
    "}\n",
    "```\n",
    "\n",
    "### do ... while\n",
    "\n",
    "```\n",
    "do\n",
    "{\n",
    "   dãy lệnh lặp khi điều kiện lặp đúng hoặc lần đầu tiên;\n",
    "} while (điều kiện lặp);\n",
    "```\n",
    "\n",
    "- Chú ý: kiểm tra điều kiện **sau** khi lặp lần đầu tiên\n",
    "- -> luôn luôn lặp ít nhất một lần\n",
    "\n",
    "### for\n",
    "\n",
    "```\n",
    "for (lệnh khởi tạo; điều kiện lặp, lệnh thay đổi biến chạy)\n",
    "{\n",
    "    dãy lệnh lặp khi điều kiện đúng\n",
    "}\n",
    "```\n",
    "\n",
    "- Chú ý: kiểm tra điều kiện **trước** khi lặp lần đầu tiên (giống `while`)"
   ]
  },
  {
   "cell_type": "code",
   "execution_count": 5,
   "metadata": {},
   "outputs": [
    {
     "name": "stdout",
     "output_type": "stream",
     "text": [
      "Overwriting count_while.cpp\n"
     ]
    }
   ],
   "source": [
    "%%file count_while.cpp\n",
    "\n",
    "//Ví dụ đếm từ 1 đến 10\n",
    "#include <iostream>\n",
    "\n",
    "using namespace std;\n",
    "\n",
    "int main()\n",
    "{\n",
    "    int n = 1;\n",
    "    while (n <= 10) //Cần ()\n",
    "    {\n",
    "        cout << n << endl;\n",
    "        n++; // tăng biến n thêm 1 sau mỗi lần\n",
    "             // tương đương với n = n + 1;\n",
    "    }\n",
    "    return 0;\n",
    "}"
   ]
  },
  {
   "cell_type": "code",
   "execution_count": 6,
   "metadata": {},
   "outputs": [
    {
     "name": "stdout",
     "output_type": "stream",
     "text": [
      "Overwriting countdown_while.cpp\n"
     ]
    }
   ],
   "source": [
    "%%file countdown_while.cpp\n",
    "\n",
    "//Ví dụ đếm ngược từ 10 đến 0, thông báo \"Happy New Year\" khi kết thúc\n",
    "#include <iostream>\n",
    "\n",
    "using namespace std;\n",
    "\n",
    "int main()\n",
    "{\n",
    "    int n = 10;\n",
    "    while (n >= 0)\n",
    "    {\n",
    "        //có thể lồng các cấu trúc điều khiển khác\n",
    "        if (n > 0)\n",
    "            cout << n << endl;\n",
    "        else\n",
    "            cout << \"Happy New Year\\n\";\n",
    "        n--; //Điều gì xảy ra nếu không thay đổi biến?\n",
    "    }\n",
    "    return 0;\n",
    "}"
   ]
  },
  {
   "cell_type": "code",
   "execution_count": 16,
   "metadata": {},
   "outputs": [
    {
     "name": "stdout",
     "output_type": "stream",
     "text": [
      "Overwriting acc_sum.cpp\n"
     ]
    }
   ],
   "source": [
    "%%file acc_sum.cpp\n",
    "\n",
    "// Ví dụ tính tổng tích luỹ từ 1 đến 100\n",
    "\n",
    "#include <iostream>\n",
    "\n",
    "using namespace std;\n",
    "\n",
    "int main()\n",
    "{\n",
    "    int n = 1, sum = 0;\n",
    "    //Điều gì xảy ra khi khởi tạo biến ở bên trong?\n",
    "    while (n <= 100)\n",
    "    {\n",
    "        sum += n; // tương đương với sum = sum + n;\n",
    "        n++;\n",
    "    }\n",
    "    cout << \"1 + 2 + ... + 100 = \" << sum << endl;\n",
    "    \n",
    "    return 0;\n",
    "}"
   ]
  },
  {
   "cell_type": "code",
   "execution_count": 20,
   "metadata": {},
   "outputs": [
    {
     "name": "stdout",
     "output_type": "stream",
     "text": [
      "Overwriting acc_sum_dowhile.cpp\n"
     ]
    }
   ],
   "source": [
    "%%file acc_sum_dowhile.cpp\n",
    "\n",
    "// Ví dụ tính tổng tích luỹ dùng do...while\n",
    "#include <iostream>\n",
    "using namespace std;\n",
    "\n",
    "int main()\n",
    "{\n",
    "    int n = 1, sum = 0;\n",
    "    do\n",
    "    {\n",
    "        sum += n;\n",
    "        n++; //điều gì xảy ra nếu tăng biến trước?\n",
    "    } while (n <= 100); //có ; ở đây\n",
    "    \n",
    "    cout << \"1 + 2 + ... + 100 = \" << sum << endl;\n",
    "    \n",
    "    return 0;\n",
    "}"
   ]
  },
  {
   "cell_type": "code",
   "execution_count": 42,
   "metadata": {},
   "outputs": [
    {
     "name": "stdout",
     "output_type": "stream",
     "text": [
      "Overwriting acc_sum_for.cpp\n"
     ]
    }
   ],
   "source": [
    "%%file acc_sum_for.cpp\n",
    "\n",
    "// Ví dụ tính tổng tích luỹ dùng for\n",
    "#include <iostream>\n",
    "using namespace std;\n",
    "\n",
    "int main()\n",
    "{\n",
    "    int sum = 0;\n",
    "    for (int n=0; n <= 100; n++) //khởi tạo và thay đổi biến\n",
    "    {\n",
    "        sum += n;\n",
    "    }\n",
    "    \n",
    "    cout << \"1 + 2 + ... + 100 = \" << sum << endl;\n",
    "    // Hiện giá trị của n ở đây?\n",
    "    //Tuỳ vào phiên bản của C++\n",
    "    return 0;\n",
    "}"
   ]
  },
  {
   "cell_type": "code",
   "execution_count": 23,
   "metadata": {},
   "outputs": [
    {
     "name": "stdout",
     "output_type": "stream",
     "text": [
      "Overwriting even_square.cpp\n"
     ]
    }
   ],
   "source": [
    "%%file even_square.cpp\n",
    "\n",
    "//Ví dụ in các số chính phương chẵn nhỏ hơn 1 tỷ\n",
    "\n",
    "#include <iostream>\n",
    "using namespace std;\n",
    "\n",
    "int main()\n",
    "{\n",
    "    //Điều kiện có thể là biểu thức điều kiện bất kì\n",
    "    // Thay đổi biến cũng vậy\n",
    "    for (int n = 0; n*n <= 1000000000; n+=2)\n",
    "    {\n",
    "        cout << n*n << endl;\n",
    "    }\n",
    "}\n"
   ]
  },
  {
   "cell_type": "markdown",
   "metadata": {},
   "source": [
    "## Các kĩ thuật lặp cơ bản\n",
    "\n",
    "- Lặp với số lần cố định\n",
    "- Lặp với điều kiện lặp bất kì\n",
    "    + Lặp vô hạn\n",
    "- Lặp lồng nhau\n",
    "- Lặp với các điều khiển khác (dùng `break` hay `continue`)"
   ]
  },
  {
   "cell_type": "code",
   "execution_count": null,
   "metadata": {},
   "outputs": [],
   "source": [
    "// Tính tổng từ 1 đến 10, bỏ qua các số từ 5 đến 8\n",
    "\n",
    "int sum = 0;\n",
    "for (int n = 1; n <= 10; n++)\n",
    "{\n",
    "    if (n>= 5 && n <= 8)\n",
    "        continue; //không chạy lệnh sum += n khi điều kiện đúng\n",
    "    sum += n;\n",
    "}"
   ]
  },
  {
   "cell_type": "code",
   "execution_count": 38,
   "metadata": {},
   "outputs": [
    {
     "name": "stdout",
     "output_type": "stream",
     "text": [
      "Overwriting dice.cpp\n"
     ]
    }
   ],
   "source": [
    "%%file dice.cpp\n",
    "\n",
    "// Tung 2 xúc xắc 100 lần, nếu cả hai cùng bằng 6 thì dừng ngay lập tức\n",
    "\n",
    "#include <iostream>\n",
    "#include <cstdlib>\n",
    "\n",
    "int roll_a_dice()\n",
    "{\n",
    "    int r = rand() % 6 + 1; //số ngẫu nhiên từ 1 đến 6\n",
    "    return r;\n",
    "}\n",
    "\n",
    "int main()\n",
    "{\n",
    "    for(int i=0; i<=10; i++){\n",
    "        int r1 = roll_a_dice();\n",
    "        int r2 = roll_a_dice();\n",
    "        if (r1==r2 && r1 == 6)\n",
    "        {\n",
    "            std::cout << \"Tung lan thu \" << i <<\n",
    "                \", hai xuc xac bang \" << r1 << std::endl;\n",
    "            break; //thoát khỏi vòng lặp\n",
    "        }\n",
    "    }\n",
    "}\n"
   ]
  },
  {
   "cell_type": "markdown",
   "metadata": {},
   "source": [
    "### Lặp vô hạn dùng break"
   ]
  },
  {
   "cell_type": "code",
   "execution_count": 37,
   "metadata": {},
   "outputs": [
    {
     "name": "stdout",
     "output_type": "stream",
     "text": [
      "Writing dice_infi.cpp\n"
     ]
    }
   ],
   "source": [
    "%%file dice_infi.cpp\n",
    "\n",
    "// Tung 2 xúc xắc cho đến khi bằng 6\n",
    "#include <iostream>\n",
    "#include <cstdlib>\n",
    "\n",
    "int roll_a_dice()\n",
    "{\n",
    "    int r = rand() % 6 + 1; //số ngẫu nhiên từ 1 đến 6\n",
    "    return r;\n",
    "}\n",
    "\n",
    "int main()\n",
    "{\n",
    "    for(int i=0; true; i++){\n",
    "        int r1 = roll_a_dice();\n",
    "        int r2 = roll_a_dice();\n",
    "        if (r1==r2 && r1 == 6)\n",
    "        {\n",
    "            std::cout << \"Tung lan thu \" << i <<\n",
    "                \", hai xuc xac bang \" << r1 << std::endl;\n",
    "            break; //thoát khỏi vòng lặp\n",
    "        }\n",
    "    }\n",
    "}"
   ]
  },
  {
   "cell_type": "code",
   "execution_count": null,
   "metadata": {},
   "outputs": [],
   "source": [
    "//Dùng while\n",
    "int count = 1;\n",
    "while(1)\n",
    "{\n",
    "    int r1 = roll_a_dice();\n",
    "    int r2 = roll_a_dice();\n",
    "    if (r1==r2 && r1 == 6)\n",
    "    {\n",
    "        std::cout << \"Tung lan thu \" << count <<\n",
    "            \", hai xuc xac bang 6 \\n\";\n",
    "        break; //thoát khỏi vòng lặp\n",
    "    }  \n",
    "}\n"
   ]
  },
  {
   "cell_type": "markdown",
   "metadata": {},
   "source": [
    "### Lặp lồng nhau"
   ]
  },
  {
   "cell_type": "code",
   "execution_count": null,
   "metadata": {},
   "outputs": [],
   "source": [
    "//Duyệt tất cả các cặp số (i, j) với i, j từ 1 đến 10 \n",
    "for (int i = 1; i <= 10; i++){\n",
    "    for (int j = 1; j<= 10; j++){\n",
    "        cout << \"(\" << i << \", \" << j << \")\\n\";\n",
    "    }\n",
    "}"
   ]
  },
  {
   "cell_type": "code",
   "execution_count": null,
   "metadata": {},
   "outputs": [],
   "source": [
    "//Duyệt tất cả các cặp số (i, j) với i, j từ 1 đến 10 mà i>j\n",
    "\n",
    "for (int i = 1; i <= 10; i++){\n",
    "    for (int j = 1; j<i; j++){\n",
    "        cout << \"(\" << i << \", \" << j << \")\\n\";\n",
    "    }\n",
    "}"
   ]
  },
  {
   "cell_type": "code",
   "execution_count": null,
   "metadata": {},
   "outputs": [],
   "source": [
    "//Duyệt tất cả các cặp số (i, j) với i, j từ 1 đến 10 mà i<j \n",
    "for (int i = 1; i <= 10; i++){\n",
    "    for (int j = i + 1; j <= 10; j++){\n",
    "        cout << \"(\" << i << \", \" << j << \")\\n\";\n",
    "    }\n",
    "}"
   ]
  },
  {
   "cell_type": "markdown",
   "metadata": {},
   "source": [
    "## Các chú ý\n",
    "\n",
    "- Khi dùng vòng lặp, cần chú ý điều kiện để chương trình kết thúc\n",
    "    + Lặp số lần cố định\n",
    "    + Lặp vô hạn kết hợp với `break` để thoát\n",
    "         - `for(;;)` hay `while(1)`\n",
    "- `while`, `do while`, `for` có thể được cài đặt linh hoạt với nhau;\n",
    "    + chú ý khi tạo biến, điều kiện ban đầu và thoát\n",
    "    \n",
    "```\n",
    "for (init-statement; condition-expression; end-expression)\n",
    "   statement\n",
    "```\n",
    "\n",
    "tương đương với:\n",
    "\n",
    "```\n",
    "{ // note the block here\n",
    "    init-statement;\n",
    "    while (condition-expression)\n",
    "    {\n",
    "        statement;\n",
    "        end-expression;\n",
    "    }\n",
    "} // variables defined inside the loop go out of scope here\n",
    "```\n",
    "\n",
    "- `while(1)` thường sử dụng nhiều trong các trò chơi cần lặp vô hạn\n",
    "- `for` dùng nhiều khi lồng các lệnh lặp"
   ]
  },
  {
   "cell_type": "markdown",
   "metadata": {},
   "source": [
    "## Các vấn đề thường gặp\n",
    "\n",
    "#### 1. Dùng biến unsigned để đếm"
   ]
  },
  {
   "cell_type": "code",
   "execution_count": 40,
   "metadata": {},
   "outputs": [
    {
     "name": "stdout",
     "output_type": "stream",
     "text": [
      "Overwriting unsigned_count.cpp\n"
     ]
    }
   ],
   "source": [
    "%%file unsigned_count.cpp\n",
    "\n",
    "//Điều gì xảy ra khi biên dịch và chạy chương trình sau?\n",
    "#include <iostream>\n",
    " \n",
    "int main()\n",
    "{\n",
    "    unsigned int count = 10;\n",
    " \n",
    "    // count from 10 down to 0\n",
    "    while (count >= 0)\n",
    "    {\n",
    "        if (count == 0)\n",
    "            std::cout << \"blastoff!\";\n",
    "        else\n",
    "            std::cout << count << \" \";\n",
    "        --count;\n",
    "    }\n",
    " \n",
    "    return 0;\n",
    "}"
   ]
  },
  {
   "cell_type": "markdown",
   "metadata": {},
   "source": [
    "#### 2. Off-by-one errors\n",
    "\n",
    "Đếm từ 1 đến 10 `for (int i = 1; i < 10; i++)` thay vì \n",
    "\n",
    "`for (int i = 1; i <= 10; i++)`"
   ]
  },
  {
   "cell_type": "markdown",
   "metadata": {},
   "source": [
    "#### 3. Omitted expressions\n",
    "\n",
    "```\n",
    "int count=0;\n",
    "for ( ; count < 10; )\n",
    "{\n",
    "    std::cout << count << \" \";\n",
    "    ++count;\n",
    "}\n",
    "```\n",
    "\n",
    "hay lặp vô hạn dùng `for`:\n",
    "\n",
    "`for(;;)`\n",
    "\n",
    "- Trong C++, biểu thức điều kiện bị vắng được hiểu là `true`"
   ]
  },
  {
   "cell_type": "markdown",
   "metadata": {},
   "source": [
    "#### 4. Định nghĩa nhiều biến vòng lặp\n"
   ]
  },
  {
   "cell_type": "code",
   "execution_count": null,
   "metadata": {},
   "outputs": [],
   "source": [
    "//output của đoạn code sau là gì?\n",
    "\n",
    "for (int iii=0, jjj=9; iii < 10; ++iii, --jjj)\n",
    "    std::cout << iii << \" \" << jjj << '\\n';"
   ]
  },
  {
   "cell_type": "markdown",
   "metadata": {},
   "source": [
    "#### 5. break vs return\n",
    "\n",
    "`break` để kết thúc vòng lặp hay `switch`.\n",
    "\n",
    "`return` để thoát ra khỏi hàm (kể cả khi vòng lặp hay `switch` ở trong)."
   ]
  }
 ],
 "metadata": {
  "kernelspec": {
   "display_name": "C++11",
   "language": "C++11",
   "name": "xeus-cling-cpp11"
  },
  "language_info": {
   "codemirror_mode": "text/x-c++src",
   "file_extension": ".cpp",
   "mimetype": "text/x-c++src",
   "name": "c++",
   "version": "-std=c++11"
  }
 },
 "nbformat": 4,
 "nbformat_minor": 2
}
