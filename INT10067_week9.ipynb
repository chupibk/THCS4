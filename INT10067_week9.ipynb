{
 "cells": [
  {
   "cell_type": "markdown",
   "metadata": {},
   "source": [
    "# TIN HỌC CƠ SỞ 4 (IT1006 7)\n",
    "\n",
    "#### Diep Nguyen, Ph.D. (ngocdiep@vnu.edu.vn)\n",
    "\n",
    "# https://github.com/chupibk/THCS4"
   ]
  },
  {
   "cell_type": "markdown",
   "metadata": {},
   "source": [
    "## Ôn lại\n",
    "\n",
    "- Tuần 5: Mảng + xâu kí tự (tuần 7)\n",
    "- Tuần 6: Nhập xuất với tệp\n",
    "- Tuần 7: Hàm\n",
    "- Tuần 8: Con trỏ\n",
    "\n",
    "Thuần thục các cơ chế làm việc với hàm: `by value`, `by address`, `by reference`\n",
    "    + truyền tham số\n",
    "    + trả lại\n",
    "-> kể cả hàm con trỏ!\n",
    "\n",
    "Thuần thục nhập xuất với luồn dữ liệu chuẩn hay với tệp.\n",
    "\n",
    "Con trỏ và tham chiếu:\n",
    "- Toán tử **(*)** có hai ý nghĩa:\n",
    "        + (1) Lấy giá trị tại một địa chỉ\n",
    "        + (2) Khai báo biến con trỏ\n",
    "- Toán tử **(&)** có hai ý nghĩa:\n",
    "        + (1) Lấy địa chỉ của một biến --> return không phải *một literal* mà *một pointer* (rvalued)\n",
    "        + (2) Khai báo biến tham chiếu (reference)\n",
    "        \n"
   ]
  },
  {
   "cell_type": "markdown",
   "metadata": {},
   "source": [
    "### Reminder: Mid-term essay\n",
    "\n",
    "Hãy so sánh ngôn ngữ lập trình C++ và ngôn ngữ tự nhiên (ví dụ tiếng Việt)\n",
    "\n",
    "**Yêu cầu**:\n",
    "- Hạn nộp: 8/11/2018 (Tuần 10)\n",
    "- Nhớ ghi rõ họ tên, mã số sinh viên\n",
    "- In và nộp cho lớp trưởng trước giờ học\n",
    "- Giới hạn từ: khoảng 500-600 từ (tiếng Việt hoặc tiếng Anh), hoặc 1000-1200 chữ tiếng Nhật"
   ]
  },
  {
   "cell_type": "markdown",
   "metadata": {},
   "source": [
    "## Tuần 9: Cấu trúc và lớp\n",
    "\n",
    "`struct` và `class`\n",
    "\n",
    "- Cho lập trình hướng đối tượng\n",
    "- Đóng gói cả dữ liệu và hàm\n",
    "\n",
    "**Note**\n",
    "\n",
    "`struct` thừa hưởng từ ngôn ngữ C, nhưng khác ở C: có thể đóng gói cả hàm!\n",
    "\n",
    "1. Khai báo, khởi tạo\n",
    "2. Truy nhập thông tin, hàm\n",
    "3. Huỷ đối tượng"
   ]
  },
  {
   "cell_type": "markdown",
   "metadata": {},
   "source": [
    "### (1) Khai báo và khởi tạo\n",
    "\n",
    "**struct**:\n",
    "\n",
    "```\n",
    "struct Struct_name {\n",
    "    type member_var1;\n",
    "    type member_var2;\n",
    "    ...\n",
    "    //member functions\n",
    "};\n",
    "```\n",
    "\n",
    "**class**:\n",
    "\n",
    "```\n",
    "class Class_name {\n",
    "    private:\n",
    "        type member_var1;\n",
    "        type member_var2;\n",
    "        ...\n",
    "    public:\n",
    "        //member functions...\n",
    "};\n",
    "```\n",
    "\n",
    "**Note**\n",
    "1. Trong C++, `struct` và `class` về cơ bản là giống nhau. Khác nhau lớn nhất là các biến thành viên của `struct` được mặc định là `public` (có thể truy nhập từ ngoài).\n",
    "2. Tuy nhiên, theo style của lập trình hướng đối tượng (OOP), khuyên dùng `struct` khi đóng gói data-only, và dùng `class` khi đóng gói cả dữ liệu và hàm.\n"
   ]
  },
  {
   "cell_type": "code",
   "execution_count": 31,
   "metadata": {},
   "outputs": [
    {
     "name": "stdout",
     "output_type": "stream",
     "text": [
      "Overwriting struct_class_example.cpp\n"
     ]
    }
   ],
   "source": [
    "%%file struct_class_example.cpp\n",
    "\n",
    "#include<iostream>\n",
    "\n",
    "using namespace std;\n",
    "\n",
    "struct SVector{\n",
    "    double x;\n",
    "    double y;\n",
    "    \n",
    "    void print(){\n",
    "        cout << \"(\"<< x << \", \" << y << \")\\n\";\n",
    "    }\n",
    "};\n",
    "\n",
    "class CVector{\n",
    "    public: //chú ý là public \n",
    "        double x;\n",
    "        double y;\n",
    "    \n",
    "    public:\n",
    "        void print(){\n",
    "            cout << \"(\"<< x << \", \" << y << \")\\n\";\n",
    "        }\n",
    "};\n",
    "\n",
    "int main()\n",
    "{\n",
    "    //Khởi tạo dùng initialization list\n",
    "    SVector s = {1.0, 3.0};\n",
    "    CVector c = {2.0, 5.0};\n",
    "    \n",
    "    // Hoặc là dùng uniform initialization (C++11)\n",
    "    //uniform initialization, C++11~\n",
    "    SVector s {1.0, 3.0};\n",
    "    CVector c {2.0, 5.0};\n",
    "    \n",
    "    //print vectors\n",
    "    s.print();\n",
    "    c.print();\n",
    "    \n",
    "    cout << \"Struct: x=\"<< s.x << \", y=\" << s.y << \"\\n\";\n",
    "    \n",
    "    cout << \"Class: x= \"<< c.x << \", y=\" << c.y << \"\\n\";\n",
    "    \n",
    "    return 0;\n",
    "}"
   ]
  },
  {
   "cell_type": "markdown",
   "metadata": {},
   "source": [
    "#### Constructors\n",
    "\n",
    "Nếu dữ liệu thành viên của một lớp được định nghĩa là private,\n",
    "ta không thể khởi tạo dùng cách thông thường\n",
    "\n",
    "--> Không thể access thì không thể khởi tạo\n",
    "--> dùng `constructor`\n",
    "\n",
    "Một **constructor** là một kiểu hàm thành viên đặc biệt được gọi tự động mỗi khi một đối tượng của một lớp được khai báo.\n",
    "\n",
    "**Notes**\n",
    "1. Constructors phải có tên trùng với tên lớp\n",
    "2. Constructors không có kiểu trả lại (kể cả void)\n",
    "\n",
    "**Default constructor**: không có tham số, được tự động sinh ra nếu người dùng không định nghĩa gì\n",
    "\n",
    "- implicit constructor (or implicitly generated constructor)\n"
   ]
  },
  {
   "cell_type": "code",
   "execution_count": 33,
   "metadata": {},
   "outputs": [
    {
     "name": "stdout",
     "output_type": "stream",
     "text": [
      "Writing class_implicit_example.cpp\n"
     ]
    }
   ],
   "source": [
    "%%file class_implicit_example.cpp\n",
    "\n",
    "#include<iostream>\n",
    "\n",
    "class Date\n",
    "{\n",
    "    private:\n",
    "        int m_year = 1900;\n",
    "        int m_month = 1;\n",
    "        int m_day = 1;\n",
    "    //Tự động có\n",
    "//     public:\n",
    "//         Date()\n",
    "//         {}\n",
    "};\n",
    "\n",
    "int main()\n",
    "{\n",
    "    Date date; //calls implicits constructor\n",
    "    return 0;\n",
    "}"
   ]
  },
  {
   "cell_type": "code",
   "execution_count": 34,
   "metadata": {},
   "outputs": [
    {
     "name": "stdout",
     "output_type": "stream",
     "text": [
      "Writing class_constructor_example.cpp\n"
     ]
    }
   ],
   "source": [
    "%%file class_constructor_example.cpp\n",
    "\n",
    "class Date\n",
    "{\n",
    "private:\n",
    "    int m_year = 1900;\n",
    "    int m_month = 1;\n",
    "    int m_day = 1;\n",
    " \n",
    "public:\n",
    "    // normal non-default constructor\n",
    "    Date(int year, int month, int day)\n",
    "    {\n",
    "        m_year = year;\n",
    "        m_month = month;\n",
    "        m_day = day;\n",
    "    }\n",
    " \n",
    "    // No implicit constructor provided\n",
    "    //because we already defined our own constructor\n",
    "};\n",
    " \n",
    "int main()\n",
    "{\n",
    "    Date date; // error: Can't instantiate object\n",
    "               //because default constructor doesn't exist\n",
    "               //and the compiler won't generate one\n",
    "    Date today(2020, 10, 14); // today is initialized to Oct 14th, 2020\n",
    " \n",
    "    return 0;\n",
    "}"
   ]
  },
  {
   "cell_type": "markdown",
   "metadata": {},
   "source": [
    "#### Khởi tạo dùng danh sách khởi tạo\n",
    "\n",
    "Constructor member initializer lists\n",
    "\n",
    "Cho các dữ liệu đơn giản, ta có thể dùng phép gán trong constructor"
   ]
  },
  {
   "cell_type": "code",
   "execution_count": null,
   "metadata": {},
   "outputs": [],
   "source": [
    "class Something\n",
    "{\n",
    "private:\n",
    "    int m_value1;\n",
    "    double m_value2;\n",
    "    char m_value3;\n",
    " \n",
    "public:\n",
    "    Something()\n",
    "    {\n",
    "        // These are all assignments, not initializations\n",
    "        m_value1 = 1;\n",
    "        m_value2 = 2.2;\n",
    "        m_value3 = 'c';\n",
    "    }\n",
    "};"
   ]
  },
  {
   "cell_type": "markdown",
   "metadata": {},
   "source": [
    "\n",
    "Nhưng với một số loại dữ liệu như `const` hay biến tham chiếu, ta phải khởi tạo ngay khi chúng được khai báo.\n"
   ]
  },
  {
   "cell_type": "code",
   "execution_count": null,
   "metadata": {},
   "outputs": [],
   "source": [
    "class Something\n",
    "{\n",
    "private:\n",
    "    const int m_value;\n",
    " \n",
    "public:\n",
    "    Something()\n",
    "    {\n",
    "        m_value = 1; // error: const vars can not be assigned to\n",
    "    } \n",
    "};"
   ]
  },
  {
   "cell_type": "markdown",
   "metadata": {},
   "source": [
    "**Member initializer lists**\n",
    "\n",
    "Nhắc lại, 3 cách khởi tạo giá trị cho biến: copy, direct, và uniform initialization (C++11 only)\n",
    "\n",
    "```\n",
    "int value1 = 1; // copy initialization\n",
    "double value2(2.2); // direct initialization\n",
    "char value3 {'c'}; // uniform initialization\n",
    "```\n",
    "\n",
    "Dùng `initializer lists` thì tương đương với `direct` hay `uniform` initialization."
   ]
  },
  {
   "cell_type": "code",
   "execution_count": null,
   "metadata": {},
   "outputs": [],
   "source": [
    "class Something\n",
    "{\n",
    "private:\n",
    "    int m_value1;\n",
    "    double m_value2;\n",
    "    char m_value3;\n",
    " \n",
    "public:\n",
    "    // directly initialize our member variables\n",
    "    Something() : m_value1(1), m_value2(2.2), m_value3('c')     \n",
    "    {\n",
    "    // No need for assignment here\n",
    "    }\n",
    " \n",
    "    void print()\n",
    "    {\n",
    "         std::cout << \"Something(\" <<\n",
    "             m_value1 << \", \" << \n",
    "             m_value2 << \", \" << \n",
    "             m_value3 << \")\\n\";\n",
    "    }\n",
    "};\n",
    " \n",
    "int main()\n",
    "{\n",
    "    Something something;\n",
    "    something.print();\n",
    "    return 0;\n",
    "}"
   ]
  },
  {
   "cell_type": "markdown",
   "metadata": {},
   "source": [
    "Hoặc cho phép truyền vào các giá trị khởi tạo qua constructor"
   ]
  },
  {
   "cell_type": "code",
   "execution_count": 35,
   "metadata": {},
   "outputs": [
    {
     "name": "stdout",
     "output_type": "stream",
     "text": [
      "Writing constructor_example.cpp\n"
     ]
    }
   ],
   "source": [
    "%%file constructor_example.cpp\n",
    "\n",
    "#include <iostream>\n",
    " \n",
    "class Something\n",
    "{\n",
    "private:\n",
    "    int m_value1;\n",
    "    double m_value2;\n",
    "    char m_value3;\n",
    " \n",
    "public:\n",
    "    Something(int value1, double value2, char value3='c')\n",
    "        : m_value1(value1), m_value2(value2), m_value3(value3)\n",
    "            // directly initialize our member variables\n",
    "    {\n",
    "    // No need for assignment here\n",
    "    }\n",
    " \n",
    "    void print()\n",
    "    {\n",
    "         std::cout << \"Something(\" << m_value1 << \", \" << m_value2 << \", \" << m_value3 << \")\\n\";\n",
    "    }\n",
    " \n",
    "};\n",
    " \n",
    "int main()\n",
    "{\n",
    "    Something something(1, 2.2); // value1 = 1, value2=2.2, value3 gets default value 'c'\n",
    "    something.print();\n",
    "    return 0;\n",
    "}"
   ]
  },
  {
   "cell_type": "code",
   "execution_count": null,
   "metadata": {},
   "outputs": [],
   "source": [
    "//For const member variable\n",
    "\n",
    "class Something\n",
    "{\n",
    "private:\n",
    "    const int m_value;\n",
    " \n",
    "public:\n",
    "    Something(): m_value(5) // directly initialize our const member variable\n",
    "    {\n",
    "    } \n",
    "};"
   ]
  },
  {
   "cell_type": "code",
   "execution_count": null,
   "metadata": {},
   "outputs": [],
   "source": [
    "// Or use uniform initialization instead, C++11\n",
    "class Something\n",
    "{\n",
    "private:\n",
    "    const int m_value;\n",
    " \n",
    "public:\n",
    "    Something(): m_value { 5 } // Uniformly initialize our member variables\n",
    "    {\n",
    "    } \n",
    "};"
   ]
  },
  {
   "cell_type": "code",
   "execution_count": null,
   "metadata": {},
   "outputs": [],
   "source": [
    "//Khởi tạo mảng thành viên?\n",
    "//Prior to C++11, you can only zero an array member via member initialization list\n",
    "class Something\n",
    "{\n",
    "private:\n",
    "    const int m_array[5];\n",
    " \n",
    "public:\n",
    "    Something(): m_array {} // zero the member array\n",
    "    {\n",
    "        // If we want the array to have values, we'll have to use assignment here\n",
    "    }\n",
    " \n",
    "};\n"
   ]
  },
  {
   "cell_type": "code",
   "execution_count": null,
   "metadata": {},
   "outputs": [],
   "source": [
    "//in C++11, using uniform initialization!\n",
    "class Something\n",
    "{\n",
    "private:\n",
    "    const int m_array[5];\n",
    " \n",
    "public:\n",
    "    Something(): m_array { 1, 2, 3, 4, 5 } // use uniform initialization to initialize our member array\n",
    "    {\n",
    "    }\n",
    " \n",
    "};"
   ]
  },
  {
   "cell_type": "markdown",
   "metadata": {},
   "source": [
    "**Khởi tạo biến thành viên là đối tượng của lớp khác?**\n",
    "\n",
    "(Initializing member variables that are classes)\n"
   ]
  },
  {
   "cell_type": "code",
   "execution_count": null,
   "metadata": {},
   "outputs": [],
   "source": [
    "#include <iostream>\n",
    " \n",
    "class A\n",
    "{\n",
    "public:\n",
    "    A(int x) { std::cout << \"A \" << x << \"\\n\"; }\n",
    "};\n",
    " \n",
    "class B\n",
    "{\n",
    "private:\n",
    "    A m_a;\n",
    "public:\n",
    "    B(int y)\n",
    "         : m_a(y-1) // call A(int) constructor to initialize member m_a\n",
    "    {\n",
    "        std::cout << \"B \" << y << \"\\n\";\n",
    "    }\n",
    "};\n",
    " \n",
    "int main()\n",
    "{\n",
    "    B b(5);\n",
    "    return 0;\n",
    "}"
   ]
  },
  {
   "cell_type": "markdown",
   "metadata": {},
   "source": [
    "#### Hàm thành viên\n"
   ]
  },
  {
   "cell_type": "code",
   "execution_count": null,
   "metadata": {},
   "outputs": [],
   "source": [
    "struct Vector{\n",
    "    double x;\n",
    "    double y;\n",
    "    \n",
    "    //hàm thành viên:\n",
    "    // có thể truy nhập trực tiếp đến các biến thành viên, x và y\n",
    "    void print(){\n",
    "        cout << \"(\"<< x << \", \" << y << \")\";\n",
    "    }\n",
    "    \n",
    "    Vector add(const Vector& other){\n",
    "        Vector sum;\n",
    "        sum.x = x + other.x;\n",
    "        sum.y = y + other.y;\n",
    "        return sum;\n",
    "    }\n",
    "};\n",
    "\n",
    "\n",
    "//Lúc sử dụng\n",
    "Vector v;\n",
    "v.print();\n",
    "\n",
    "Vector v1, v2;\n",
    "Vector s = v1.add(v2);\n"
   ]
  },
  {
   "cell_type": "code",
   "execution_count": null,
   "metadata": {},
   "outputs": [],
   "source": [
    "// Định nghĩa bằng hàm thông thường\n",
    "struct Vector{\n",
    "    double x;\n",
    "    double y;\n",
    "};\n",
    "\n",
    "// Định nghĩa các hàm\n",
    "void print(const Vector& v){\n",
    "    // truy nhập từ v\n",
    "    cout << \"(\"<< v.x << \", \" << v.y << \")\";\n",
    "}\n",
    "\n",
    "Vector add(const Vector& v1, const Vector& v2){\n",
    "    Vector sum;\n",
    "    sum.x = v1.x + v2.x;\n",
    "    sum.y = v1.y + v2.y;\n",
    "    return sum;\n",
    "}\n",
    "\n",
    "//Sử dụng\n",
    "Vector v1, v2;\n",
    "Vector s = add(v1, v2);\n"
   ]
  },
  {
   "cell_type": "markdown",
   "metadata": {},
   "source": [
    "#### Hằng hàm thành viên (Const member functions)\n",
    "\n",
    "Gọi hàm thành viên từ đối tượng biến `const`?"
   ]
  },
  {
   "cell_type": "code",
   "execution_count": 23,
   "metadata": {},
   "outputs": [
    {
     "name": "stdout",
     "output_type": "stream",
     "text": [
      "Overwriting const_member_func.cpp\n"
     ]
    }
   ],
   "source": [
    "%%file const_member_func.cpp\n",
    "\n",
    "#include<iostream>\n",
    "using namespace std;\n",
    "\n",
    "struct Vector{\n",
    "    double x;\n",
    "    double y;\n",
    "    \n",
    "    void print(){\n",
    "        cout << \"(\"<< x << \", \" << y << \")\\n\";\n",
    "    }\n",
    "    \n",
    "    Vector add(const Vector& other) {\n",
    "        Vector sum;\n",
    "        sum.x = x + other.x;\n",
    "        sum.y = y + other.y;\n",
    "        return sum;\n",
    "    }\n",
    "};\n",
    "\n",
    "int main()\n",
    "{\n",
    "    //Tại sao không compile được?\n",
    "    const Vector v1 {1.0, 2.0}; //uniform initialization\n",
    "    Vector v2 {2.0, 3.5};\n",
    "    v1.print();\n",
    "    \n",
    "    //Nếu là v1.add(v2) thì sao?\n",
    "    v2.add(v1).print();\n",
    "    //v1.add(v2).print();\n",
    "    \n",
    "    return 0;\n",
    "}"
   ]
  },
  {
   "cell_type": "markdown",
   "metadata": {},
   "source": [
    "**Note**\n",
    "\n",
    "**(1)** `print()` và `add()` không đảm bảo với trình biên dịch rằng chúng sẽ không sửa giá trị của biến `struct` mà nó là thành viên.\n",
    "\n",
    "--> Cần khai báo `print()` và `add()` là các hằng thành viên.\n",
    "\n",
    "```\n",
    "void print() const{}\n",
    "\n",
    "Vector add(const Vector& other) const{}\n",
    "```\n",
    "\n",
    "**(2)** Hằng biến chỉ có thể được dùng tại các vị trí `const`"
   ]
  },
  {
   "cell_type": "code",
   "execution_count": null,
   "metadata": {},
   "outputs": [],
   "source": [
    "// Các ví dụ\n",
    "struct Vector{\n",
    "    void print() const {...}\n",
    "    Vector add(Vector& other) const {...}\n",
    "    void append(const Vector& tail) {...}\n",
    "};\n",
    "\n",
    "const Vector v;\n",
    "Vector v2;\n",
    "\n",
    "v.print(); //ok vì print() là hằng hàm thành viên\n",
    "v2.print(); //v2 không phải const nên không quan tâm\n",
    "v.add(v2); //ok vì add là hằng hàm thành viên\n",
    "v2.add(v); //lỗi vì tham số other không phải const\n",
    "v.append(v2); // lỗi vì append không phải hằng hàm\n",
    "v2.append(v); //ok vì tail là const"
   ]
  },
  {
   "cell_type": "code",
   "execution_count": null,
   "metadata": {},
   "outputs": [],
   "source": [
    "class Vector{\n",
    "    //default private:\n",
    "    double x;\n",
    "    double y;\n",
    "    \n",
    "    public:\n",
    "        Vector add(Vector other)\n",
    "        {...}\n",
    "        void print()\n",
    "        {...}\n",
    "};\n",
    "\n",
    "Vector v; // v là đối tượng thuộc lớp Vector\n",
    "Vector* p = new Vector(); //p trở tới một đối tượng Vector\n"
   ]
  },
  {
   "cell_type": "code",
   "execution_count": 40,
   "metadata": {},
   "outputs": [
    {
     "name": "stdout",
     "output_type": "stream",
     "text": [
      "Overwriting class_access_example.cpp\n"
     ]
    }
   ],
   "source": [
    "%%file class_access_example.cpp\n",
    "\n",
    "#include<iostream>\n",
    "using namespace std;\n",
    "\n",
    "\n",
    "//Chỉnh lại code\n",
    "class Vector\n",
    "{\n",
    "    private:\n",
    "        double x;\n",
    "        double y;\n",
    "    \n",
    "    public:\n",
    "        //Constructor\n",
    "        Vector(double _x = 0, double _y = 0){\n",
    "            x = _x;\n",
    "            y = _y;\n",
    "        }\n",
    "    \n",
    "        //Tại sao other có thể truy nhập vào biến private?\n",
    "        Vector* add(const Vector& other) const {\n",
    "            return new Vector(x + other.x, y + other.y);\n",
    "        }\n",
    "        //Vector* : Tránh copy khi hàm return kết quả\n",
    "        //const: Cho phép đối số có thể là một hằng\n",
    "        // Vector&: Tránh copy đối số vào tham số;\n",
    "        //        Tham chiếu other đảm bảo không bao giờ null\n",
    "        //const: Cho phép gọi add() từ hằng vector\n",
    "    \n",
    "        void print() const {\n",
    "            cout << \"(\" << x << \", \" << y << \")\\n\";\n",
    "        }\n",
    "        //const: cho phép gọi print() từ hằng vector\n",
    "};\n",
    "\n",
    "int main()\n",
    "{\n",
    "    Vector a {1.0, 3.0};\n",
    "    Vector b {3.2, 3.5};\n",
    "    Vector* c = a.add(b);\n",
    "    c -> print();\n",
    "    return 0;\n",
    "    \n",
    "}"
   ]
  },
  {
   "cell_type": "markdown",
   "metadata": {},
   "source": [
    "**Notes**:\n",
    "One nuance of C++ that is often missed or misunderstood is that access control works on a per-class basis, not a per-object basis. This means that when a function has access to the private members of a class, it can access the private members of any object of that class type that it can see.\n",
    "\n",
    "In the above example, copyFrom() is a member of DateClass, which gives it access to the private members of DateClass. This means copyFrom() can not only directly access the private members of the implicit object it is operating on (copy), it also means it has direct access to the private members of DateClass parameter d! If parameter d were some other type, this would not be the case.\n",
    "\n",
    "This can be particularly useful when we need to copy members from one object of a class to another object of the same class.\n",
    "\n",
    "Ref: [https://www.learncpp.com/cpp-tutorial/83-public-vs-private-access-specifiers/](https://www.learncpp.com/cpp-tutorial/83-public-vs-private-access-specifiers/)"
   ]
  },
  {
   "cell_type": "markdown",
   "metadata": {},
   "source": [
    "### (2) Truy nhập đối tượng\n",
    "\n",
    "**Nhắc lại**\n",
    "`struct` mặc định dữ liệu thành viên là `public` --> có thể truy nhập từ ngoài.\n",
    "\n",
    "- Trực tiếp\n",
    "- Qua địa chỉ\n",
    "\n",
    "##### Cấu trúc và con trỏ\n",
    "```\n",
    "struct Vector{\n",
    "    double x;\n",
    "    double y;\n",
    "    void print(){...}\n",
    "};\n",
    "\n",
    "Vector v;\n",
    "Vector* pV = &v;\n",
    "```\n",
    "\n",
    "- Dùng **dấu chấm (.)** để truy nhập từ biến/ô nhớ *struct*:\n",
    "    + `v.x` hay `(*pv).x`\n",
    "    + `v.print()` hay `(*pv).print()`\n",
    "\n",
    "- Dùng **mũi tên (->)** để truy nhập bằng con trỏ/địa chỉ:\n",
    "    + `pv->x` hay `(&v)->x`\n",
    "    + `pv->print()` hay `(&v)->print()`"
   ]
  },
  {
   "cell_type": "markdown",
   "metadata": {},
   "source": [
    "Nhưng với `class`, thành viên mặc định là `private`, để truy nhập và sửa --> `setter` và `getter`"
   ]
  },
  {
   "cell_type": "code",
   "execution_count": null,
   "metadata": {},
   "outputs": [],
   "source": [
    "class Vector\n",
    "{\n",
    "    private:\n",
    "        double x;\n",
    "        double y;\n",
    "    public:\n",
    "        double getX(){ return x;}\n",
    "        double getY(){ return y;}\n",
    "    ...\n",
    "};\n",
    "\n",
    "//--> Tất cả các hàm không phải thành viên của Vector đều đọc được giá trị của x, y\n",
    "// dùng getX() và getY() để lấy giá trị\n",
    "\n",
    "void someTask(Vector v1, vector v2){\n",
    "    double xx, yy;\n",
    "    xx = v1.getX() + v2.getX();\n",
    "    yy = v1.getY() + v2.getY(); \n",
    "    ...\n",
    "}"
   ]
  },
  {
   "cell_type": "markdown",
   "metadata": {},
   "source": [
    "**Q**: Nếu chỉ muốn 1 hàm nào đó đọc được giá trị của x, y thì làm thế nào?\n",
    "\n",
    "--> Khai báo một hàm là `friend`"
   ]
  },
  {
   "cell_type": "code",
   "execution_count": null,
   "metadata": {},
   "outputs": [],
   "source": [
    "class Vector{\n",
    "    double x;\n",
    "    double y;\n",
    "    friend void someTask(Vector v1, Vector v2);\n",
    "    ...\n",
    "}\n",
    "\n",
    "void someTask(Vector v1, Vector v2){\n",
    "    double xx, yy;\n",
    "    xx = v1.x + v2.x;\n",
    "    v1.x = v2.y;\n",
    "}\n",
    "\n",
    "int otherTask(Vector v){\n",
    "    double a = v.x; //compile error\n",
    "}"
   ]
  },
  {
   "cell_type": "markdown",
   "metadata": {},
   "source": [
    "**Notes**\n",
    "\n",
    "Khi nào nên dùng `friend`?\n",
    "\n",
    "- Nếu có thể thay thế một hàm `friend` bằng một hàm thành viên thì nên làm\n",
    "- Chỉ dùng khi nào không tránh được:\n",
    "    + không thể chuyển thành hàm thành viên\n",
    "    + Không thể cho setter và getter public (ai cũng dùng được)\n",
    "    + Sẽ thấy ví dụ khi học về template\n",
    "    "
   ]
  },
  {
   "cell_type": "markdown",
   "metadata": {},
   "source": [
    "### (3) Destructor\n",
    "\n",
    "Một `destructor` là một kiểu hàm thành viên đặc biệt khác của lớp, được thực hiện khi một đối tượng của lớp bị huỷ.\n",
    "\n",
    "`constructor` được thiết kế để khởi tạo một lớp, `destructor` được thiết kế để giúp dọn dẹp bộ nhớ.\n",
    "\n",
    "Cho các lớp đơn giản (chỉ khởi tạo với biến thành viên bình thường), một `destructor` là không cần thiết vì C++ sẽ tự động dọn bộ nhớ khi đối tượng đi ra khỏi phạm vi.\n",
    "\n",
    "**Destructor naming**\n",
    "- Có cùng tên với class, có dấu (~) phía trước\n",
    "- Không có đối số nào --> chỉ có 1 destructor per class\n",
    "- Không có giá trị trả về"
   ]
  },
  {
   "cell_type": "code",
   "execution_count": 42,
   "metadata": {},
   "outputs": [
    {
     "name": "stdout",
     "output_type": "stream",
     "text": [
      "Overwriting class_destructor.cpp\n"
     ]
    }
   ],
   "source": [
    "%%file class_destructor.cpp\n",
    "\n",
    "#include<iostream>\n",
    "#include<cassert>\n",
    "\n",
    "class IntArray\n",
    "{\n",
    "    private:\n",
    "        int* m_array;\n",
    "        int m_length;\n",
    "    public:\n",
    "        IntArray(int length) //constructor\n",
    "        {\n",
    "            assert(length > 0);\n",
    "            m_array = new int[length];\n",
    "            m_length = length;\n",
    "        }\n",
    "    \n",
    "        ~IntArray()//destructor\n",
    "        {\n",
    "            //Dynamically delete the array we allocated earlier\n",
    "            delete[] m_array;\n",
    "            std::cout << \"Destructing IntArray\\n\";\n",
    "        }\n",
    "        \n",
    "        void setValue(int index, int value){ m_array[index] = value; }\n",
    "        int getValue(int index) { return m_array[index]; }\n",
    "        int getLength() { return m_length; }\n",
    "};\n",
    "\n",
    "int main()\n",
    "{\n",
    "    IntArray ar(10); // allocate 10 integers\n",
    "    for (int count = 0; count < 10; ++count)\n",
    "        ar.setValue(count, count+1);\n",
    "    \n",
    "    std::cout << \"The value of element 5 is: \" << ar.getValue(5) << \"\\n\";\n",
    "    return 0;\n",
    "} // ar is destroyed here, so the ~IntArray() destructor function called here"
   ]
  },
  {
   "cell_type": "code",
   "execution_count": null,
   "metadata": {},
   "outputs": [],
   "source": [
    "struct Array{\n",
    "    int n;\n",
    "    int* arr;\n",
    "    Array(int _n){\n",
    "        n = _n;\n",
    "        arr = new int[n];\n",
    "    }\n",
    "};\n",
    "\n",
    "Array* p = new Array(2);\n",
    "delete p; //huỷ struct mà p trỏ tới\n",
    "\n",
    "//điều gì xảy ra với bộ nhớ cấp phát cho arr??"
   ]
  },
  {
   "cell_type": "markdown",
   "metadata": {},
   "source": [
    "### Các vấn đề khác\n",
    "\n",
    "#### Định nghĩa lại toán tử (Operator overload)\n",
    "\n",
    "Ta đã có thể làm: `Vector sum = v1.add(v2);`\n",
    "\n",
    "Nếu ta muốn dùng dấu cộng `Vector sum = v1 + v2;` thì làm thế nào?\n",
    "\n",
    "--> **Operator Overload**: Định nghĩa lại toán tử để dùng được cho kiểu dữ liệu khác.\n",
    "\n",
    "**Limitations on operator overloading**:\n",
    "1. Hầu hết các toán tử trong C++ có thể được overloaded\n",
    "    + Trừ: `conditional (?:)`, `sizeof`, `scope (::)`, `member selector (.)`, và `member pointer selector (.*)`\n",
    "2. Chỉ có thể overload các toán tử đã có -> không thể tạo ra toán tử mới hay đổi tên toán tử đang tồn tại\n",
    "    + Ví dụ: Không thể tạo toán tử `**` để thực hiện luỹ thừa (exponents)\n",
    "3. Ít nhất một toán hạng của overloaded operator phải có kiểu người dùng định nghĩa.\n",
    "    + Ví dụ: không thể overload toán tử cộng làm việc với một số nguyên và một số thực, nhưng có thể overload toán tử cộng cho một số nguyên và một `Mystring`\n",
    "4. Không thể thay đổi số lượng toán hạng của toán tử\n",
    "5. Tất cả toán tử cần giữ thứ tự ưu tiên (precedence) và tính kết hợp (associativity)\n",
    "    + Ví dụ: Có nhiều người mới lập trình thử overload toán tử bitwise XOR (`^`) để thực hiện luỹ thừa. Nhưng trong C++, toán tử `operator^` có cấp độ ưu tiên thấp hơn các toán tử đại số --> biểu thức thực hiện không đúng.\n",
    "    + Ở toán cơ bản: 4 + 3 ^ 2 = 4 + (3 ^ 2) = 4 + 9 = 13.\n",
    "    + Ở C++: 4 + 3 ^ 2 = (4 + 3) ^ 2 = 7 ^ 2 = 49 \n",
    "\n",
    "Ref: [https://www.learncpp.com/](https://www.learncpp.com/), Chapter 9."
   ]
  },
  {
   "cell_type": "code",
   "execution_count": 47,
   "metadata": {},
   "outputs": [
    {
     "name": "stdout",
     "output_type": "stream",
     "text": [
      "Overwriting add_overload.cpp\n"
     ]
    }
   ],
   "source": [
    "%%file add_overload.cpp\n",
    "\n",
    "#include<iostream>\n",
    "\n",
    "//Ví dụ định nghĩa phép cộng\n",
    "class Vector{\n",
    "    double x;\n",
    "    double y;\n",
    "    \n",
    "    public:\n",
    "        Vector (double _x = 0.0, double _y = 0.0): x(_x), y(_y){}\n",
    "        \n",
    "        //Nếu đổi thành trả về con trỏ Vector* operator+\n",
    "        // thì sau có thể viết v1+v2+v3 không?\n",
    "        Vector operator+(const Vector& other) const{\n",
    "            Vector sum ( x + other.x, y + other.y);\n",
    "            return sum;\n",
    "        }\n",
    "        \n",
    "        double getX(){\n",
    "            return x;\n",
    "        }\n",
    "        double getY(){\n",
    "            return y;\n",
    "        }\n",
    "};\n",
    "\n",
    "int main()\n",
    "{\n",
    "    Vector v1 (1.0, 2.0);\n",
    "    Vector v2 (2.0, 3.0);\n",
    "    Vector v3 (3.0, 4.0);\n",
    "    Vector sum = v1 + v2 + v3;\n",
    "    std::cout << \"sum = Vector(\" << sum.getX() << \", \" << sum.getY() << \")\" << std::endl;\n",
    "    \n",
    "    return 0;\n",
    "}"
   ]
  },
  {
   "cell_type": "code",
   "execution_count": 46,
   "metadata": {},
   "outputs": [
    {
     "name": "stdout",
     "output_type": "stream",
     "text": [
      "Overwriting cout_overload.cpp\n"
     ]
    }
   ],
   "source": [
    "%%file cout_overload.cpp\n",
    "\n",
    "#include<iostream>\n",
    "\n",
    "//Ví dụ định nghĩa lại toán tử <<\n",
    "\n",
    "class Vector{\n",
    "    double x;\n",
    "    double y;\n",
    "    \n",
    "    public:\n",
    "        Vector (double _x = 0.0, double _y = 0.0): x(_x), y(_y){}\n",
    "        \n",
    "        Vector operator+(const Vector& other) const{\n",
    "            Vector sum ( x + other.x, y + other.y);\n",
    "            return sum;\n",
    "        }\n",
    "        \n",
    "        //Overload using friend function\n",
    "        friend std::ostream& operator<<(std::ostream &out, const Vector &v);\n",
    "};\n",
    "\n",
    "std::ostream& operator<< (std::ostream &out, const Vector &v){\n",
    "    //Since operator<< is a friend of the Vector class, we can access Vector's members directly\n",
    "    out << \"Vector(\" << v.x << \", \" << v.y << \")\";\n",
    "    return out;\n",
    "}\n",
    "\n",
    "int main()\n",
    "{\n",
    "    Vector v1 (1.0, 2.0);\n",
    "    Vector v2 (2.0, 3.0);\n",
    "    Vector v3 (3.0, 4.0);\n",
    "    Vector sum = v1 + v2 + v3;\n",
    "    \n",
    "    //Now print vector sum!\n",
    "    std::cout << sum << std::endl;\n",
    "    \n",
    "    return 0;\n",
    "}"
   ]
  },
  {
   "cell_type": "markdown",
   "metadata": {},
   "source": [
    "#### Con trỏ `this` của đối tượng\n",
    "\n",
    "Bên trong hàm thành viên, từ khoá `this` cho ta con trỏ tới đối tượng hiện đang chạy hàm thành viên đó.\n"
   ]
  },
  {
   "cell_type": "code",
   "execution_count": null,
   "metadata": {},
   "outputs": [],
   "source": [
    "class Vector{\n",
    "    double x;\n",
    "    double y;\n",
    "    public:\n",
    "        Vector(double x = 0.0, double y = 0.0){\n",
    "            this ->x = x; this->y = y;\n",
    "        }\n",
    "        bool equals(const Vector& other){\n",
    "            if (this == &other) return true;\n",
    "            return (x == other.x && y == other.y);\n",
    "        }\n",
    "        void print() const{\n",
    "            cout << \"(\" << this->x << \", \" << this->y << \")\";\n",
    "        }\n",
    "};"
   ]
  },
  {
   "cell_type": "markdown",
   "metadata": {},
   "source": [
    "#### Tách cài đặt hàm ra khỏi định nghĩa class/struct"
   ]
  },
  {
   "cell_type": "code",
   "execution_count": 52,
   "metadata": {},
   "outputs": [],
   "source": [
    "// Thay vì\n",
    "class Calc\n",
    "{\n",
    "private:\n",
    "    int m_value;\n",
    " \n",
    "public:\n",
    "    Calc(int value=0): m_value(value) {}\n",
    " \n",
    "    Calc& add(int value) { m_value  += value;  return *this; }\n",
    "    Calc& sub(int value) { m_value -= value;  return *this; }\n",
    "    Calc& mult(int value) { m_value *= value;  return *this; }\n",
    " \n",
    "    int getValue() { return m_value ; }\n",
    "};\n"
   ]
  },
  {
   "cell_type": "code",
   "execution_count": null,
   "metadata": {},
   "outputs": [],
   "source": [
    "//Trở thành\n",
    "class Calc\n",
    "{\n",
    "private:\n",
    "    int m_value;\n",
    " \n",
    "public:\n",
    "    //Khai báo các hàm thành viên ở bên trong khối {}\n",
    "    Calc(int value=0);\n",
    " \n",
    "    Calc& add(int value);\n",
    "    Calc& sub(int value);\n",
    "    Calc& mult(int value);\n",
    " \n",
    "    int getValue() { return m_value; }\n",
    "};\n",
    "\n",
    "// Định nghĩa các hàm thành viên đặt bên ngoài khối {}\n",
    "//Calc:: để phân biệt với cài đặt của các hàm thông thường\n",
    "Calc::Calc(int value): m_value(value)\n",
    "{\n",
    "}\n",
    " \n",
    "Calc& Calc::add(int value)\n",
    "{\n",
    "    m_value += value;\n",
    "    return *this;\n",
    "}\n",
    " \n",
    "Calc& Calc::sub(int value) \n",
    "{\n",
    "    m_value -= value;\n",
    "    return *this;\n",
    "}\n",
    " \n",
    "Calc& Calc::mult(int value)\n",
    "{\n",
    "    m_value *= value;\n",
    "    return *this;\n",
    "}"
   ]
  },
  {
   "cell_type": "markdown",
   "metadata": {},
   "source": [
    "Chia định nghĩa lớp -> header files (.h) và định nghĩa của các hàm thành viên vào một .cpp file\n",
    "\n",
    "Lợi ích:\n",
    "- Có thể tái sử dụng cài đặt cấu trúc lớp trong nhiều dự án khác nhau\n",
    "- Che chi tiết cài đặt\n"
   ]
  },
  {
   "cell_type": "code",
   "execution_count": 58,
   "metadata": {},
   "outputs": [
    {
     "name": "stdout",
     "output_type": "stream",
     "text": [
      "Overwriting Calc.h\n"
     ]
    }
   ],
   "source": [
    "%%file Calc.h\n",
    "\n",
    "#ifndef CALC_H\n",
    "#define CALC_H\n",
    "\n",
    "class Calc\n",
    "{\n",
    "private:\n",
    "    int m_value;\n",
    " \n",
    "public:\n",
    "    //Khai báo các hàm thành viên ở bên trong khối {}\n",
    "    Calc(int value=0);\n",
    " \n",
    "    Calc& add(int value);\n",
    "    Calc& sub(int value);\n",
    "    Calc& mult(int value);\n",
    " \n",
    "    int getValue() { return m_value; }\n",
    "};\n",
    "\n",
    "#endif"
   ]
  },
  {
   "cell_type": "code",
   "execution_count": 55,
   "metadata": {},
   "outputs": [
    {
     "name": "stdout",
     "output_type": "stream",
     "text": [
      "Overwriting Calc.cpp\n"
     ]
    }
   ],
   "source": [
    "%%file Calc.cpp\n",
    "\n",
    "#include \"Calc.h\"\n",
    "\n",
    "Calc::Calc(int value): m_value(value)\n",
    "{\n",
    "}\n",
    " \n",
    "Calc& Calc::add(int value)\n",
    "{\n",
    "    m_value += value;\n",
    "    return *this;\n",
    "}\n",
    " \n",
    "Calc& Calc::sub(int value) \n",
    "{\n",
    "    m_value -= value;\n",
    "    return *this;\n",
    "}\n",
    " \n",
    "Calc& Calc::mult(int value)\n",
    "{\n",
    "    m_value *= value;\n",
    "    return *this;\n",
    "}\n"
   ]
  },
  {
   "cell_type": "code",
   "execution_count": 62,
   "metadata": {},
   "outputs": [
    {
     "name": "stdout",
     "output_type": "stream",
     "text": [
      "Overwriting calc_program.cpp\n"
     ]
    }
   ],
   "source": [
    "%%file calc_program.cpp\n",
    "\n",
    "#include<iostream>\n",
    "#include \"Calc.h\"\n",
    "\n",
    "using namespace std;\n",
    "\n",
    "int main()\n",
    "{\n",
    "    Calc a(2);\n",
    "    cout << a.mult(5).add(3).getValue() << endl;\n",
    "    return 0;\n",
    "}"
   ]
  },
  {
   "cell_type": "markdown",
   "metadata": {},
   "source": [
    "###### How to compile?\n",
    "\n",
    "`g++ Calc.cpp calc_program.cpp`\n"
   ]
  },
  {
   "cell_type": "markdown",
   "metadata": {},
   "source": [
    "## Next week\n",
    "\n",
    "- Template classes\n",
    "- Virtual classes\n",
    "- Function templates\n",
    "- Virtual functions\n",
    "- Exceptions"
   ]
  },
  {
   "cell_type": "code",
   "execution_count": null,
   "metadata": {},
   "outputs": [],
   "source": []
  }
 ],
 "metadata": {
  "kernelspec": {
   "display_name": "C++11",
   "language": "C++11",
   "name": "xeus-cling-cpp11"
  },
  "language_info": {
   "codemirror_mode": "text/x-c++src",
   "file_extension": ".cpp",
   "mimetype": "text/x-c++src",
   "name": "c++",
   "version": "-std=c++11"
  }
 },
 "nbformat": 4,
 "nbformat_minor": 2
}
