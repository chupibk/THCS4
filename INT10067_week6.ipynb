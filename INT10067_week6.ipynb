{
 "cells": [
  {
   "cell_type": "markdown",
   "metadata": {},
   "source": [
    "# TIN HỌC CƠ SỞ 4 (IT1006 7)\n",
    "\n",
    "#### Diep Nguyen, Ph.D. (ngocdiep@vnu.edu.vn)\n",
    "\n",
    "## https://github.com/chupibk/THCS4"
   ]
  },
  {
   "cell_type": "markdown",
   "metadata": {},
   "source": [
    "## Ôn lại tuần 5: Mảng\n",
    "\n",
    "- Một mảng là một dãy các giá trị **cùng kiểu** (element) được đánh **chỉ mục** (index).\n",
    "- Mảng tĩnh: số lượng phần tử không đổi\n",
    "    + phải có giá trị `const` ở compile-time\n",
    "    + Chú ý khi sao chép, truyền mảng cho hàm\n",
    "- Mảng động: `vector`\n"
   ]
  },
  {
   "cell_type": "markdown",
   "metadata": {},
   "source": [
    "## Tuần 6 (11/10/2018) Nhập xuất với tệp\n",
    "\n",
    "- Thư viện **fstream**\n",
    "\n",
    "```\n",
    "#include<iostream>\n",
    "#include<fstream>\n",
    "``` "
   ]
  },
  {
   "cell_type": "markdown",
   "metadata": {},
   "source": [
    "## Tệp là gì?\n",
    "\n",
    "- **Tệp**, hay **tập tin (file)** là một tập hợp các thông tin ghi trên bộ nhớ ngoài, tạo thành một đơn vị lưu trữ do hệ điều hành quản lý.\n",
    "- Mỗi tệp có một tên để truy cập\n",
    "    + Ví dụ: alarm.wav, dog.jpeg, input.txt, ...\n",
    "- Đơn vị nhỏ nhất của tệp là **`byte`**.\n",
    "\n",
    "- **Thư mục (folder)** là một phân vùng hình thức trên bộ nhớ ngoài để việc lưu trữ các tập tin có hệ thống.\n",
    "- Thư mục có thể chứa tập tin và các thư mục phụ (**subfolder**).\n",
    "- Ví dụ: liệt kê các file trong thư mục hiện tại\n",
    "\n",
    "```\n",
    "chupi week6$tree .\n",
    ".\n",
    "├── INT10067_week6.ipynb\n",
    "├── csc1201_lecture13.ppt\n",
    "└── lec07_input_output.pdf\n",
    "```"
   ]
  },
  {
   "cell_type": "markdown",
   "metadata": {},
   "source": [
    "## Đọc và ghi tệp với C++\n",
    "\n",
    "Thư viện `fstream` cung cấp:\n",
    "\n",
    "- **ofstream**: ghi ra file\n",
    "- **ifstream**: đọc từ file\n",
    "- **fstream**: đọc và ghi file\n",
    "\n"
   ]
  },
  {
   "cell_type": "code",
   "execution_count": 78,
   "metadata": {},
   "outputs": [
    {
     "name": "stdout",
     "output_type": "stream",
     "text": [
      "Overwriting fileout_example.cpp\n"
     ]
    }
   ],
   "source": [
    "%%file fileout_example.cpp\n",
    "\n",
    "#include<iostream>\n",
    "#include<fstream>\n",
    "\n",
    "using namespace std;\n",
    "\n",
    "int main()\n",
    "{\n",
    "    //Construct an ofstream object\n",
    "    ofstream myfile;\n",
    "    //Connect it to a file\n",
    "    //and set the mode of file operation\n",
    "    //default ios::out (write)\n",
    "    myfile.open(\"io_example.txt\");\n",
    "    //Write to file\n",
    "    myfile << \"Hello chupi.\\n\";\n",
    "    //Disconnect to the file and free the ofstream object\n",
    "    myfile.close();\n",
    "    \n",
    "    return 0;\n",
    "}"
   ]
  },
  {
   "cell_type": "code",
   "execution_count": 83,
   "metadata": {},
   "outputs": [
    {
     "name": "stdout",
     "output_type": "stream",
     "text": [
      "Overwriting filein_example.cpp\n"
     ]
    }
   ],
   "source": [
    "%%file filein_example.cpp\n",
    "\n",
    "#include<iostream>\n",
    "#include<fstream>\n",
    "\n",
    "using namespace std;\n",
    "\n",
    "int main()\n",
    "{\n",
    "    //Construct an ifstream object\n",
    "    ifstream myfile;\n",
    "    // Connect to a file\n",
    "    //and set the mode of file operation\n",
    "    //default ios::in (read)\n",
    "    myfile.open(\"io_example.txt\");\n",
    "\n",
    "    // Read a line from file\n",
    "    \n",
    "    string line;\n",
    "    getline(myfile, line);\n",
    "    cout << line << endl;\n",
    "    // Disconnect and free the ifstream object\n",
    "    myfile.close();\n",
    "    \n",
    "    return 0;\n",
    "}\n"
   ]
  },
  {
   "cell_type": "markdown",
   "metadata": {},
   "source": [
    "## Các bước khi làm việc với tệp\n",
    "\n",
    "#### 1. Khai báo và mở tệp để đọc/ghi\n",
    "```\n",
    "stream_type variable_name;\n",
    "variable_name.open(path_to_file);\n",
    "```\n",
    "\n",
    "or:\n",
    "\n",
    "```\n",
    "stream_type variable_name(path_to_file);\n",
    "```\n",
    "\n",
    "#### 2. Kiểm tra mở tệp thành công hay không\n",
    "\n",
    "```\n",
    "if(variable_name){\n",
    "    // code nếu thao tác tệp thành công\n",
    "} else {\n",
    "    // Nếu thao tác tệp thất bại\n",
    "}\n",
    "```\n",
    "\n",
    "or:\n",
    "\n",
    "```\n",
    "if(variable_name.is_open()){\n",
    "    // code nếu thao tác tệp thành công\n",
    "} else {\n",
    "    // Nếu thao tác tệp thất bại\n",
    "}\n",
    "```\n",
    "\n",
    "#### 3. Đọc/ghi ra file\n",
    "- **Đọc**:\n",
    "    + Dùng `>>` (có format)\n",
    "    + Đọc cả dòng `getline()`\n",
    "    + Dùng `get()` cho một kí tự\n",
    "    + Dùng `read()` khi làm việc với tệp nhị phân (binary file)\n",
    "- **Ghi**:\n",
    "    + Dùng `<<`\n",
    "    + Dùng `write()` khi làm việc với tệp nhị phân\n",
    "\n",
    "\n",
    "#### 4. Đóng file\n",
    "\n",
    "```\n",
    "variable_name.close();\n",
    "```"
   ]
  },
  {
   "cell_type": "code",
   "execution_count": 85,
   "metadata": {},
   "outputs": [
    {
     "name": "stdout",
     "output_type": "stream",
     "text": [
      "Overwriting fileio_example.cpp\n"
     ]
    }
   ],
   "source": [
    "%%file fileio_example.cpp\n",
    "\n",
    "//Điều gì xảy ra khi chưa đóng ofstream nhưng đã đọc (ifstream)?\n",
    "\n",
    "#include<iostream>\n",
    "#include<fstream>\n",
    "\n",
    "using namespace std;\n",
    "\n",
    "int main()\n",
    "{\n",
    "    string file_name = \"forget_close.txt\";\n",
    "    \n",
    "    //Ghi ra file\n",
    "    ofstream outFile(file_name);\n",
    "    outFile << \"Chupi 12 5.6\\n\";\n",
    "    //Quên không đóng file\n",
    "    //outFile.close();\n",
    "    \n",
    "    //Đọc file\n",
    "    ifstream inFile(file_name);\n",
    "    string line;\n",
    "    getline(inFile, line);\n",
    "    cout << \"Line read: \" << line << endl;\n",
    "    \n",
    "    //Quên không đóng file\n",
    "    //inFile.close();\n",
    "    \n",
    "    return 0;\n",
    "}"
   ]
  },
  {
   "cell_type": "code",
   "execution_count": 21,
   "metadata": {},
   "outputs": [
    {
     "name": "stdout",
     "output_type": "stream",
     "text": [
      "Overwriting formatted_read.cpp\n"
     ]
    }
   ],
   "source": [
    "%%file formatted_read.cpp\n",
    "\n",
    "// Đọc với dữ liệu được formatted\n",
    "\n",
    "#include<iostream>\n",
    "#include<fstream>\n",
    "\n",
    "using namespace std;\n",
    "\n",
    "int main()\n",
    "{\n",
    "    string file_name = \"io_test.txt\";\n",
    "    \n",
    "    \n",
    "    //Đọc file\n",
    "    ifstream inFile(file_name);\n",
    "    string name;\n",
    "    int age;\n",
    "    float score;\n",
    "    inFile >> name >> age >> score;\n",
    "    \n",
    "    cout << \"Name: \" << name << endl;\n",
    "    cout << \"Age: \" << age << endl;\n",
    "    cout << \"Score: \" << score << endl;\n",
    "    \n",
    "    inFile.close();\n",
    "    \n",
    "    return 0;\n",
    "}"
   ]
  },
  {
   "cell_type": "code",
   "execution_count": 35,
   "metadata": {},
   "outputs": [
    {
     "name": "stdout",
     "output_type": "stream",
     "text": [
      "Writing read_nonexistent.cpp\n"
     ]
    }
   ],
   "source": [
    "%%file read_nonexistent.cpp\n",
    "\n",
    "//Đọc file không tồn tại?\n",
    "\n",
    "#include<iostream>\n",
    "#include<fstream>\n",
    "\n",
    "using namespace std;\n",
    "\n",
    "int main()\n",
    "{\n",
    "    string file_name = \"non_exist.txt\";\n",
    "    ifstream inFile(file_name);\n",
    "    \n",
    "    string line;\n",
    "    getline(inFile, line);\n",
    "    cout << \"Line read: \" << line << endl;\n",
    "    \n",
    "    inFile.close();\n",
    "    \n",
    "    return 0;\n",
    "}"
   ]
  },
  {
   "cell_type": "code",
   "execution_count": 37,
   "metadata": {},
   "outputs": [
    {
     "name": "stdout",
     "output_type": "stream",
     "text": [
      "Overwriting read_empty.cpp\n"
     ]
    }
   ],
   "source": [
    "%%file read_empty.cpp\n",
    "\n",
    "//Đọc file trống hay đọc folder?\n",
    "\n",
    "#include<iostream>\n",
    "#include<fstream>\n",
    "\n",
    "using namespace std;\n",
    "\n",
    "int main()\n",
    "{\n",
    "    //string file_name = \"empty_file.txt\";\n",
    "    //folder\n",
    "    string file_name = \".\";\n",
    "    \n",
    "    ifstream inFile(file_name);\n",
    "    \n",
    "    string line;\n",
    "    getline(inFile, line);\n",
    "    cout << \"Line read: \" << line << endl;\n",
    "    \n",
    "    inFile.close();\n",
    "    \n",
    "    return 0;\n",
    "}"
   ]
  },
  {
   "cell_type": "markdown",
   "metadata": {},
   "source": [
    "### NOTE:\n",
    "\n",
    "Đọc file không tồn tại, file trống hay đọc folder, nếu không kiểm tra trước khi đọc, đều không có kết quả trả về."
   ]
  },
  {
   "cell_type": "code",
   "execution_count": 86,
   "metadata": {},
   "outputs": [
    {
     "name": "stdout",
     "output_type": "stream",
     "text": [
      "Overwriting read_check.cpp\n"
     ]
    }
   ],
   "source": [
    "%%file read_check.cpp\n",
    "\n",
    "// Kiểm tra trước khi đọc file\n",
    "\n",
    "#include<iostream>\n",
    "#include<fstream>\n",
    "#include<cstdlib> //for exit()\n",
    "\n",
    "using namespace std;\n",
    "\n",
    "int main()\n",
    "{\n",
    "    string file_name = \"non_exist.txt\";\n",
    "    \n",
    "    ifstream inFile(file_name);\n",
    "    \n",
    "    if(!inFile.is_open())\n",
    "    {\n",
    "        perror((\"Error while opening file \" + file_name).c_str());\n",
    "        exit(1);\n",
    "    }\n",
    "        \n",
    "    \n",
    "    string line;\n",
    "    getline(inFile, line);\n",
    "    cout << \"Line read: \" << line << endl;\n",
    "\n",
    "    inFile.close();\n",
    "    \n",
    "    return 0;\n",
    "}"
   ]
  },
  {
   "cell_type": "code",
   "execution_count": 87,
   "metadata": {},
   "outputs": [
    {
     "name": "stdout",
     "output_type": "stream",
     "text": [
      "Overwriting read_multiple_lines.cpp\n"
     ]
    }
   ],
   "source": [
    "%%file read_multiple_lines.cpp\n",
    "\n",
    "// Đọc nhiều lines trong file cho đến khi hết (eof)\n",
    "\n",
    "#include<iostream>\n",
    "#include<fstream>\n",
    "#include<cstdlib>\n",
    "\n",
    "using namespace std;\n",
    "\n",
    "int main()\n",
    "{\n",
    "    string file_name = \"multiple_lines.txt\";\n",
    "    \n",
    "    ifstream inFile(file_name);\n",
    "    \n",
    "    if(!inFile){\n",
    "        perror((\"Error while opening file \" + file_name).c_str());\n",
    "        exit(1);\n",
    "    }\n",
    "    \n",
    "    string line;\n",
    "    while(getline(inFile, line)){\n",
    "        cout << \"Line read: \" << line << endl;\n",
    "    }\n",
    "\n",
    "//     //or\n",
    "//     while(!inFile.eof()){\n",
    "//         getline(inFile, line);\n",
    "//         //Kiểm tra lỗi đọc dòng\n",
    "//         if(inFile){\n",
    "//             cout << \"Line read: \" << line << endl;\n",
    "//         }\n",
    "//     }\n",
    "    inFile.close();\n",
    "    \n",
    "    return 0;\n",
    "}"
   ]
  },
  {
   "cell_type": "code",
   "execution_count": 111,
   "metadata": {},
   "outputs": [
    {
     "name": "stdout",
     "output_type": "stream",
     "text": [
      "Overwriting read_sort_write.cpp\n"
     ]
    }
   ],
   "source": [
    "%%file read_sort_write.cpp\n",
    "\n",
    "//Đọc số, sắp xếp và ghi ra tệp\n",
    "#include<iostream>\n",
    "#include<fstream>\n",
    "#include<algorithm>\n",
    "\n",
    "using namespace std;\n",
    "\n",
    "int main()\n",
    "{\n",
    "    //read data\n",
    "    ifstream filein(\"number1.txt\");\n",
    "    \n",
    "    double a[10];\n",
    "    int n = 0;\n",
    "    //&& n < 10 --> read only ten numbers\n",
    "    while(!filein.eof() && n < 10){\n",
    "        double value;\n",
    "        //Điều gì xảy ra nếu có chuỗi kí tự, thay vì số?\n",
    "        filein >> value;\n",
    "        //Bỏ qua chuỗi kí tự - fixed bug\n",
    "        if (filein.fail()){\n",
    "            filein.clear();\n",
    "            filein.ignore(1, ' ');\n",
    "        } else {\n",
    "            cout << \"Read \" << n + 1 << \": \" << value << \"\\n\";\n",
    "            a[n] = value;\n",
    "            n++;\n",
    "        }\n",
    "        \n",
    "    }\n",
    "    filein.close();\n",
    "    \n",
    "    //Sort and write\n",
    "    ofstream fileout(\"number1_sorted.txt\");\n",
    "    sort(a, a+n);\n",
    "    for(int i = 0; i < n; i++)\n",
    "        fileout << a[i] << \" \";\n",
    "    fileout << endl;\n",
    "    fileout.close();\n",
    "    \n",
    "    return 0;\n",
    "}"
   ]
  },
  {
   "cell_type": "markdown",
   "metadata": {},
   "source": [
    "## Chế độ mở tệp\n",
    "\n",
    "`open(filename, mode)`\n",
    "\n",
    "|Mode    | Meaning                  |\n",
    "| :------|:-------------------------|\n",
    "|ios::in | Open for input operations. (Default of `ifstream`)|\n",
    "|ios::out|Open for output operations. (Default of `ofstream`)|\n",
    "|ios::binary| Open in binary mode.  |\n",
    "| ios::ate  |Set the initial position at the end of the file. If this flag is not set, the initial position is the beginning of the file.|\n",
    "|ios::app    |All output operations are performed at the end of the file, appending the content to the current content of the file.|\n",
    "|ios::trunc|If the file is opened for output operations and it already existed, its previous content is deleted and replaced by the new one.|"
   ]
  },
  {
   "cell_type": "code",
   "execution_count": 73,
   "metadata": {},
   "outputs": [
    {
     "name": "stdout",
     "output_type": "stream",
     "text": [
      "Overwriting write_append.cpp\n"
     ]
    }
   ],
   "source": [
    "%%file write_append.cpp\n",
    "\n",
    "//Mở file để ghi tiếp vào\n",
    "#include<iostream>\n",
    "#include<fstream>\n",
    "\n",
    "using namespace std;\n",
    "\n",
    "int main()\n",
    "{\n",
    "    //Nếu không có ios::app?\n",
    "    ofstream fileout(\"append.txt\", ios::app);\n",
    "    fileout << \"Life continues.\\n\";\n",
    "    fileout.close();\n",
    "    return 0;\n",
    "}"
   ]
  },
  {
   "cell_type": "markdown",
   "metadata": {},
   "source": [
    "## Đọc và ghi file cùng lúc dùng fstream\n",
    "\n",
    "#### Note #1: \n",
    "Mặc dù `fstream` có khả năng đọc và ghi file cùng lúc (*almost*), để chuyển (switch) giữa hai chế độ (đọc hay ghi) thì bắt buộc phải có một phép toán (operation) sửa vị trí file (file position) (e.g., a `seek`).\n",
    "\n",
    "Để *switch* tại đúng vị trí hiện tại:\n",
    "\n",
    "```\n",
    "// assume iofile is an object of type fstream\n",
    "iofile.seekg(iofile.tellg(), ios::beg); //(1)\n",
    "//seek to current file position\n",
    "```\n",
    "\n",
    "Các cờ của `seek`:\n",
    "\n",
    "ios seek flag | Meaning\n",
    "--------------| -------\n",
    "beg|The offset is relative to the beginning of the file (default)\n",
    "cur| The offset is relative to the current location of the file pointer\n",
    "end|The offset is relative to the end of the file\n",
    "\n",
    "\n",
    "- Chú ý: Mặc dù có thể thay (1) bởi `iofile.seekg(0, ios::cur)`, nhiều chương trình biên dịch tối ưu hoá theo (1).\n",
    "\n",
    "#### Note #2:\n",
    "\n",
    "`ifstream` cho phép dùng `while(inf)` để biết còn dữ liệu đọc tiếp hay không - cách này không dùng được với `fstream`."
   ]
  },
  {
   "cell_type": "code",
   "execution_count": 100,
   "metadata": {},
   "outputs": [
    {
     "name": "stdout",
     "output_type": "stream",
     "text": [
      "Overwriting fstream_io.cpp\n"
     ]
    }
   ],
   "source": [
    "%%file fstream_io.cpp\n",
    "\n",
    "//Viết chương trình mở 1 file, đọc nội dung của nó\n",
    "// và thay đổi tất cả các chữ cái nguyên âm thành kí tự '#'\n",
    "\n",
    "#include<iostream>\n",
    "#include<fstream>\n",
    "#include<cstdlib>\n",
    "\n",
    "int main()\n",
    "{\n",
    "    using namespace std;\n",
    "    \n",
    "    //open for read and write\n",
    "    fstream iofile(\"sample.txt\", ios::in | ios::out);\n",
    "    \n",
    "    //check if able to open iofile\n",
    "    if(!iofile){\n",
    "        cerr << \"sample.dat could not be opened!\" << endl;\n",
    "        exit(1);\n",
    "    }\n",
    "    \n",
    "    char chChar;\n",
    "    \n",
    "    //while there's still data to process\n",
    "    while(iofile.get(chChar))\n",
    "    {\n",
    "        switch(chChar)\n",
    "        {\n",
    "            case 'a':\n",
    "            case 'e':\n",
    "            case 'i':\n",
    "            case 'o':\n",
    "            case 'u':\n",
    "            case 'A':\n",
    "            case 'E':\n",
    "            case 'I':\n",
    "            case 'O':\n",
    "            case 'U':\n",
    "                //backup one character\n",
    "                iofile.seekg(-1, ios::cur);\n",
    "                //already done a seek -> can write now\n",
    "                iofile << '#';\n",
    "                //now back to read mode\n",
    "                iofile.seekg(iofile.tellg(), ios::beg);\n",
    "                break;\n",
    "        }\n",
    "    }\n",
    "    return 0;\n",
    "}"
   ]
  },
  {
   "cell_type": "code",
   "execution_count": null,
   "metadata": {},
   "outputs": [],
   "source": []
  }
 ],
 "metadata": {
  "kernelspec": {
   "display_name": "C++11",
   "language": "C++11",
   "name": "xeus-cling-cpp11"
  },
  "language_info": {
   "codemirror_mode": "text/x-c++src",
   "file_extension": ".cpp",
   "mimetype": "text/x-c++src",
   "name": "c++",
   "version": "-std=c++11"
  }
 },
 "nbformat": 4,
 "nbformat_minor": 2
}
