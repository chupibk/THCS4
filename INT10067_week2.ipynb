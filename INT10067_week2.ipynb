{
 "cells": [
  {
   "cell_type": "markdown",
   "metadata": {},
   "source": [
    "# TIN HỌC CƠ SỞ 4 (IT1006 7)\n",
    " #### Diep Nguyen, Ph.D. (ngocdiep@vnu.edu.vn)"
   ]
  },
  {
   "cell_type": "markdown",
   "metadata": {},
   "source": [
    "## Ôn lại tuần 1 (30/8/2018)\n",
    "\n",
    "- Chương trình (a program) cần một hàm `main()` để chạy\n",
    "- Để soạn và biên dịch một chương trình:\n",
    "    * Dùng môi trường riêng lẻ:\n",
    "        + Editor để soạn thảo (như NotePad, Atom, Vim, Emacs,...)\n",
    "        + Compiler để biên dịch (như GNU C++, Dev-C++, MinGW-W64 \"Cygwin\", ...)\n",
    "    * Dùng môi trường tích hợp (IDE): Code::Blocks, Dev-C++, Visual Studio, ...\n",
    "    * Dùng môi trường tích hợp online: cpp.sh, ...\n"
   ]
  },
  {
   "cell_type": "code",
   "execution_count": 7,
   "metadata": {},
   "outputs": [
    {
     "name": "stdout",
     "output_type": "stream",
     "text": [
      "Writing template_program.cpp\n"
     ]
    }
   ],
   "source": [
    "%%file template_program.cpp\n",
    "\n",
    "// Khai bao thu vien\n",
    "#include <iostream>\n",
    "\n",
    "// Khai bao khong gian ten\n",
    "using namespace std;\n",
    "\n",
    "// Viet ham main()\n",
    "int main()\n",
    "{\n",
    "    // viet cac lenh trong chuong trinh\n",
    "    \n",
    "    // moi ham can mot \"return\" hop ly\n",
    "    return 0;\n",
    "    \n",
    "}"
   ]
  },
  {
   "cell_type": "code",
   "execution_count": 10,
   "metadata": {},
   "outputs": [
    {
     "name": "stdout",
     "output_type": "stream",
     "text": [
      "Overwriting hello_world.cpp\n"
     ]
    }
   ],
   "source": [
    "%%file hello_world.cpp\n",
    "\n",
    "#include <iostream>\n",
    "\n",
    "using namespace std;\n",
    "\n",
    "int main()\n",
    "{\n",
    "    // Xuat chuoi \"Hello, World!!!\" ra man hinh\n",
    "    // (dong du lieu chuan)\n",
    "    cout << \"Hello, World!!!\" << \"\\n\";\n",
    "    return 0;\n",
    "}"
   ]
  },
  {
   "cell_type": "markdown",
   "metadata": {},
   "source": [
    "## Tuần 2 (13/9/2018)\n",
    "\n",
    "- Biến\n",
    "- Kiểu dữ liệu\n",
    "- Phép toán\n",
    "- Nhập xuất chuẩn `cout` & `cin`\n"
   ]
  },
  {
   "cell_type": "markdown",
   "metadata": {},
   "source": [
    "## `cout` & `cin`\n",
    "\n",
    "`cout << ` để in ra màn hình.\n",
    "\n",
    "Nếu muốn nhập dữ liệu vào?\n",
    "\n",
    "`cin >>` ?\n",
    "\n",
    "- Nhập dữ liệu từ bàn phím vào\n",
    "- Giá trị nhập ghi vào đâu?\n",
    "\n",
    "---> Đối tượng giữ giá trị này: Biến (Variables)\n",
    "\n",
    "`cin >> var`\n",
    "\n",
    "Trong C++, mỗi biến cần được định nghĩa với một tên (name)\n",
    "và một kiểu (type) trong các kiểu cơ bản."
   ]
  },
  {
   "cell_type": "markdown",
   "metadata": {},
   "source": [
    "## Định nghĩa một biến mới\n",
    "\n",
    "`type_keyword var_name;`\n",
    "\n",
    "Ví dụ:\n",
    "\n",
    "* `int age;`\n",
    "* `float score;`\n",
    "* `string name;`"
   ]
  },
  {
   "cell_type": "code",
   "execution_count": 14,
   "metadata": {},
   "outputs": [
    {
     "name": "stdout",
     "output_type": "stream",
     "text": [
      "Overwriting cin_example.cpp\n"
     ]
    }
   ],
   "source": [
    "%%file cin_example.cpp\n",
    "\n",
    "// Yêu cầu: Người dùng nhập tên và tuổi từ bàn phím\n",
    "\n",
    "#include <iostream>\n",
    "\n",
    "using namespace std;\n",
    "\n",
    "int main()\n",
    "{\n",
    "    int age;\n",
    "    string name;\n",
    "    \n",
    "    cout << \"Enter your name: \";\n",
    "    // Lưu giá trị vào biến name\n",
    "    cin >> name;\n",
    "    \n",
    "    cout << \"Enter your age: \";\n",
    "    // Lưu giá trị vào biến age\n",
    "    cin >> age;\n",
    "    \n",
    "    // In ra màn hình\n",
    "    cout << \"Hello \" << age << \" year-old \" << name << \"!!! \\n\";\n",
    "    \n",
    "    return 0;\n",
    "}"
   ]
  },
  {
   "cell_type": "markdown",
   "metadata": {},
   "source": [
    "## Đặt tên biến như thế nào?\n",
    "\n",
    "- Không được dùng các từ khoá của C++, như `int`, `include`, `using`, ...\n",
    "- Cũng không nên dùng tên trùng với các thư viện hay dùng của C++\n",
    "    + ví dụ: `swap`, `max`, ...\n",
    "- Bắt đầu bằng chữ cái hoặc dấu gạch dưới (`_`)  --> không bắt đầu bằng số\n",
    "- Có thể có chữ cái [a-zA-Z], chữ số [0-9], dấu gạch dưới (`_`)\n",
    "- Nên chọn tên có ý nghĩa\n",
    "- Chỉ dùng tên viết tắt khi ai cũng hiểu\n",
    "    + ví dụ: Toạ độ `x`, `y`; Biến đếm `i`, `j`, `k`; \n",
    "- Tên không nên dài quá\n",
    "    + ví dụ nên: `arriveTime`; không nên: ~~the_time_that_John_arrive~~\n",
    "- Phong cách:\n",
    "    + dùng dấu gạch dưới; ví dụ: `partial_sum`, `people_count`\n",
    "    + dùng kiểu \"lạc đà\" (CamelCase); ví dụ: timeToArrival, ageOfJohn\n",
    "    \n"
   ]
  },
  {
   "cell_type": "markdown",
   "metadata": {},
   "source": [
    "## Các từ khoá của C++\n",
    "\n",
    "| &nbsp;  | &nbsp;  | &nbsp;  | &nbsp;  |&nbsp;  | &nbsp; |\n",
    "|:---|:---|:---|:---|:---|:---|\n",
    "|alignas (since C++11)|char16_t (since C++11)|double|long|register(2)|throw|\n",
    "|alignof (since C++11)|char32_t (since C++11)|dynamic_cast|module (modules TS)|reinterpret_cast|TRUE|\n",
    "|and|class(1)|else|mutable(1)|requires (since C++20)|try|\n",
    "|and_eq|compl|enum|namespace|return|typedef|\n",
    "|asm|concept (since C++20)|explicit|new|short|typeid|\n",
    "|atomic_cancel (TM TS)|const|export(1)|noexcept (since C++11)|signed|typename|\n",
    "|atomic_commit (TM TS)|constexpr (since C++11)|extern(1)|not|sizeof(1)|union|\n",
    "|atomic_noexcept (TM TS)|const_cast|FALSE|not_eq|static|unsigned|\n",
    "|auto(1)|continue|float|nullptr (since C++11)|static_assert (since C++11)|using(1)|\n",
    "|bitand|co_await (coroutines TS)|for|operator|static_cast|virtual|\n",
    "|bitor|co_return (coroutines TS)|friend|or|struct(1)|void|\n",
    "|bool|co_yield (coroutines TS)|goto|or_eq|switch|volatile|\n",
    "|break|decltype (since C++11)|if|private|synchronized (TM TS)|wchar_t|\n",
    "|case|default(1)|import (modules TS)|protected|template|while|\n",
    "|catch|delete(1)|inline(1)|public|this|xor|\n",
    "|char|do|int|reflexpr (reflection TS)|thread_local (since C++11)|xor_eq|\n",
    "\n",
    "For more details, check [https://en.cppreference.com/w/cpp/keyword](https://en.cppreference.com/w/cpp/keyword)\n",
    "\n",
    "Nếu dùng để đặt tên biến, điều gì sẽ xảy ra?"
   ]
  },
  {
   "cell_type": "code",
   "execution_count": 26,
   "metadata": {},
   "outputs": [
    {
     "name": "stdout",
     "output_type": "stream",
     "text": [
      "Overwriting varname_example.cpp\n"
     ]
    }
   ],
   "source": [
    "%%file varname_example.cpp\n",
    "\n",
    "// Ví dụ đặt tên biến trùng với từ khoá của C++\n",
    "#include <iostream>\n",
    "\n",
    "int main()\n",
    "{\n",
    "    int switch = 2;\n",
    "    std::cout << switch;\n",
    "    return 0;\n",
    "}"
   ]
  },
  {
   "cell_type": "markdown",
   "metadata": {},
   "source": [
    "## Basic types in C++\n",
    "\n",
    "- Integer (**`int`**): số nguyên, từ -2147483648 đến 2147483647\n",
    "- Character (**`char`**): ký tự\n",
    "- Boolean (**`bool`**): giá trị lô-gic, `true` hay `false`\n",
    "- Floating point (**`float`**): số thực, miền giá trị +/- 3.4e +/- 38 (~7 chữ số)\n",
    "- Double floating point (**`double`**): số thực, miền giá trị +/- 1.7e +/- 308 (~15 chữ số)\n",
    "- Void (**`void`**): kiểu không giá trị; thường để dùng cho hàm không trả lại giá trị nào\n",
    "- Wide character (**`wchar_t`**): ký tự rộng (ít dùng)\n",
    "\n",
    "Biến của chuỗi ký tự, dùng `string`."
   ]
  },
  {
   "cell_type": "markdown",
   "metadata": {},
   "source": [
    "## Tại sao cần kiểu dữ liệu?\n",
    "\n",
    "1. Kiểu dữ liệu khác nhau ở độ lớn bộ nhớ\n",
    "2. Kiểu dữ liệu giúp mô tả dữ liệu thực tế chính xác hơn\n",
    "2. Kiểu dữ liệu quyết định phép toán trên dữ liệu\n",
    "\n",
    "\n",
    "- ví dụ 1: nhập cin float cho biến int\n",
    "- ví dụ 2: nhập cin số nguyên rất lớn cho biến int\n",
    "\n",
    "\n",
    "- Cú pháp để kiểm tra kiểu dữ liệu của một biến:\n",
    "    + `typeid(varName).name();`\n",
    "    + Chú ý: kiểu tại run time!\n",
    "- Cú pháp để kiểm tra kích thước của một biến:\n",
    "    +`sizeof(varType);`"
   ]
  },
  {
   "cell_type": "code",
   "execution_count": 28,
   "metadata": {},
   "outputs": [
    {
     "name": "stdout",
     "output_type": "stream",
     "text": [
      "Writing sizeof_variable.cpp\n"
     ]
    }
   ],
   "source": [
    "%%file sizeof_variable.cpp\n",
    "\n",
    "\n",
    "#include <iostream>\n",
    " \n",
    "int main()\n",
    "{\n",
    "    std::cout << \"bool:\\t\\t\" << sizeof(bool) << \" bytes\" << std::endl;\n",
    "    std::cout << \"char:\\t\\t\" << sizeof(char) << \" bytes\" << std::endl;\n",
    "    std::cout << \"wchar_t:\\t\" << sizeof(wchar_t) << \" bytes\" << std::endl;\n",
    "    std::cout << \"char16_t:\\t\" << sizeof(char16_t) << \" bytes\" << std::endl; // C++11, may not be supported by your compiler\n",
    "    std::cout << \"char32_t:\\t\" << sizeof(char32_t) << \" bytes\" << std::endl; // C++11, may not be supported by your compiler\n",
    "    std::cout << \"short:\\t\\t\" << sizeof(short) << \" bytes\" << std::endl;\n",
    "    std::cout << \"int:\\t\\t\" << sizeof(int) << \" bytes\" << std::endl;\n",
    "    std::cout << \"long:\\t\\t\" << sizeof(long) << \" bytes\" << std::endl;\n",
    "    std::cout << \"long long:\\t\" << sizeof(long long) << \" bytes\" << std::endl; // C++11, may not be supported by your compiler\n",
    "    std::cout << \"float:\\t\\t\" << sizeof(float) << \" bytes\" << std::endl;\n",
    "    std::cout << \"double:\\t\\t\" << sizeof(double) << \" bytes\" << std::endl;\n",
    "    std::cout << \"long double:\\t\" << sizeof(long double) << \" bytes\" << std::endl;\n",
    "    return 0;\n",
    "}"
   ]
  },
  {
   "cell_type": "code",
   "execution_count": 52,
   "metadata": {},
   "outputs": [
    {
     "name": "stdout",
     "output_type": "stream",
     "text": [
      "Overwriting typeof_example.cpp\n"
     ]
    }
   ],
   "source": [
    "%%file typeof_example.cpp\n",
    "\n",
    "#include<iostream>\n",
    "#include<typeinfo>\n",
    "\n",
    "int main()\n",
    "{\n",
    "    const int i {2};\n",
    "    std::cout << \"Type of variable i is: \" << typeid(i).name() << std::endl;\n",
    "\n",
    "    return 0;\n",
    "}"
   ]
  },
  {
   "cell_type": "code",
   "execution_count": 56,
   "metadata": {},
   "outputs": [
    {
     "name": "stdout",
     "output_type": "stream",
     "text": [
      "Overwriting decltype_example.cpp\n"
     ]
    }
   ],
   "source": [
    "%%file decltype_example.cpp\n",
    "\n",
    "#include<iostream>\n",
    "\n",
    "using namespace std; \n",
    "int main() \n",
    "{ \n",
    "    int x = 5; \n",
    "  \n",
    "    // j will be of type int : data type of x \n",
    "    decltype(x) j = x+ 5; \n",
    "  \n",
    "    cout << typeid(j).name() << endl; \n",
    "  \n",
    "    return 0; \n",
    "} "
   ]
  },
  {
   "cell_type": "markdown",
   "metadata": {},
   "source": [
    "## Khởi tạo biến và gán giá trị cho biến\n",
    "\n",
    "`int age;` định nghĩa biến mà không khởi tạo.\n",
    "\n",
    "Biến `age` có một bộ nhớ riêng, nhưng giá trị biến là bao nhiêu?"
   ]
  },
  {
   "cell_type": "code",
   "execution_count": 27,
   "metadata": {},
   "outputs": [
    {
     "name": "stdout",
     "output_type": "stream",
     "text": [
      "Writing varVal_example.cpp\n"
     ]
    }
   ],
   "source": [
    "%%file varVal_example.cpp\n",
    "\n",
    "#include <iostream>\n",
    "\n",
    "int main()\n",
    "{\n",
    "    int age;\n",
    "    std::cout << \"Value of variable `age`: \" << age << \"\\n\";\n",
    "    \n",
    "    return 0;\n",
    "}"
   ]
  },
  {
   "cell_type": "markdown",
   "metadata": {},
   "source": [
    "### Gán giá trị cho biến\n",
    "\n",
    "Cú pháp:\n",
    "\n",
    "`varName = varVal;`\n",
    "\n",
    "Ví dụ:\n",
    "\n",
    "`int age;\n",
    " age = 30;`\n",
    " "
   ]
  },
  {
   "cell_type": "markdown",
   "metadata": {},
   "source": [
    "### 3 cách khởi tạo giá trị cho biến (Variable Initialization)\n",
    "\n",
    "- Copy initialization\n",
    "    + Cú pháp: `varType varName = varVal`\n",
    "    + Ví dụ: `int count = 1;`\n",
    "    + Tránh nhầm với gán giá trị cho biến\n",
    "    + **Khởi tạo** khi định nghĩa biến, **Gán** khi biến đã được định nghĩa\n",
    "- Direct initialization\n",
    "    + Cú pháp: `varType varName(varVal);`\n",
    "    + Ví dụ: `int count(1);`\n",
    "    + Giống cách gọi hàm; hiệu quả hơn đặc biệt khi dùng để khởi tạo lớp\n",
    "- Uniform initialization (C++11)\n",
    "    + Vì một vài kiểu biến không thể dùng cách copy hay direct initialization (ví dụ: mảng)\n",
    "    + Cú pháp: `varType varName{varVal};`\n",
    "    + Ví dụ: `int count{5};`\n",
    "    + `varType varName{};` khởi tạo biến `varName` với giá trị mặc định tuỳ kiểu\n",
    "    + Khuyến khích dùng cách này!\n",
    "    "
   ]
  },
  {
   "cell_type": "markdown",
   "metadata": {},
   "source": [
    "## Cung cấp thông tin bổ sung về biến\n",
    "\n",
    "1. Modifier\n",
    "2. Qualifier\n",
    "\n",
    "\n",
    "### Modifier của các kiểu dữ liệu `char`, `int`, và `double`\n",
    "\n",
    "- Thay đổi ý nghĩa của kiểu cơ bản.\n",
    "- Tăng sự chính xác hơn với sự cần thiết của các tình huống đa dạng.\n",
    "\n",
    "\n",
    "- `signed`: `int`, `char`, `long`, `short`\n",
    "- `unsigned`: `int`, `char`\n",
    "- `long`: `int`, `double`, `long`, `short`\n",
    "- `short`: `int`\n",
    "\n",
    "Xem thêm: [https://www.tutorialspoint.com/cplusplus/cpp_data_types.htm](https://www.tutorialspoint.com/cplusplus/cpp_data_types.htm)\n",
    "### Qualifier\n",
    "\n",
    "- `const`: Đối tượng không thể thay đổi giá trị khi chạy chương trình"
   ]
  },
  {
   "cell_type": "code",
   "execution_count": 57,
   "metadata": {},
   "outputs": [],
   "source": [
    "#include <iostream>\n",
    "using namespace std;"
   ]
  },
  {
   "cell_type": "code",
   "execution_count": 66,
   "metadata": {},
   "outputs": [
    {
     "name": "stdout",
     "output_type": "stream",
     "text": [
      "Size of char : 1\n",
      "Size of int : 4\n",
      "Size of short int : 2\n",
      "Size of long int : 8\n",
      "Size of float : 4\n",
      "Size of double : 8\n",
      "Size of wchar_t : 4\n"
     ]
    }
   ],
   "source": [
    "cout << \"Size of char : \" << sizeof(char) << endl;\n",
    "cout << \"Size of int : \" << sizeof(int) << endl;\n",
    "cout << \"Size of short int : \" << sizeof(short int) << endl;\n",
    "cout << \"Size of long int : \" << sizeof(long int) << endl;\n",
    "cout << \"Size of float : \" << sizeof(float) << endl;\n",
    "cout << \"Size of double : \" << sizeof(double) << endl;\n",
    "cout << \"Size of wchar_t : \" << sizeof(wchar_t) << endl;"
   ]
  },
  {
   "cell_type": "code",
   "execution_count": 71,
   "metadata": {},
   "outputs": [
    {
     "name": "stdout",
     "output_type": "stream",
     "text": [
      "Writing const_example.cpp\n"
     ]
    }
   ],
   "source": [
    "%%file const_example.cpp\n",
    "\n",
    "//Ví dụ về biến không thay đổi\n",
    "\n",
    "#include<iostream>\n",
    "\n",
    "int main()\n",
    "{\n",
    "    const float pi = 3.14;\n",
    "    \n",
    "    //gán lại giá trị \n",
    "    pi = 3.1415;\n",
    "    \n",
    "    return 0;\n",
    "}"
   ]
  },
  {
   "cell_type": "markdown",
   "metadata": {},
   "source": [
    "## Ví dụ dùng hàm\n"
   ]
  },
  {
   "cell_type": "code",
   "execution_count": 73,
   "metadata": {},
   "outputs": [
    {
     "name": "stdout",
     "output_type": "stream",
     "text": [
      "Overwriting func_example.cpp\n"
     ]
    }
   ],
   "source": [
    "%%file func_example.cpp\n",
    "\n",
    "#include <iostream>\n",
    "\n",
    "using namespace std;\n",
    "\n",
    "void printHelloWorld()\n",
    "{\n",
    "  cout << \"Hello, World !!!\" << endl;\n",
    "}\n",
    "\n",
    "\n",
    "int main()\n",
    "{\n",
    "  printHelloWorld();\n",
    "  return 0;\n",
    "}\n"
   ]
  },
  {
   "cell_type": "markdown",
   "metadata": {},
   "source": [
    "### Điều gì xảy ra nếu gọi hàm như sau:\n",
    "\n",
    "-`int main()\n",
    "{\n",
    "  printHelloWorld;\n",
    "  return 0;\n",
    "}`\n",
    "\n",
    "-`int main(){ cout << printHelloWorld() << endl; return 0;}`"
   ]
  },
  {
   "cell_type": "code",
   "execution_count": 77,
   "metadata": {},
   "outputs": [
    {
     "name": "stdout",
     "output_type": "stream",
     "text": [
      "Overwriting func2_example.cpp\n"
     ]
    }
   ],
   "source": [
    "%%file func2_example.cpp\n",
    "\n",
    "//Note: Using pipeline c++filt to demangle the output\n",
    "#include <iostream>\n",
    "\n",
    "using namespace std;\n",
    "\n",
    "void printHelloWorld()\n",
    "{\n",
    "  cout << \"Hello, World !!!\" << endl;\n",
    "}\n",
    "\n",
    "\n",
    "int main()\n",
    "{\n",
    "  cout << typeid(printHelloWorld).name() << endl;\n",
    "  return 0;\n",
    "}\n"
   ]
  },
  {
   "cell_type": "markdown",
   "metadata": {},
   "source": [
    "## Phép toán trên biến\n",
    "\n",
    "- `int`: \n",
    "    + Đại số cơ bản: `+, -, *, /`\n",
    "    + Tăng, giảm: `++, --`\n",
    "    + Modulo: `%`\n",
    "    + Gán: `=, +=, -=, *=, /=, %=`\n",
    "    + So sánh: `<, >, <=, >=, ==, !=`\n",
    "- `float`, `double`:\n",
    "    + Đại số cơ bản: `+, -, *, /`\n",
    "    + Gán: `=, +=, -=, *=, /=`\n",
    "    + So sánh: `<, >, <=, >=, ==, !=`\n",
    "- `bool`\n",
    "    + logic: `!` (NOT), `&&` (AND), `||` (OR)\n",
    "- `string`:\n",
    "    + Nối: `+, +=`\n",
    "    \n",
    "  \n",
    "Tham khảo: [http://www.cplusplus.com/doc/tutorial/operators/](http://www.cplusplus.com/doc/tutorial/operators/)\n",
    "\n",
    "From greatest to smallest priority, C++ operators are evaluated in the following order:\n",
    "<img src=\"operator_table.png\">\n"
   ]
  },
  {
   "cell_type": "markdown",
   "metadata": {},
   "source": [
    "### Ép kiểu (Type conversion)\n",
    "\n",
    "Chuyển đổi qua lại giữa những kiểu có khả năng lưu trữ giá trị giống nhau.\n",
    "\n",
    "Ví dụ:\n",
    "\n",
    "- `float f = 3;` //khởi tạo số thực bằng số nguyên\n",
    "- `double d = f;` \n",
    "- `float f2 = 10/3;` //giá trị của f2?\n",
    "- `char c = 'a'; c--;` // giá trị của c?\n"
   ]
  },
  {
   "cell_type": "markdown",
   "metadata": {},
   "source": [
    "### Thứ tự ưu tiên của kiểu\n",
    "\n",
    "- long double (highest)\n",
    "- double\n",
    "- float\n",
    "- unsigned long long\n",
    "- long long\n",
    "- unsigned long\n",
    "- long\n",
    "- unsigned int\n",
    "- int (lowest)"
   ]
  },
  {
   "cell_type": "markdown",
   "metadata": {},
   "source": [
    "## (Advanced) More about `cin`\n",
    "\n",
    "Tham khảo: [https://www.learncpp.com/cpp-tutorial/5-10-stdcin-extraction-and-dealing-with-invalid-text-input/](https://www.learncpp.com/cpp-tutorial/5-10-stdcin-extraction-and-dealing-with-invalid-text-input/)\n",
    "\n",
    "Khi nào thì `cin >>` thất bại?\n",
    "\n",
    "Dữ liệu nhập từ bàn phím luôn qua một *data buffer*.\n",
    "\n",
    "Khi phép toán `>>` (trích dữ liệu - data extraction operator) được gọi,\n",
    "\n",
    "- Nếu dữ liệu có sẵn ở `buffer`, dữ liệu đó sẽ được trích lọc ra\n",
    "- Khi người dùng nhập và ấn `enter` (xuống dòng), một kí tự `\\n` sẽ được đặt vào buffer\n",
    "- Phép toán `>>` sẽ trích lọc dữ liệu nhiều nhất có thể từ buffer để gán vào biến, bỏ qua các kí tự trắng (dấu cách, tabs hay xuống dòng)\n",
    "- Mọi dữ liệu không được trích lọc sẽ tồn tại trong buffer cho lần trích lọc sau\n",
    "\n",
    "### Thử:\n",
    "- Nhập vào nhiều dữ liệu một lúc\n",
    "- Nhập dữ liệu với kiểu không đúng với biến\n",
    "- Nhập dữ liệu vượt quá giới hạn của biến\n",
    "- Nhập dữ liệu trước khi có thông báo nhập\n",
    "\n",
    "### Xoá dữ liệu ở buffer\n",
    "\n",
    "\n",
    "```\n",
    "// clear (up to 32767) characters out of the buffer until a '\\n' character is removed\n",
    "std::cin.ignore(32767, '\\n');\n",
    "```\n",
    "\n",
    "### Tiếp tục nếu bị thất bại\n",
    "\n",
    "```\n",
    "if (std::cin.fail()) // has a previous extraction failed?\n",
    "{\n",
    "    // yep, so let's handle the failure\n",
    "    std::cin.clear(); // put us back in 'normal' operation mode\n",
    "    std::cin.ignore(32767,'\\n'); // and remove the bad input\n",
    "}\n",
    "```"
   ]
  },
  {
   "cell_type": "markdown",
   "metadata": {},
   "source": [
    "# Tóm tắt tuần 2\n",
    "\n",
    "- Biến là đối tượng có giá trị và bộ nhớ\n",
    "    + Cần được khởi tạo dùng các kiểu dữ liệu (cơ bản như `int`, `char`, `float`, `double`, `bool` hay người dùng tự đặt)\n",
    "    + Và có tên (tránh các từ khoá của chương trình biên dịch)\n",
    "- Kiểu dữ liệu quyết định kích thước bộ nhớ, giới hạn giá trị và các phép toán trên biến\n",
    "- Gỡ lỗi với `sizeof()` and `typeid(varName).name()`\n",
    "- `cin` có thể thất bại khi trích lọc dữ liệu từ luồng chuẩn"
   ]
  }
 ],
 "metadata": {
  "kernelspec": {
   "display_name": "C++11",
   "language": "C++11",
   "name": "xeus-cling-cpp11"
  },
  "language_info": {
   "codemirror_mode": "text/x-c++src",
   "file_extension": ".cpp",
   "mimetype": "text/x-c++src",
   "name": "c++",
   "version": "-std=c++11"
  }
 },
 "nbformat": 4,
 "nbformat_minor": 2
}
