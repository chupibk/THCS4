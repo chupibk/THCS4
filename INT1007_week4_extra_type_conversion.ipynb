{
 "cells": [
  {
   "cell_type": "markdown",
   "metadata": {},
   "source": [
    "# TIN HỌC CƠ SỞ 4 (IT1006 7)\n",
    "\n",
    "#### Diep Nguyen, Ph.D. (ngocdiep@vnu.edu.vn)\n",
    "\n",
    "## https://github.com/chupibk/THCS4\n"
   ]
  },
  {
   "cell_type": "markdown",
   "metadata": {},
   "source": [
    "## Type conversion (ép kiểu)\n",
    "\n",
    "Quá trình chuyển một kiểu dữ liệu sang kiểu dữ liệu khác.\n",
    "\n",
    "2 loại ép kiểu:\n",
    "\n",
    "1. Implicit (ngầm)\n",
    "2. Explicit (rõ ràng) - hay còn gọi là casting\n",
    "\n",
    "### Implicit conversion\n",
    "\n",
    "- Được thực hiện tự động bởi chương trình biên dịch.\n",
    "- Thường giữa các kiểu dữ liệu số cơ bản (`short` to `int`, `int` to `float`, `double` to `int`\n",
    "- Hay từ hay tới kiểu `bool`, và `char`\n",
    "\n",
    "\n",
    "#### Chuyển đổi bảo toàn giá trị (Promotion)\n",
    "\n",
    "- Chuyển kiểu từ các kiểu số nguyên bé hơn sang `int`, hay từ `float` sang `double`\n",
    "- Chuyển từ `char` hay `bool` sang `int` \n",
    "- Giá trị được bảo đảm giữ nguyên\n",
    "\n",
    "#### Các chuyển đổi gây mất độ chính xác\n",
    "\n",
    "- `float` sang `int` gây **truncation** = mất phần không nguyên\n",
    "- `double` sang `float` gây **rounding of digit** = làm tròn của số\n",
    "- `long` sang `int` gây **dropping of excess higher order bits**\n"
   ]
  },
  {
   "cell_type": "code",
   "execution_count": 5,
   "metadata": {},
   "outputs": [
    {
     "name": "stdout",
     "output_type": "stream",
     "text": [
      "Overwriting int_conv.cpp\n"
     ]
    }
   ],
   "source": [
    "%%file int_conv.cpp\n",
    "\n",
    "#include <iostream>\n",
    "\n",
    "using namespace std;\n",
    "\n",
    "\n",
    "int main()\n",
    "{\n",
    "    short a = 2000;\n",
    "    int b;\n",
    "    b = a; // Giá trị của a được chuyển từ `short` sang `int` \n",
    "    cout << a << endl;\n",
    "    cout << b << endl;\n",
    "    \n",
    "    float x = 35.0;\n",
    "    cout << x <<endl;\n",
    "}\n"
   ]
  },
  {
   "cell_type": "code",
   "execution_count": 1,
   "metadata": {},
   "outputs": [],
   "source": [
    "#include <iostream>\n",
    "\n",
    "using namespace std;\n"
   ]
  },
  {
   "cell_type": "code",
   "execution_count": 2,
   "metadata": {},
   "outputs": [
    {
     "name": "stdout",
     "output_type": "stream",
     "text": [
      "The value of b is: 3.52133e+07"
     ]
    }
   ],
   "source": [
    "int a = 35213312;\n",
    "float b;\n",
    "b = a; //from int to float\n",
    "\n",
    "cout << \"The value of b is: \" << b;"
   ]
  },
  {
   "cell_type": "code",
   "execution_count": 3,
   "metadata": {},
   "outputs": [
    {
     "name": "stdout",
     "output_type": "stream",
     "text": [
      "16777217\n",
      "1.67772e+07\n",
      "1\n"
     ]
    },
    {
     "data": {
      "text/plain": [
       "@0x1057b3010"
      ]
     },
     "execution_count": 3,
     "metadata": {},
     "output_type": "execute_result"
    }
   ],
   "source": [
    "int i_val   = 16777217;\n",
    "float f_val = 16777216.0;\n",
    "\n",
    "cout << i_val << endl;\n",
    "cout << f_val << endl;\n",
    "cout << (i_val == f_val) << endl; //Có bằng nhau không?"
   ]
  },
  {
   "cell_type": "code",
   "execution_count": 4,
   "metadata": {},
   "outputs": [
    {
     "name": "stdout",
     "output_type": "stream",
     "text": [
      "1.67772e+07\n",
      "1.67772e+07\n"
     ]
    }
   ],
   "source": [
    "//Because i_val is converted to float type when evaluated i_val == f_val\n",
    "float fi_val = i_val;\n",
    "cout << f_val << endl;\n",
    "cout << fi_val << endl;"
   ]
  },
  {
   "cell_type": "code",
   "execution_count": 5,
   "metadata": {},
   "outputs": [
    {
     "name": "stderr",
     "output_type": "stream",
     "text": [
      "\u001b[1minput_line_15:3:9: \u001b[0m\u001b[0;1;35mwarning: \u001b[0m\u001b[1mimplicit conversion from 'double' to 'int' changes value from 55.7 to 55\n",
      "      [-Wliteral-conversion]\u001b[0m\n",
      "int y = 55.7;\n",
      "\u001b[0;1;32m    ~   ^~~~\n",
      "\u001b[0m"
     ]
    },
    {
     "name": "stdout",
     "output_type": "stream",
     "text": [
      "55"
     ]
    }
   ],
   "source": [
    "//Ví dụ chuyển kiểu\n",
    "int x;\n",
    "int y = 55.7;\n",
    "x=y; //type conversion\n",
    "cout << y;"
   ]
  },
  {
   "cell_type": "markdown",
   "metadata": {},
   "source": [
    "### Lưu ý\n",
    "\n",
    "- Thứ tự phép tính (**operator precedence**) ảnh hưởng tới hướng chuyển kiểu\n",
    "- Phép gán `=` thực hiện từ *phải sang trái* => kiểu của dữ liệu bên phải bị ép theo kiểu của dữ liệu bên trái\n",
    "- Phép so sánh `==` thực hiện từ *trái sang phải* => ép kiểu từ trái sang phải\n",
    "\n",
    "Tra cứu thứ tự phép tính:\n",
    "[https://en.cppreference.com/w/cpp/language/operator_precedence](https://en.cppreference.com/w/cpp/language/operator_precedence)"
   ]
  },
  {
   "cell_type": "markdown",
   "metadata": {},
   "source": [
    "### Ép kiểu rõ ràng\n",
    "\n",
    "Cú pháp:\n",
    "\n",
    "- C-style: `(data_type)expression;`\n",
    "- C++:      `data_type(expression);`"
   ]
  },
  {
   "cell_type": "code",
   "execution_count": 6,
   "metadata": {},
   "outputs": [
    {
     "name": "stdout",
     "output_type": "stream",
     "text": [
      "0\n"
     ]
    }
   ],
   "source": [
    "int i1 = 1;\n",
    "int i2 = 2;\n",
    "\n",
    "cout << i1/i2 << endl;"
   ]
  },
  {
   "cell_type": "code",
   "execution_count": 7,
   "metadata": {},
   "outputs": [
    {
     "name": "stdout",
     "output_type": "stream",
     "text": [
      "0\n"
     ]
    }
   ],
   "source": [
    "cout << float(i1/i2) << endl;"
   ]
  },
  {
   "cell_type": "code",
   "execution_count": 8,
   "metadata": {},
   "outputs": [
    {
     "name": "stdout",
     "output_type": "stream",
     "text": [
      "0.5\n"
     ]
    }
   ],
   "source": [
    "cout << float(i1)/i2 << endl;"
   ]
  },
  {
   "cell_type": "code",
   "execution_count": 10,
   "metadata": {},
   "outputs": [
    {
     "name": "stdout",
     "output_type": "stream",
     "text": [
      "0.5\n"
     ]
    },
    {
     "data": {
      "text/plain": [
       "@0x1057b3010"
      ]
     },
     "execution_count": 10,
     "metadata": {},
     "output_type": "execute_result"
    }
   ],
   "source": [
    "cout << (float) i1/i2 << endl; // (float) i1 ưu tiên thực hiện trước"
   ]
  },
  {
   "cell_type": "code",
   "execution_count": null,
   "metadata": {},
   "outputs": [],
   "source": []
  }
 ],
 "metadata": {
  "kernelspec": {
   "display_name": "C++11",
   "language": "C++11",
   "name": "xeus-cling-cpp11"
  },
  "language_info": {
   "codemirror_mode": "text/x-c++src",
   "file_extension": ".cpp",
   "mimetype": "text/x-c++src",
   "name": "c++",
   "version": "-std=c++11"
  }
 },
 "nbformat": 4,
 "nbformat_minor": 2
}
